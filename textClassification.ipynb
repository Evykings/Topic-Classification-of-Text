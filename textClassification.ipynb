{
  "cells": [
    {
      "cell_type": "code",
      "execution_count": 1,
      "metadata": {
        "id": "mGMG9Tt8O5-t"
      },
      "outputs": [],
      "source": [
        "# Load python modules\n",
        "\n",
        "import numpy as np # numpy is a library that allows us to work with vectors and matrices\n",
        "import matplotlib.pyplot as plt # visualisation library\n",
        "import pandas as pd # pandas is a library that allows us to work with DataFrames\n",
        "from sklearn.model_selection import train_test_split\n",
        "import seaborn as sns\n"
      ]
    },
    {
      "cell_type": "code",
      "execution_count": 2,
      "metadata": {
        "colab": {
          "base_uri": "https://localhost:8080/"
        },
        "id": "hjclNBDXPEtF",
        "outputId": "3f379698-c514-4613-9b0b-c9142f288350"
      },
      "outputs": [
        {
          "output_type": "stream",
          "name": "stdout",
          "text": [
            "Mounted at /content/drive\n"
          ]
        }
      ],
      "source": [
        "# Connect google colab to your google drive.\n",
        "# Note that you need to be logged in to your google account for this step to work\n",
        "USING_COLAB = True # change this to false if you're working on a local machine\n",
        "\n",
        "if USING_COLAB:\n",
        "  from google.colab import drive\n",
        "  drive.mount('/content/drive')"
      ]
    },
    {
      "cell_type": "code",
      "execution_count": 3,
      "metadata": {
        "colab": {
          "base_uri": "https://localhost:8080/",
          "height": 598
        },
        "id": "yZeyAf-WPR9K",
        "outputId": "c746bd96-6f07-46e0-b5fe-19b50d037bd5"
      },
      "outputs": [
        {
          "output_type": "execute_result",
          "data": {
            "text/plain": [
              "         par_id                                          paragraph  \\\n",
              "0  428209002237  Ramsay was born in Glasgow on 2 October 1852. ...   \n",
              "1  564218010072  It has been widely estimated for at least the ...   \n",
              "2  291401001672  He went on to win the Royal Medal of the Royal...   \n",
              "3   31548004883  The changes have altered many underlying assum...   \n",
              "4   50634005146  After these novels were published, Disraeli de...   \n",
              "\n",
              "                        has_entity  lexicon_count  difficult_words  \\\n",
              "0   ORG_YES_PRODUCT_NO_PERSON_YES_             49             12.0   \n",
              "1    ORG_YES_PRODUCT_NO_PERSON_NO_            166             47.0   \n",
              "2    ORG_YES_PRODUCT_NO_PERSON_NO_             69             18.0   \n",
              "3    ORG_NO_PRODUCT_YES_PERSON_NO_             76             27.0   \n",
              "4  ORG_YES_PRODUCT_YES_PERSON_YES_            200             47.0   \n",
              "\n",
              "  last_editor_gender                 category      text_clarity  \n",
              "0                man              biographies      clear_enough  \n",
              "1                man  artificial intelligence  not_clear_enough  \n",
              "2         non-binary              biographies      clear_enough  \n",
              "3         non-binary              programming      clear_enough  \n",
              "4                man              biographies  not_clear_enough  "
            ],
            "text/html": [
              "\n",
              "  <div id=\"df-8a69164d-34b0-4569-810b-83d539694bfe\" class=\"colab-df-container\">\n",
              "    <div>\n",
              "<style scoped>\n",
              "    .dataframe tbody tr th:only-of-type {\n",
              "        vertical-align: middle;\n",
              "    }\n",
              "\n",
              "    .dataframe tbody tr th {\n",
              "        vertical-align: top;\n",
              "    }\n",
              "\n",
              "    .dataframe thead th {\n",
              "        text-align: right;\n",
              "    }\n",
              "</style>\n",
              "<table border=\"1\" class=\"dataframe\">\n",
              "  <thead>\n",
              "    <tr style=\"text-align: right;\">\n",
              "      <th></th>\n",
              "      <th>par_id</th>\n",
              "      <th>paragraph</th>\n",
              "      <th>has_entity</th>\n",
              "      <th>lexicon_count</th>\n",
              "      <th>difficult_words</th>\n",
              "      <th>last_editor_gender</th>\n",
              "      <th>category</th>\n",
              "      <th>text_clarity</th>\n",
              "    </tr>\n",
              "  </thead>\n",
              "  <tbody>\n",
              "    <tr>\n",
              "      <th>0</th>\n",
              "      <td>428209002237</td>\n",
              "      <td>Ramsay was born in Glasgow on 2 October 1852. ...</td>\n",
              "      <td>ORG_YES_PRODUCT_NO_PERSON_YES_</td>\n",
              "      <td>49</td>\n",
              "      <td>12.0</td>\n",
              "      <td>man</td>\n",
              "      <td>biographies</td>\n",
              "      <td>clear_enough</td>\n",
              "    </tr>\n",
              "    <tr>\n",
              "      <th>1</th>\n",
              "      <td>564218010072</td>\n",
              "      <td>It has been widely estimated for at least the ...</td>\n",
              "      <td>ORG_YES_PRODUCT_NO_PERSON_NO_</td>\n",
              "      <td>166</td>\n",
              "      <td>47.0</td>\n",
              "      <td>man</td>\n",
              "      <td>artificial intelligence</td>\n",
              "      <td>not_clear_enough</td>\n",
              "    </tr>\n",
              "    <tr>\n",
              "      <th>2</th>\n",
              "      <td>291401001672</td>\n",
              "      <td>He went on to win the Royal Medal of the Royal...</td>\n",
              "      <td>ORG_YES_PRODUCT_NO_PERSON_NO_</td>\n",
              "      <td>69</td>\n",
              "      <td>18.0</td>\n",
              "      <td>non-binary</td>\n",
              "      <td>biographies</td>\n",
              "      <td>clear_enough</td>\n",
              "    </tr>\n",
              "    <tr>\n",
              "      <th>3</th>\n",
              "      <td>31548004883</td>\n",
              "      <td>The changes have altered many underlying assum...</td>\n",
              "      <td>ORG_NO_PRODUCT_YES_PERSON_NO_</td>\n",
              "      <td>76</td>\n",
              "      <td>27.0</td>\n",
              "      <td>non-binary</td>\n",
              "      <td>programming</td>\n",
              "      <td>clear_enough</td>\n",
              "    </tr>\n",
              "    <tr>\n",
              "      <th>4</th>\n",
              "      <td>50634005146</td>\n",
              "      <td>After these novels were published, Disraeli de...</td>\n",
              "      <td>ORG_YES_PRODUCT_YES_PERSON_YES_</td>\n",
              "      <td>200</td>\n",
              "      <td>47.0</td>\n",
              "      <td>man</td>\n",
              "      <td>biographies</td>\n",
              "      <td>not_clear_enough</td>\n",
              "    </tr>\n",
              "  </tbody>\n",
              "</table>\n",
              "</div>\n",
              "    <div class=\"colab-df-buttons\">\n",
              "\n",
              "  <div class=\"colab-df-container\">\n",
              "    <button class=\"colab-df-convert\" onclick=\"convertToInteractive('df-8a69164d-34b0-4569-810b-83d539694bfe')\"\n",
              "            title=\"Convert this dataframe to an interactive table.\"\n",
              "            style=\"display:none;\">\n",
              "\n",
              "  <svg xmlns=\"http://www.w3.org/2000/svg\" height=\"24px\" viewBox=\"0 -960 960 960\">\n",
              "    <path d=\"M120-120v-720h720v720H120Zm60-500h600v-160H180v160Zm220 220h160v-160H400v160Zm0 220h160v-160H400v160ZM180-400h160v-160H180v160Zm440 0h160v-160H620v160ZM180-180h160v-160H180v160Zm440 0h160v-160H620v160Z\"/>\n",
              "  </svg>\n",
              "    </button>\n",
              "\n",
              "  <style>\n",
              "    .colab-df-container {\n",
              "      display:flex;\n",
              "      gap: 12px;\n",
              "    }\n",
              "\n",
              "    .colab-df-convert {\n",
              "      background-color: #E8F0FE;\n",
              "      border: none;\n",
              "      border-radius: 50%;\n",
              "      cursor: pointer;\n",
              "      display: none;\n",
              "      fill: #1967D2;\n",
              "      height: 32px;\n",
              "      padding: 0 0 0 0;\n",
              "      width: 32px;\n",
              "    }\n",
              "\n",
              "    .colab-df-convert:hover {\n",
              "      background-color: #E2EBFA;\n",
              "      box-shadow: 0px 1px 2px rgba(60, 64, 67, 0.3), 0px 1px 3px 1px rgba(60, 64, 67, 0.15);\n",
              "      fill: #174EA6;\n",
              "    }\n",
              "\n",
              "    .colab-df-buttons div {\n",
              "      margin-bottom: 4px;\n",
              "    }\n",
              "\n",
              "    [theme=dark] .colab-df-convert {\n",
              "      background-color: #3B4455;\n",
              "      fill: #D2E3FC;\n",
              "    }\n",
              "\n",
              "    [theme=dark] .colab-df-convert:hover {\n",
              "      background-color: #434B5C;\n",
              "      box-shadow: 0px 1px 3px 1px rgba(0, 0, 0, 0.15);\n",
              "      filter: drop-shadow(0px 1px 2px rgba(0, 0, 0, 0.3));\n",
              "      fill: #FFFFFF;\n",
              "    }\n",
              "  </style>\n",
              "\n",
              "    <script>\n",
              "      const buttonEl =\n",
              "        document.querySelector('#df-8a69164d-34b0-4569-810b-83d539694bfe button.colab-df-convert');\n",
              "      buttonEl.style.display =\n",
              "        google.colab.kernel.accessAllowed ? 'block' : 'none';\n",
              "\n",
              "      async function convertToInteractive(key) {\n",
              "        const element = document.querySelector('#df-8a69164d-34b0-4569-810b-83d539694bfe');\n",
              "        const dataTable =\n",
              "          await google.colab.kernel.invokeFunction('convertToInteractive',\n",
              "                                                    [key], {});\n",
              "        if (!dataTable) return;\n",
              "\n",
              "        const docLinkHtml = 'Like what you see? Visit the ' +\n",
              "          '<a target=\"_blank\" href=https://colab.research.google.com/notebooks/data_table.ipynb>data table notebook</a>'\n",
              "          + ' to learn more about interactive tables.';\n",
              "        element.innerHTML = '';\n",
              "        dataTable['output_type'] = 'display_data';\n",
              "        await google.colab.output.renderOutput(dataTable, element);\n",
              "        const docLink = document.createElement('div');\n",
              "        docLink.innerHTML = docLinkHtml;\n",
              "        element.appendChild(docLink);\n",
              "      }\n",
              "    </script>\n",
              "  </div>\n",
              "\n",
              "\n",
              "<div id=\"df-61d32370-da62-4339-ba3b-4aff17abf4cf\">\n",
              "  <button class=\"colab-df-quickchart\" onclick=\"quickchart('df-61d32370-da62-4339-ba3b-4aff17abf4cf')\"\n",
              "            title=\"Suggest charts\"\n",
              "            style=\"display:none;\">\n",
              "\n",
              "<svg xmlns=\"http://www.w3.org/2000/svg\" height=\"24px\"viewBox=\"0 0 24 24\"\n",
              "     width=\"24px\">\n",
              "    <g>\n",
              "        <path d=\"M19 3H5c-1.1 0-2 .9-2 2v14c0 1.1.9 2 2 2h14c1.1 0 2-.9 2-2V5c0-1.1-.9-2-2-2zM9 17H7v-7h2v7zm4 0h-2V7h2v10zm4 0h-2v-4h2v4z\"/>\n",
              "    </g>\n",
              "</svg>\n",
              "  </button>\n",
              "\n",
              "<style>\n",
              "  .colab-df-quickchart {\n",
              "      --bg-color: #E8F0FE;\n",
              "      --fill-color: #1967D2;\n",
              "      --hover-bg-color: #E2EBFA;\n",
              "      --hover-fill-color: #174EA6;\n",
              "      --disabled-fill-color: #AAA;\n",
              "      --disabled-bg-color: #DDD;\n",
              "  }\n",
              "\n",
              "  [theme=dark] .colab-df-quickchart {\n",
              "      --bg-color: #3B4455;\n",
              "      --fill-color: #D2E3FC;\n",
              "      --hover-bg-color: #434B5C;\n",
              "      --hover-fill-color: #FFFFFF;\n",
              "      --disabled-bg-color: #3B4455;\n",
              "      --disabled-fill-color: #666;\n",
              "  }\n",
              "\n",
              "  .colab-df-quickchart {\n",
              "    background-color: var(--bg-color);\n",
              "    border: none;\n",
              "    border-radius: 50%;\n",
              "    cursor: pointer;\n",
              "    display: none;\n",
              "    fill: var(--fill-color);\n",
              "    height: 32px;\n",
              "    padding: 0;\n",
              "    width: 32px;\n",
              "  }\n",
              "\n",
              "  .colab-df-quickchart:hover {\n",
              "    background-color: var(--hover-bg-color);\n",
              "    box-shadow: 0 1px 2px rgba(60, 64, 67, 0.3), 0 1px 3px 1px rgba(60, 64, 67, 0.15);\n",
              "    fill: var(--button-hover-fill-color);\n",
              "  }\n",
              "\n",
              "  .colab-df-quickchart-complete:disabled,\n",
              "  .colab-df-quickchart-complete:disabled:hover {\n",
              "    background-color: var(--disabled-bg-color);\n",
              "    fill: var(--disabled-fill-color);\n",
              "    box-shadow: none;\n",
              "  }\n",
              "\n",
              "  .colab-df-spinner {\n",
              "    border: 2px solid var(--fill-color);\n",
              "    border-color: transparent;\n",
              "    border-bottom-color: var(--fill-color);\n",
              "    animation:\n",
              "      spin 1s steps(1) infinite;\n",
              "  }\n",
              "\n",
              "  @keyframes spin {\n",
              "    0% {\n",
              "      border-color: transparent;\n",
              "      border-bottom-color: var(--fill-color);\n",
              "      border-left-color: var(--fill-color);\n",
              "    }\n",
              "    20% {\n",
              "      border-color: transparent;\n",
              "      border-left-color: var(--fill-color);\n",
              "      border-top-color: var(--fill-color);\n",
              "    }\n",
              "    30% {\n",
              "      border-color: transparent;\n",
              "      border-left-color: var(--fill-color);\n",
              "      border-top-color: var(--fill-color);\n",
              "      border-right-color: var(--fill-color);\n",
              "    }\n",
              "    40% {\n",
              "      border-color: transparent;\n",
              "      border-right-color: var(--fill-color);\n",
              "      border-top-color: var(--fill-color);\n",
              "    }\n",
              "    60% {\n",
              "      border-color: transparent;\n",
              "      border-right-color: var(--fill-color);\n",
              "    }\n",
              "    80% {\n",
              "      border-color: transparent;\n",
              "      border-right-color: var(--fill-color);\n",
              "      border-bottom-color: var(--fill-color);\n",
              "    }\n",
              "    90% {\n",
              "      border-color: transparent;\n",
              "      border-bottom-color: var(--fill-color);\n",
              "    }\n",
              "  }\n",
              "</style>\n",
              "\n",
              "  <script>\n",
              "    async function quickchart(key) {\n",
              "      const quickchartButtonEl =\n",
              "        document.querySelector('#' + key + ' button');\n",
              "      quickchartButtonEl.disabled = true;  // To prevent multiple clicks.\n",
              "      quickchartButtonEl.classList.add('colab-df-spinner');\n",
              "      try {\n",
              "        const charts = await google.colab.kernel.invokeFunction(\n",
              "            'suggestCharts', [key], {});\n",
              "      } catch (error) {\n",
              "        console.error('Error during call to suggestCharts:', error);\n",
              "      }\n",
              "      quickchartButtonEl.classList.remove('colab-df-spinner');\n",
              "      quickchartButtonEl.classList.add('colab-df-quickchart-complete');\n",
              "    }\n",
              "    (() => {\n",
              "      let quickchartButtonEl =\n",
              "        document.querySelector('#df-61d32370-da62-4339-ba3b-4aff17abf4cf button');\n",
              "      quickchartButtonEl.style.display =\n",
              "        google.colab.kernel.accessAllowed ? 'block' : 'none';\n",
              "    })();\n",
              "  </script>\n",
              "</div>\n",
              "    </div>\n",
              "  </div>\n"
            ],
            "application/vnd.google.colaboratory.intrinsic+json": {
              "type": "dataframe",
              "variable_name": "df",
              "summary": "{\n  \"name\": \"df\",\n  \"rows\": 9347,\n  \"fields\": [\n    {\n      \"column\": \"par_id\",\n      \"properties\": {\n        \"dtype\": \"number\",\n        \"std\": 322139880749,\n        \"min\": 85003276,\n        \"max\": 1058779003275,\n        \"num_unique_values\": 9132,\n        \"samples\": [\n          759851002842,\n          77886005808,\n          325706008765\n        ],\n        \"semantic_type\": \"\",\n        \"description\": \"\"\n      }\n    },\n    {\n      \"column\": \"paragraph\",\n      \"properties\": {\n        \"dtype\": \"string\",\n        \"num_unique_values\": 8992,\n        \"samples\": [\n          \"In 1891, Thomas married Mary Kane, daughter of Sir Andrew Clark, heiress to a small fortune, which gave him the finances to hire mammal collectors and present their specimens to the museum. He also did field work himself in Western Europe and South America. His wife shared his interest in natural history, and accompanied him on collecting trips. In 1896, when William Henry Flower took control of the department, he hired Richard Lydekker to rearrange the exhibitions, allowing Thomas to concentrate on these new specimens.Thomas viewed his taxonomy efforts from the scope of British imperialism. \\\"You and I in our scientific lives have seen the general knowledge of Mammals of the world wonderfully advanced \\u2013 there are few or no blank areas anymore,\\\" he said in a letter to Gerrit Smith Miller Jr.Officially retired from the museum in 1923, he continued his work without interruption. Although popular rumours suggested he died by shooting himself with a handgun while sitting at his museum desk, he actually died at home in 1929, aged 71, about a year after the death of his wife, \\\"a severe blow from which he never recovered.\\\"\",\n          \"Disraeli always considered foreign affairs to be the most critical and interesting part of statesmanship. Nevertheless, his biographer Robert Blake doubts that his subject had specific ideas about foreign policy when he took office in 1874. He had rarely travelled abroad; since his youthful tour of the Middle East in 1830\\u20131831, he had left Britain only for his honeymoon and three visits to Paris, the last of which was in 1856. As he had criticised Gladstone for a do-nothing foreign policy, he most probably contemplated what actions would reassert Britain's place in Europe. His brief first premiership, and the first year of his second, gave him little opportunity to make his mark in foreign affairs.\",\n          \"I have sent your Watch at last & envy the felicity of it, that it should be soe near your side & soe often enjoy your Eye. ... .but have a care for it, for I have put such a spell into it; that every Beating of the Balance will tell you 'tis the Pulse of my Heart, which labors as much to serve you and more trewly than the Watch; for the Watch I beleeve will sometimes lie, and sometimes be idle & unwilling ... but as for me you may be confident I shall never ...\"\n        ],\n        \"semantic_type\": \"\",\n        \"description\": \"\"\n      }\n    },\n    {\n      \"column\": \"has_entity\",\n      \"properties\": {\n        \"dtype\": \"category\",\n        \"num_unique_values\": 9,\n        \"samples\": [\n          \"ORG_YES_PRODUCT_YES_PERSON_NO_\",\n          \"ORG_YES_PRODUCT_NO_PERSON_NO_\",\n          \"ORG_NO_PRODUCT_YES_PERSON_YES_\"\n        ],\n        \"semantic_type\": \"\",\n        \"description\": \"\"\n      }\n    },\n    {\n      \"column\": \"lexicon_count\",\n      \"properties\": {\n        \"dtype\": \"number\",\n        \"std\": 63,\n        \"min\": 0,\n        \"max\": 653,\n        \"num_unique_values\": 348,\n        \"samples\": [\n          237,\n          82,\n          274\n        ],\n        \"semantic_type\": \"\",\n        \"description\": \"\"\n      }\n    },\n    {\n      \"column\": \"difficult_words\",\n      \"properties\": {\n        \"dtype\": \"number\",\n        \"std\": 16.307358092882417,\n        \"min\": 0.0,\n        \"max\": 143.0,\n        \"num_unique_values\": 113,\n        \"samples\": [\n          96.0,\n          36.0,\n          15.0\n        ],\n        \"semantic_type\": \"\",\n        \"description\": \"\"\n      }\n    },\n    {\n      \"column\": \"last_editor_gender\",\n      \"properties\": {\n        \"dtype\": \"category\",\n        \"num_unique_values\": 4,\n        \"samples\": [\n          \"non-binary\",\n          \"prefer_not_to_say\",\n          \"man\"\n        ],\n        \"semantic_type\": \"\",\n        \"description\": \"\"\n      }\n    },\n    {\n      \"column\": \"category\",\n      \"properties\": {\n        \"dtype\": \"category\",\n        \"num_unique_values\": 10,\n        \"samples\": [\n          \"Biographies\",\n          \"artificial intelligence\",\n          \"Philosophy\"\n        ],\n        \"semantic_type\": \"\",\n        \"description\": \"\"\n      }\n    },\n    {\n      \"column\": \"text_clarity\",\n      \"properties\": {\n        \"dtype\": \"category\",\n        \"num_unique_values\": 2,\n        \"samples\": [\n          \"not_clear_enough\",\n          \"clear_enough\"\n        ],\n        \"semantic_type\": \"\",\n        \"description\": \"\"\n      }\n    }\n  ]\n}"
            }
          },
          "metadata": {},
          "execution_count": 3
        }
      ],
      "source": [
        "X = pd.read_csv('/content/drive/MyDrive/comp1804_coursework_dataset_23-24.csv')\n",
        "df = pd.DataFrame(X)\n",
        "df.head(5)"
      ]
    },
    {
      "cell_type": "code",
      "execution_count": 4,
      "metadata": {
        "colab": {
          "base_uri": "https://localhost:8080/"
        },
        "id": "3LOtGddhpFMz",
        "outputId": "d3ca3eb5-affa-4b36-f726-93ad87ab15df"
      },
      "outputs": [
        {
          "output_type": "execute_result",
          "data": {
            "text/plain": [
              "(9347, 8)"
            ]
          },
          "metadata": {},
          "execution_count": 4
        }
      ],
      "source": [
        "df.shape"
      ]
    },
    {
      "cell_type": "markdown",
      "metadata": {
        "id": "Nn7B92DBPYbF"
      },
      "source": [
        "EDA on the data set"
      ]
    },
    {
      "cell_type": "code",
      "execution_count": 5,
      "metadata": {
        "colab": {
          "base_uri": "https://localhost:8080/"
        },
        "id": "De4LUybePgq2",
        "outputId": "11e57c10-bda1-4551-d04f-ff13c9940dea"
      },
      "outputs": [
        {
          "output_type": "stream",
          "name": "stdout",
          "text": [
            "par_id                   0\n",
            "paragraph                0\n",
            "has_entity               0\n",
            "lexicon_count            0\n",
            "difficult_words         18\n",
            "last_editor_gender       0\n",
            "category                61\n",
            "text_clarity          9338\n",
            "dtype: int64\n"
          ]
        }
      ],
      "source": [
        "print(df.isna().sum())"
      ]
    },
    {
      "cell_type": "code",
      "execution_count": 6,
      "metadata": {
        "colab": {
          "base_uri": "https://localhost:8080/"
        },
        "id": "2SuQ3suXSkMv",
        "outputId": "013fa2f9-02a7-4f18-acaf-5ac4bdd42597"
      },
      "outputs": [
        {
          "output_type": "stream",
          "name": "stdout",
          "text": [
            "215\n",
            "\n"
          ]
        }
      ],
      "source": [
        "# how many duplicates?\n",
        "print(df.duplicated().sum())\n",
        "\n",
        "print()"
      ]
    },
    {
      "cell_type": "code",
      "execution_count": 7,
      "metadata": {
        "id": "pGb1E5qNSx2Y"
      },
      "outputs": [],
      "source": [
        "df = df.drop_duplicates()"
      ]
    },
    {
      "cell_type": "markdown",
      "metadata": {
        "id": "DcVpRcfVPqU3"
      },
      "source": [
        "filling up missing value in the text clarity column"
      ]
    },
    {
      "cell_type": "code",
      "execution_count": 7,
      "metadata": {
        "id": "TpkYkSupP1X4"
      },
      "outputs": [],
      "source": [
        "\n"
      ]
    },
    {
      "cell_type": "code",
      "execution_count": 7,
      "metadata": {
        "id": "yccXM_dVQNMr"
      },
      "outputs": [],
      "source": []
    },
    {
      "cell_type": "code",
      "execution_count": 8,
      "metadata": {
        "id": "0ryCOwk-RDqU",
        "colab": {
          "base_uri": "https://localhost:8080/"
        },
        "outputId": "2f56ff8d-8133-4b41-dec6-8c63e65f4ba0"
      },
      "outputs": [
        {
          "output_type": "stream",
          "name": "stderr",
          "text": [
            "<ipython-input-8-74ba2fa1af21>:1: SettingWithCopyWarning: \n",
            "A value is trying to be set on a copy of a slice from a DataFrame.\n",
            "Try using .loc[row_indexer,col_indexer] = value instead\n",
            "\n",
            "See the caveats in the documentation: https://pandas.pydata.org/pandas-docs/stable/user_guide/indexing.html#returning-a-view-versus-a-copy\n",
            "  df['category'] = df['category'].dropna()\n"
          ]
        }
      ],
      "source": [
        "df['category'] = df['category'].dropna()"
      ]
    },
    {
      "cell_type": "code",
      "execution_count": 9,
      "metadata": {
        "colab": {
          "base_uri": "https://localhost:8080/",
          "height": 1000
        },
        "id": "QIO6gXS5WWc_",
        "outputId": "827b48cd-84c4-4434-f5ff-abf8f21e9f51"
      },
      "outputs": [
        {
          "output_type": "execute_result",
          "data": {
            "text/plain": [
              "           par_id                                          paragraph  \\\n",
              "0    428209002237  Ramsay was born in Glasgow on 2 October 1852. ...   \n",
              "1    564218010072  It has been widely estimated for at least the ...   \n",
              "2    291401001672  He went on to win the Royal Medal of the Royal...   \n",
              "3     31548004883  The changes have altered many underlying assum...   \n",
              "4     50634005146  After these novels were published, Disraeli de...   \n",
              "..            ...                                                ...   \n",
              "101    3219003433  These arguments often center on what it means ...   \n",
              "102  694781102764  Prof Henry Norris Russell ForMemRS HFRSE FRAS ...   \n",
              "103  323165008762  Binney was part of a close Manchester social c...   \n",
              "104    7628004101  With its rich set of operators, the C language...   \n",
              "105  220520007855   Here, he appears to give his support to the a...   \n",
              "\n",
              "                          has_entity  lexicon_count  difficult_words  \\\n",
              "0     ORG_YES_PRODUCT_NO_PERSON_YES_             49             12.0   \n",
              "1      ORG_YES_PRODUCT_NO_PERSON_NO_            166             47.0   \n",
              "2      ORG_YES_PRODUCT_NO_PERSON_NO_             69             18.0   \n",
              "3      ORG_NO_PRODUCT_YES_PERSON_NO_             76             27.0   \n",
              "4    ORG_YES_PRODUCT_YES_PERSON_YES_            200             47.0   \n",
              "..                               ...            ...              ...   \n",
              "101   ORG_YES_PRODUCT_NO_PERSON_YES_             56             17.0   \n",
              "102   ORG_YES_PRODUCT_NO_PERSON_YES_             47             15.0   \n",
              "103   ORG_YES_PRODUCT_NO_PERSON_YES_             37              7.0   \n",
              "104    ORG_YES_PRODUCT_NO_PERSON_NO_             49             12.0   \n",
              "105  ORG_YES_PRODUCT_YES_PERSON_YES_            190             51.0   \n",
              "\n",
              "    last_editor_gender                 category      text_clarity  \n",
              "0                  man              biographies      clear_enough  \n",
              "1                  man  artificial intelligence  not_clear_enough  \n",
              "2           non-binary              biographies      clear_enough  \n",
              "3           non-binary              programming      clear_enough  \n",
              "4                  man              biographies  not_clear_enough  \n",
              "..                 ...                      ...               ...  \n",
              "101              woman               philosophy               NaN  \n",
              "102                man                      NaN               NaN  \n",
              "103              woman              biographies               NaN  \n",
              "104                man              programming               NaN  \n",
              "105                man               philosophy               NaN  \n",
              "\n",
              "[106 rows x 8 columns]"
            ],
            "text/html": [
              "\n",
              "  <div id=\"df-2828ff6a-6c56-4e8c-9bf4-907c0eef28ed\" class=\"colab-df-container\">\n",
              "    <div>\n",
              "<style scoped>\n",
              "    .dataframe tbody tr th:only-of-type {\n",
              "        vertical-align: middle;\n",
              "    }\n",
              "\n",
              "    .dataframe tbody tr th {\n",
              "        vertical-align: top;\n",
              "    }\n",
              "\n",
              "    .dataframe thead th {\n",
              "        text-align: right;\n",
              "    }\n",
              "</style>\n",
              "<table border=\"1\" class=\"dataframe\">\n",
              "  <thead>\n",
              "    <tr style=\"text-align: right;\">\n",
              "      <th></th>\n",
              "      <th>par_id</th>\n",
              "      <th>paragraph</th>\n",
              "      <th>has_entity</th>\n",
              "      <th>lexicon_count</th>\n",
              "      <th>difficult_words</th>\n",
              "      <th>last_editor_gender</th>\n",
              "      <th>category</th>\n",
              "      <th>text_clarity</th>\n",
              "    </tr>\n",
              "  </thead>\n",
              "  <tbody>\n",
              "    <tr>\n",
              "      <th>0</th>\n",
              "      <td>428209002237</td>\n",
              "      <td>Ramsay was born in Glasgow on 2 October 1852. ...</td>\n",
              "      <td>ORG_YES_PRODUCT_NO_PERSON_YES_</td>\n",
              "      <td>49</td>\n",
              "      <td>12.0</td>\n",
              "      <td>man</td>\n",
              "      <td>biographies</td>\n",
              "      <td>clear_enough</td>\n",
              "    </tr>\n",
              "    <tr>\n",
              "      <th>1</th>\n",
              "      <td>564218010072</td>\n",
              "      <td>It has been widely estimated for at least the ...</td>\n",
              "      <td>ORG_YES_PRODUCT_NO_PERSON_NO_</td>\n",
              "      <td>166</td>\n",
              "      <td>47.0</td>\n",
              "      <td>man</td>\n",
              "      <td>artificial intelligence</td>\n",
              "      <td>not_clear_enough</td>\n",
              "    </tr>\n",
              "    <tr>\n",
              "      <th>2</th>\n",
              "      <td>291401001672</td>\n",
              "      <td>He went on to win the Royal Medal of the Royal...</td>\n",
              "      <td>ORG_YES_PRODUCT_NO_PERSON_NO_</td>\n",
              "      <td>69</td>\n",
              "      <td>18.0</td>\n",
              "      <td>non-binary</td>\n",
              "      <td>biographies</td>\n",
              "      <td>clear_enough</td>\n",
              "    </tr>\n",
              "    <tr>\n",
              "      <th>3</th>\n",
              "      <td>31548004883</td>\n",
              "      <td>The changes have altered many underlying assum...</td>\n",
              "      <td>ORG_NO_PRODUCT_YES_PERSON_NO_</td>\n",
              "      <td>76</td>\n",
              "      <td>27.0</td>\n",
              "      <td>non-binary</td>\n",
              "      <td>programming</td>\n",
              "      <td>clear_enough</td>\n",
              "    </tr>\n",
              "    <tr>\n",
              "      <th>4</th>\n",
              "      <td>50634005146</td>\n",
              "      <td>After these novels were published, Disraeli de...</td>\n",
              "      <td>ORG_YES_PRODUCT_YES_PERSON_YES_</td>\n",
              "      <td>200</td>\n",
              "      <td>47.0</td>\n",
              "      <td>man</td>\n",
              "      <td>biographies</td>\n",
              "      <td>not_clear_enough</td>\n",
              "    </tr>\n",
              "    <tr>\n",
              "      <th>...</th>\n",
              "      <td>...</td>\n",
              "      <td>...</td>\n",
              "      <td>...</td>\n",
              "      <td>...</td>\n",
              "      <td>...</td>\n",
              "      <td>...</td>\n",
              "      <td>...</td>\n",
              "      <td>...</td>\n",
              "    </tr>\n",
              "    <tr>\n",
              "      <th>101</th>\n",
              "      <td>3219003433</td>\n",
              "      <td>These arguments often center on what it means ...</td>\n",
              "      <td>ORG_YES_PRODUCT_NO_PERSON_YES_</td>\n",
              "      <td>56</td>\n",
              "      <td>17.0</td>\n",
              "      <td>woman</td>\n",
              "      <td>philosophy</td>\n",
              "      <td>NaN</td>\n",
              "    </tr>\n",
              "    <tr>\n",
              "      <th>102</th>\n",
              "      <td>694781102764</td>\n",
              "      <td>Prof Henry Norris Russell ForMemRS HFRSE FRAS ...</td>\n",
              "      <td>ORG_YES_PRODUCT_NO_PERSON_YES_</td>\n",
              "      <td>47</td>\n",
              "      <td>15.0</td>\n",
              "      <td>man</td>\n",
              "      <td>NaN</td>\n",
              "      <td>NaN</td>\n",
              "    </tr>\n",
              "    <tr>\n",
              "      <th>103</th>\n",
              "      <td>323165008762</td>\n",
              "      <td>Binney was part of a close Manchester social c...</td>\n",
              "      <td>ORG_YES_PRODUCT_NO_PERSON_YES_</td>\n",
              "      <td>37</td>\n",
              "      <td>7.0</td>\n",
              "      <td>woman</td>\n",
              "      <td>biographies</td>\n",
              "      <td>NaN</td>\n",
              "    </tr>\n",
              "    <tr>\n",
              "      <th>104</th>\n",
              "      <td>7628004101</td>\n",
              "      <td>With its rich set of operators, the C language...</td>\n",
              "      <td>ORG_YES_PRODUCT_NO_PERSON_NO_</td>\n",
              "      <td>49</td>\n",
              "      <td>12.0</td>\n",
              "      <td>man</td>\n",
              "      <td>programming</td>\n",
              "      <td>NaN</td>\n",
              "    </tr>\n",
              "    <tr>\n",
              "      <th>105</th>\n",
              "      <td>220520007855</td>\n",
              "      <td>Here, he appears to give his support to the a...</td>\n",
              "      <td>ORG_YES_PRODUCT_YES_PERSON_YES_</td>\n",
              "      <td>190</td>\n",
              "      <td>51.0</td>\n",
              "      <td>man</td>\n",
              "      <td>philosophy</td>\n",
              "      <td>NaN</td>\n",
              "    </tr>\n",
              "  </tbody>\n",
              "</table>\n",
              "<p>106 rows × 8 columns</p>\n",
              "</div>\n",
              "    <div class=\"colab-df-buttons\">\n",
              "\n",
              "  <div class=\"colab-df-container\">\n",
              "    <button class=\"colab-df-convert\" onclick=\"convertToInteractive('df-2828ff6a-6c56-4e8c-9bf4-907c0eef28ed')\"\n",
              "            title=\"Convert this dataframe to an interactive table.\"\n",
              "            style=\"display:none;\">\n",
              "\n",
              "  <svg xmlns=\"http://www.w3.org/2000/svg\" height=\"24px\" viewBox=\"0 -960 960 960\">\n",
              "    <path d=\"M120-120v-720h720v720H120Zm60-500h600v-160H180v160Zm220 220h160v-160H400v160Zm0 220h160v-160H400v160ZM180-400h160v-160H180v160Zm440 0h160v-160H620v160ZM180-180h160v-160H180v160Zm440 0h160v-160H620v160Z\"/>\n",
              "  </svg>\n",
              "    </button>\n",
              "\n",
              "  <style>\n",
              "    .colab-df-container {\n",
              "      display:flex;\n",
              "      gap: 12px;\n",
              "    }\n",
              "\n",
              "    .colab-df-convert {\n",
              "      background-color: #E8F0FE;\n",
              "      border: none;\n",
              "      border-radius: 50%;\n",
              "      cursor: pointer;\n",
              "      display: none;\n",
              "      fill: #1967D2;\n",
              "      height: 32px;\n",
              "      padding: 0 0 0 0;\n",
              "      width: 32px;\n",
              "    }\n",
              "\n",
              "    .colab-df-convert:hover {\n",
              "      background-color: #E2EBFA;\n",
              "      box-shadow: 0px 1px 2px rgba(60, 64, 67, 0.3), 0px 1px 3px 1px rgba(60, 64, 67, 0.15);\n",
              "      fill: #174EA6;\n",
              "    }\n",
              "\n",
              "    .colab-df-buttons div {\n",
              "      margin-bottom: 4px;\n",
              "    }\n",
              "\n",
              "    [theme=dark] .colab-df-convert {\n",
              "      background-color: #3B4455;\n",
              "      fill: #D2E3FC;\n",
              "    }\n",
              "\n",
              "    [theme=dark] .colab-df-convert:hover {\n",
              "      background-color: #434B5C;\n",
              "      box-shadow: 0px 1px 3px 1px rgba(0, 0, 0, 0.15);\n",
              "      filter: drop-shadow(0px 1px 2px rgba(0, 0, 0, 0.3));\n",
              "      fill: #FFFFFF;\n",
              "    }\n",
              "  </style>\n",
              "\n",
              "    <script>\n",
              "      const buttonEl =\n",
              "        document.querySelector('#df-2828ff6a-6c56-4e8c-9bf4-907c0eef28ed button.colab-df-convert');\n",
              "      buttonEl.style.display =\n",
              "        google.colab.kernel.accessAllowed ? 'block' : 'none';\n",
              "\n",
              "      async function convertToInteractive(key) {\n",
              "        const element = document.querySelector('#df-2828ff6a-6c56-4e8c-9bf4-907c0eef28ed');\n",
              "        const dataTable =\n",
              "          await google.colab.kernel.invokeFunction('convertToInteractive',\n",
              "                                                    [key], {});\n",
              "        if (!dataTable) return;\n",
              "\n",
              "        const docLinkHtml = 'Like what you see? Visit the ' +\n",
              "          '<a target=\"_blank\" href=https://colab.research.google.com/notebooks/data_table.ipynb>data table notebook</a>'\n",
              "          + ' to learn more about interactive tables.';\n",
              "        element.innerHTML = '';\n",
              "        dataTable['output_type'] = 'display_data';\n",
              "        await google.colab.output.renderOutput(dataTable, element);\n",
              "        const docLink = document.createElement('div');\n",
              "        docLink.innerHTML = docLinkHtml;\n",
              "        element.appendChild(docLink);\n",
              "      }\n",
              "    </script>\n",
              "  </div>\n",
              "\n",
              "\n",
              "<div id=\"df-6ae2510a-487f-4ec3-bc15-ae5fd6130b6d\">\n",
              "  <button class=\"colab-df-quickchart\" onclick=\"quickchart('df-6ae2510a-487f-4ec3-bc15-ae5fd6130b6d')\"\n",
              "            title=\"Suggest charts\"\n",
              "            style=\"display:none;\">\n",
              "\n",
              "<svg xmlns=\"http://www.w3.org/2000/svg\" height=\"24px\"viewBox=\"0 0 24 24\"\n",
              "     width=\"24px\">\n",
              "    <g>\n",
              "        <path d=\"M19 3H5c-1.1 0-2 .9-2 2v14c0 1.1.9 2 2 2h14c1.1 0 2-.9 2-2V5c0-1.1-.9-2-2-2zM9 17H7v-7h2v7zm4 0h-2V7h2v10zm4 0h-2v-4h2v4z\"/>\n",
              "    </g>\n",
              "</svg>\n",
              "  </button>\n",
              "\n",
              "<style>\n",
              "  .colab-df-quickchart {\n",
              "      --bg-color: #E8F0FE;\n",
              "      --fill-color: #1967D2;\n",
              "      --hover-bg-color: #E2EBFA;\n",
              "      --hover-fill-color: #174EA6;\n",
              "      --disabled-fill-color: #AAA;\n",
              "      --disabled-bg-color: #DDD;\n",
              "  }\n",
              "\n",
              "  [theme=dark] .colab-df-quickchart {\n",
              "      --bg-color: #3B4455;\n",
              "      --fill-color: #D2E3FC;\n",
              "      --hover-bg-color: #434B5C;\n",
              "      --hover-fill-color: #FFFFFF;\n",
              "      --disabled-bg-color: #3B4455;\n",
              "      --disabled-fill-color: #666;\n",
              "  }\n",
              "\n",
              "  .colab-df-quickchart {\n",
              "    background-color: var(--bg-color);\n",
              "    border: none;\n",
              "    border-radius: 50%;\n",
              "    cursor: pointer;\n",
              "    display: none;\n",
              "    fill: var(--fill-color);\n",
              "    height: 32px;\n",
              "    padding: 0;\n",
              "    width: 32px;\n",
              "  }\n",
              "\n",
              "  .colab-df-quickchart:hover {\n",
              "    background-color: var(--hover-bg-color);\n",
              "    box-shadow: 0 1px 2px rgba(60, 64, 67, 0.3), 0 1px 3px 1px rgba(60, 64, 67, 0.15);\n",
              "    fill: var(--button-hover-fill-color);\n",
              "  }\n",
              "\n",
              "  .colab-df-quickchart-complete:disabled,\n",
              "  .colab-df-quickchart-complete:disabled:hover {\n",
              "    background-color: var(--disabled-bg-color);\n",
              "    fill: var(--disabled-fill-color);\n",
              "    box-shadow: none;\n",
              "  }\n",
              "\n",
              "  .colab-df-spinner {\n",
              "    border: 2px solid var(--fill-color);\n",
              "    border-color: transparent;\n",
              "    border-bottom-color: var(--fill-color);\n",
              "    animation:\n",
              "      spin 1s steps(1) infinite;\n",
              "  }\n",
              "\n",
              "  @keyframes spin {\n",
              "    0% {\n",
              "      border-color: transparent;\n",
              "      border-bottom-color: var(--fill-color);\n",
              "      border-left-color: var(--fill-color);\n",
              "    }\n",
              "    20% {\n",
              "      border-color: transparent;\n",
              "      border-left-color: var(--fill-color);\n",
              "      border-top-color: var(--fill-color);\n",
              "    }\n",
              "    30% {\n",
              "      border-color: transparent;\n",
              "      border-left-color: var(--fill-color);\n",
              "      border-top-color: var(--fill-color);\n",
              "      border-right-color: var(--fill-color);\n",
              "    }\n",
              "    40% {\n",
              "      border-color: transparent;\n",
              "      border-right-color: var(--fill-color);\n",
              "      border-top-color: var(--fill-color);\n",
              "    }\n",
              "    60% {\n",
              "      border-color: transparent;\n",
              "      border-right-color: var(--fill-color);\n",
              "    }\n",
              "    80% {\n",
              "      border-color: transparent;\n",
              "      border-right-color: var(--fill-color);\n",
              "      border-bottom-color: var(--fill-color);\n",
              "    }\n",
              "    90% {\n",
              "      border-color: transparent;\n",
              "      border-bottom-color: var(--fill-color);\n",
              "    }\n",
              "  }\n",
              "</style>\n",
              "\n",
              "  <script>\n",
              "    async function quickchart(key) {\n",
              "      const quickchartButtonEl =\n",
              "        document.querySelector('#' + key + ' button');\n",
              "      quickchartButtonEl.disabled = true;  // To prevent multiple clicks.\n",
              "      quickchartButtonEl.classList.add('colab-df-spinner');\n",
              "      try {\n",
              "        const charts = await google.colab.kernel.invokeFunction(\n",
              "            'suggestCharts', [key], {});\n",
              "      } catch (error) {\n",
              "        console.error('Error during call to suggestCharts:', error);\n",
              "      }\n",
              "      quickchartButtonEl.classList.remove('colab-df-spinner');\n",
              "      quickchartButtonEl.classList.add('colab-df-quickchart-complete');\n",
              "    }\n",
              "    (() => {\n",
              "      let quickchartButtonEl =\n",
              "        document.querySelector('#df-6ae2510a-487f-4ec3-bc15-ae5fd6130b6d button');\n",
              "      quickchartButtonEl.style.display =\n",
              "        google.colab.kernel.accessAllowed ? 'block' : 'none';\n",
              "    })();\n",
              "  </script>\n",
              "</div>\n",
              "    </div>\n",
              "  </div>\n"
            ],
            "application/vnd.google.colaboratory.intrinsic+json": {
              "type": "dataframe",
              "variable_name": "df",
              "summary": "{\n  \"name\": \"df\",\n  \"rows\": 9132,\n  \"fields\": [\n    {\n      \"column\": \"par_id\",\n      \"properties\": {\n        \"dtype\": \"number\",\n        \"std\": 322061012565,\n        \"min\": 85003276,\n        \"max\": 1058779003275,\n        \"num_unique_values\": 9132,\n        \"samples\": [\n          759851002842,\n          77886005808,\n          325706008765\n        ],\n        \"semantic_type\": \"\",\n        \"description\": \"\"\n      }\n    },\n    {\n      \"column\": \"paragraph\",\n      \"properties\": {\n        \"dtype\": \"string\",\n        \"num_unique_values\": 8992,\n        \"samples\": [\n          \"In 1891, Thomas married Mary Kane, daughter of Sir Andrew Clark, heiress to a small fortune, which gave him the finances to hire mammal collectors and present their specimens to the museum. He also did field work himself in Western Europe and South America. His wife shared his interest in natural history, and accompanied him on collecting trips. In 1896, when William Henry Flower took control of the department, he hired Richard Lydekker to rearrange the exhibitions, allowing Thomas to concentrate on these new specimens.Thomas viewed his taxonomy efforts from the scope of British imperialism. \\\"You and I in our scientific lives have seen the general knowledge of Mammals of the world wonderfully advanced \\u2013 there are few or no blank areas anymore,\\\" he said in a letter to Gerrit Smith Miller Jr.Officially retired from the museum in 1923, he continued his work without interruption. Although popular rumours suggested he died by shooting himself with a handgun while sitting at his museum desk, he actually died at home in 1929, aged 71, about a year after the death of his wife, \\\"a severe blow from which he never recovered.\\\"\",\n          \"Disraeli always considered foreign affairs to be the most critical and interesting part of statesmanship. Nevertheless, his biographer Robert Blake doubts that his subject had specific ideas about foreign policy when he took office in 1874. He had rarely travelled abroad; since his youthful tour of the Middle East in 1830\\u20131831, he had left Britain only for his honeymoon and three visits to Paris, the last of which was in 1856. As he had criticised Gladstone for a do-nothing foreign policy, he most probably contemplated what actions would reassert Britain's place in Europe. His brief first premiership, and the first year of his second, gave him little opportunity to make his mark in foreign affairs.\",\n          \"I have sent your Watch at last & envy the felicity of it, that it should be soe near your side & soe often enjoy your Eye. ... .but have a care for it, for I have put such a spell into it; that every Beating of the Balance will tell you 'tis the Pulse of my Heart, which labors as much to serve you and more trewly than the Watch; for the Watch I beleeve will sometimes lie, and sometimes be idle & unwilling ... but as for me you may be confident I shall never ...\"\n        ],\n        \"semantic_type\": \"\",\n        \"description\": \"\"\n      }\n    },\n    {\n      \"column\": \"has_entity\",\n      \"properties\": {\n        \"dtype\": \"category\",\n        \"num_unique_values\": 9,\n        \"samples\": [\n          \"ORG_YES_PRODUCT_YES_PERSON_NO_\",\n          \"ORG_YES_PRODUCT_NO_PERSON_NO_\",\n          \"ORG_NO_PRODUCT_YES_PERSON_YES_\"\n        ],\n        \"semantic_type\": \"\",\n        \"description\": \"\"\n      }\n    },\n    {\n      \"column\": \"lexicon_count\",\n      \"properties\": {\n        \"dtype\": \"number\",\n        \"std\": 63,\n        \"min\": 0,\n        \"max\": 653,\n        \"num_unique_values\": 348,\n        \"samples\": [\n          237,\n          82,\n          274\n        ],\n        \"semantic_type\": \"\",\n        \"description\": \"\"\n      }\n    },\n    {\n      \"column\": \"difficult_words\",\n      \"properties\": {\n        \"dtype\": \"number\",\n        \"std\": 16.313769913064164,\n        \"min\": 0.0,\n        \"max\": 143.0,\n        \"num_unique_values\": 113,\n        \"samples\": [\n          96.0,\n          36.0,\n          15.0\n        ],\n        \"semantic_type\": \"\",\n        \"description\": \"\"\n      }\n    },\n    {\n      \"column\": \"last_editor_gender\",\n      \"properties\": {\n        \"dtype\": \"category\",\n        \"num_unique_values\": 4,\n        \"samples\": [\n          \"non-binary\",\n          \"prefer_not_to_say\",\n          \"man\"\n        ],\n        \"semantic_type\": \"\",\n        \"description\": \"\"\n      }\n    },\n    {\n      \"column\": \"category\",\n      \"properties\": {\n        \"dtype\": \"category\",\n        \"num_unique_values\": 10,\n        \"samples\": [\n          \"Biographies\",\n          \"artificial intelligence\",\n          \"Philosophy\"\n        ],\n        \"semantic_type\": \"\",\n        \"description\": \"\"\n      }\n    },\n    {\n      \"column\": \"text_clarity\",\n      \"properties\": {\n        \"dtype\": \"category\",\n        \"num_unique_values\": 2,\n        \"samples\": [\n          \"not_clear_enough\",\n          \"clear_enough\"\n        ],\n        \"semantic_type\": \"\",\n        \"description\": \"\"\n      }\n    }\n  ]\n}"
            }
          },
          "metadata": {},
          "execution_count": 9
        }
      ],
      "source": [
        "df.head(106)"
      ]
    },
    {
      "cell_type": "code",
      "execution_count": 10,
      "metadata": {
        "colab": {
          "base_uri": "https://localhost:8080/"
        },
        "id": "tB5zVieTRpgp",
        "outputId": "28cfa04a-d078-4fb9-a5ab-9a6da18b27cb"
      },
      "outputs": [
        {
          "output_type": "stream",
          "name": "stdout",
          "text": [
            "par_id                   0\n",
            "paragraph                0\n",
            "has_entity               0\n",
            "lexicon_count            0\n",
            "difficult_words         18\n",
            "last_editor_gender       0\n",
            "category                61\n",
            "text_clarity          9123\n",
            "dtype: int64\n"
          ]
        }
      ],
      "source": [
        "print(df.isna().sum())"
      ]
    },
    {
      "cell_type": "code",
      "execution_count": 11,
      "metadata": {
        "colab": {
          "base_uri": "https://localhost:8080/"
        },
        "id": "8DmuKGe-SPx6",
        "outputId": "e24c8586-80e5-40de-abfa-30add3479cdb"
      },
      "outputs": [
        {
          "output_type": "stream",
          "name": "stdout",
          "text": [
            "<class 'pandas.core.frame.DataFrame'>\n",
            "Int64Index: 9132 entries, 0 to 9346\n",
            "Data columns (total 8 columns):\n",
            " #   Column              Non-Null Count  Dtype  \n",
            "---  ------              --------------  -----  \n",
            " 0   par_id              9132 non-null   int64  \n",
            " 1   paragraph           9132 non-null   object \n",
            " 2   has_entity          9132 non-null   object \n",
            " 3   lexicon_count       9132 non-null   int64  \n",
            " 4   difficult_words     9114 non-null   float64\n",
            " 5   last_editor_gender  9132 non-null   object \n",
            " 6   category            9071 non-null   object \n",
            " 7   text_clarity        9 non-null      object \n",
            "dtypes: float64(1), int64(2), object(5)\n",
            "memory usage: 642.1+ KB\n"
          ]
        }
      ],
      "source": [
        "df.info()"
      ]
    },
    {
      "cell_type": "code",
      "execution_count": 12,
      "metadata": {
        "colab": {
          "base_uri": "https://localhost:8080/"
        },
        "id": "y14PX3c9V6JP",
        "outputId": "8877bed0-6abc-43eb-ed91-43fd4bba2cc7"
      },
      "outputs": [
        {
          "output_type": "stream",
          "name": "stdout",
          "text": [
            "0\n"
          ]
        }
      ],
      "source": [
        "# 1. Imputer\n",
        "from sklearn.impute import SimpleImputer\n",
        "imptr_example = SimpleImputer(missing_values = np.nan, strategy = 'mean')\n",
        "\n",
        "# 2. Fit the imputer object to the feature matrix\n",
        "imptr_example = imptr_example.fit(df[['difficult_words']])\n",
        "\n",
        "\n",
        "# 3. Call Transform to replace missing data in train_dataset (on specific columns) by the mean of the column to which that missing data belongs to\n",
        "df[['difficult_words']] = imptr_example.transform(\n",
        "    df[['difficult_words']])\n",
        "\n",
        "\n",
        "\n",
        "# check the column has no more missing values:\n",
        "print(df['difficult_words'].isna().sum())"
      ]
    },
    {
      "cell_type": "code",
      "execution_count": 13,
      "metadata": {
        "colab": {
          "base_uri": "https://localhost:8080/"
        },
        "id": "TBD1jigBT_BP",
        "outputId": "6ada26a5-ece2-4293-8d71-5fbb1e222575"
      },
      "outputs": [
        {
          "output_type": "stream",
          "name": "stdout",
          "text": [
            "<class 'pandas.core.frame.DataFrame'>\n",
            "Int64Index: 9132 entries, 0 to 9346\n",
            "Data columns (total 8 columns):\n",
            " #   Column              Non-Null Count  Dtype  \n",
            "---  ------              --------------  -----  \n",
            " 0   par_id              9132 non-null   int64  \n",
            " 1   paragraph           9132 non-null   object \n",
            " 2   has_entity          9132 non-null   object \n",
            " 3   lexicon_count       9132 non-null   int64  \n",
            " 4   difficult_words     9132 non-null   float64\n",
            " 5   last_editor_gender  9132 non-null   object \n",
            " 6   category            9071 non-null   object \n",
            " 7   text_clarity        9 non-null      object \n",
            "dtypes: float64(1), int64(2), object(5)\n",
            "memory usage: 642.1+ KB\n"
          ]
        }
      ],
      "source": [
        "df.info()"
      ]
    },
    {
      "cell_type": "code",
      "execution_count": 14,
      "metadata": {
        "colab": {
          "base_uri": "https://localhost:8080/",
          "height": 297
        },
        "id": "z4gw2HT9eO35",
        "outputId": "24873605-2803-437c-bfc5-bc2a9224ccc0"
      },
      "outputs": [
        {
          "output_type": "execute_result",
          "data": {
            "text/plain": [
              "             par_id  lexicon_count  difficult_words\n",
              "count  9.132000e+03    9132.000000      9132.000000\n",
              "mean   3.571119e+11      82.039422        21.537744\n",
              "std    3.220610e+11      63.456144        16.297682\n",
              "min    8.500328e+07       0.000000         0.000000\n",
              "25%    7.019601e+10      33.000000         9.000000\n",
              "50%    2.684380e+11      64.000000        17.000000\n",
              "75%    6.124310e+11     117.000000        30.000000\n",
              "max    1.058779e+12     653.000000       143.000000"
            ],
            "text/html": [
              "\n",
              "  <div id=\"df-fd50c32c-fe52-433d-aea5-2977d936d9e8\" class=\"colab-df-container\">\n",
              "    <div>\n",
              "<style scoped>\n",
              "    .dataframe tbody tr th:only-of-type {\n",
              "        vertical-align: middle;\n",
              "    }\n",
              "\n",
              "    .dataframe tbody tr th {\n",
              "        vertical-align: top;\n",
              "    }\n",
              "\n",
              "    .dataframe thead th {\n",
              "        text-align: right;\n",
              "    }\n",
              "</style>\n",
              "<table border=\"1\" class=\"dataframe\">\n",
              "  <thead>\n",
              "    <tr style=\"text-align: right;\">\n",
              "      <th></th>\n",
              "      <th>par_id</th>\n",
              "      <th>lexicon_count</th>\n",
              "      <th>difficult_words</th>\n",
              "    </tr>\n",
              "  </thead>\n",
              "  <tbody>\n",
              "    <tr>\n",
              "      <th>count</th>\n",
              "      <td>9.132000e+03</td>\n",
              "      <td>9132.000000</td>\n",
              "      <td>9132.000000</td>\n",
              "    </tr>\n",
              "    <tr>\n",
              "      <th>mean</th>\n",
              "      <td>3.571119e+11</td>\n",
              "      <td>82.039422</td>\n",
              "      <td>21.537744</td>\n",
              "    </tr>\n",
              "    <tr>\n",
              "      <th>std</th>\n",
              "      <td>3.220610e+11</td>\n",
              "      <td>63.456144</td>\n",
              "      <td>16.297682</td>\n",
              "    </tr>\n",
              "    <tr>\n",
              "      <th>min</th>\n",
              "      <td>8.500328e+07</td>\n",
              "      <td>0.000000</td>\n",
              "      <td>0.000000</td>\n",
              "    </tr>\n",
              "    <tr>\n",
              "      <th>25%</th>\n",
              "      <td>7.019601e+10</td>\n",
              "      <td>33.000000</td>\n",
              "      <td>9.000000</td>\n",
              "    </tr>\n",
              "    <tr>\n",
              "      <th>50%</th>\n",
              "      <td>2.684380e+11</td>\n",
              "      <td>64.000000</td>\n",
              "      <td>17.000000</td>\n",
              "    </tr>\n",
              "    <tr>\n",
              "      <th>75%</th>\n",
              "      <td>6.124310e+11</td>\n",
              "      <td>117.000000</td>\n",
              "      <td>30.000000</td>\n",
              "    </tr>\n",
              "    <tr>\n",
              "      <th>max</th>\n",
              "      <td>1.058779e+12</td>\n",
              "      <td>653.000000</td>\n",
              "      <td>143.000000</td>\n",
              "    </tr>\n",
              "  </tbody>\n",
              "</table>\n",
              "</div>\n",
              "    <div class=\"colab-df-buttons\">\n",
              "\n",
              "  <div class=\"colab-df-container\">\n",
              "    <button class=\"colab-df-convert\" onclick=\"convertToInteractive('df-fd50c32c-fe52-433d-aea5-2977d936d9e8')\"\n",
              "            title=\"Convert this dataframe to an interactive table.\"\n",
              "            style=\"display:none;\">\n",
              "\n",
              "  <svg xmlns=\"http://www.w3.org/2000/svg\" height=\"24px\" viewBox=\"0 -960 960 960\">\n",
              "    <path d=\"M120-120v-720h720v720H120Zm60-500h600v-160H180v160Zm220 220h160v-160H400v160Zm0 220h160v-160H400v160ZM180-400h160v-160H180v160Zm440 0h160v-160H620v160ZM180-180h160v-160H180v160Zm440 0h160v-160H620v160Z\"/>\n",
              "  </svg>\n",
              "    </button>\n",
              "\n",
              "  <style>\n",
              "    .colab-df-container {\n",
              "      display:flex;\n",
              "      gap: 12px;\n",
              "    }\n",
              "\n",
              "    .colab-df-convert {\n",
              "      background-color: #E8F0FE;\n",
              "      border: none;\n",
              "      border-radius: 50%;\n",
              "      cursor: pointer;\n",
              "      display: none;\n",
              "      fill: #1967D2;\n",
              "      height: 32px;\n",
              "      padding: 0 0 0 0;\n",
              "      width: 32px;\n",
              "    }\n",
              "\n",
              "    .colab-df-convert:hover {\n",
              "      background-color: #E2EBFA;\n",
              "      box-shadow: 0px 1px 2px rgba(60, 64, 67, 0.3), 0px 1px 3px 1px rgba(60, 64, 67, 0.15);\n",
              "      fill: #174EA6;\n",
              "    }\n",
              "\n",
              "    .colab-df-buttons div {\n",
              "      margin-bottom: 4px;\n",
              "    }\n",
              "\n",
              "    [theme=dark] .colab-df-convert {\n",
              "      background-color: #3B4455;\n",
              "      fill: #D2E3FC;\n",
              "    }\n",
              "\n",
              "    [theme=dark] .colab-df-convert:hover {\n",
              "      background-color: #434B5C;\n",
              "      box-shadow: 0px 1px 3px 1px rgba(0, 0, 0, 0.15);\n",
              "      filter: drop-shadow(0px 1px 2px rgba(0, 0, 0, 0.3));\n",
              "      fill: #FFFFFF;\n",
              "    }\n",
              "  </style>\n",
              "\n",
              "    <script>\n",
              "      const buttonEl =\n",
              "        document.querySelector('#df-fd50c32c-fe52-433d-aea5-2977d936d9e8 button.colab-df-convert');\n",
              "      buttonEl.style.display =\n",
              "        google.colab.kernel.accessAllowed ? 'block' : 'none';\n",
              "\n",
              "      async function convertToInteractive(key) {\n",
              "        const element = document.querySelector('#df-fd50c32c-fe52-433d-aea5-2977d936d9e8');\n",
              "        const dataTable =\n",
              "          await google.colab.kernel.invokeFunction('convertToInteractive',\n",
              "                                                    [key], {});\n",
              "        if (!dataTable) return;\n",
              "\n",
              "        const docLinkHtml = 'Like what you see? Visit the ' +\n",
              "          '<a target=\"_blank\" href=https://colab.research.google.com/notebooks/data_table.ipynb>data table notebook</a>'\n",
              "          + ' to learn more about interactive tables.';\n",
              "        element.innerHTML = '';\n",
              "        dataTable['output_type'] = 'display_data';\n",
              "        await google.colab.output.renderOutput(dataTable, element);\n",
              "        const docLink = document.createElement('div');\n",
              "        docLink.innerHTML = docLinkHtml;\n",
              "        element.appendChild(docLink);\n",
              "      }\n",
              "    </script>\n",
              "  </div>\n",
              "\n",
              "\n",
              "<div id=\"df-2deb3b8f-4577-4e83-aa74-e182ddd33142\">\n",
              "  <button class=\"colab-df-quickchart\" onclick=\"quickchart('df-2deb3b8f-4577-4e83-aa74-e182ddd33142')\"\n",
              "            title=\"Suggest charts\"\n",
              "            style=\"display:none;\">\n",
              "\n",
              "<svg xmlns=\"http://www.w3.org/2000/svg\" height=\"24px\"viewBox=\"0 0 24 24\"\n",
              "     width=\"24px\">\n",
              "    <g>\n",
              "        <path d=\"M19 3H5c-1.1 0-2 .9-2 2v14c0 1.1.9 2 2 2h14c1.1 0 2-.9 2-2V5c0-1.1-.9-2-2-2zM9 17H7v-7h2v7zm4 0h-2V7h2v10zm4 0h-2v-4h2v4z\"/>\n",
              "    </g>\n",
              "</svg>\n",
              "  </button>\n",
              "\n",
              "<style>\n",
              "  .colab-df-quickchart {\n",
              "      --bg-color: #E8F0FE;\n",
              "      --fill-color: #1967D2;\n",
              "      --hover-bg-color: #E2EBFA;\n",
              "      --hover-fill-color: #174EA6;\n",
              "      --disabled-fill-color: #AAA;\n",
              "      --disabled-bg-color: #DDD;\n",
              "  }\n",
              "\n",
              "  [theme=dark] .colab-df-quickchart {\n",
              "      --bg-color: #3B4455;\n",
              "      --fill-color: #D2E3FC;\n",
              "      --hover-bg-color: #434B5C;\n",
              "      --hover-fill-color: #FFFFFF;\n",
              "      --disabled-bg-color: #3B4455;\n",
              "      --disabled-fill-color: #666;\n",
              "  }\n",
              "\n",
              "  .colab-df-quickchart {\n",
              "    background-color: var(--bg-color);\n",
              "    border: none;\n",
              "    border-radius: 50%;\n",
              "    cursor: pointer;\n",
              "    display: none;\n",
              "    fill: var(--fill-color);\n",
              "    height: 32px;\n",
              "    padding: 0;\n",
              "    width: 32px;\n",
              "  }\n",
              "\n",
              "  .colab-df-quickchart:hover {\n",
              "    background-color: var(--hover-bg-color);\n",
              "    box-shadow: 0 1px 2px rgba(60, 64, 67, 0.3), 0 1px 3px 1px rgba(60, 64, 67, 0.15);\n",
              "    fill: var(--button-hover-fill-color);\n",
              "  }\n",
              "\n",
              "  .colab-df-quickchart-complete:disabled,\n",
              "  .colab-df-quickchart-complete:disabled:hover {\n",
              "    background-color: var(--disabled-bg-color);\n",
              "    fill: var(--disabled-fill-color);\n",
              "    box-shadow: none;\n",
              "  }\n",
              "\n",
              "  .colab-df-spinner {\n",
              "    border: 2px solid var(--fill-color);\n",
              "    border-color: transparent;\n",
              "    border-bottom-color: var(--fill-color);\n",
              "    animation:\n",
              "      spin 1s steps(1) infinite;\n",
              "  }\n",
              "\n",
              "  @keyframes spin {\n",
              "    0% {\n",
              "      border-color: transparent;\n",
              "      border-bottom-color: var(--fill-color);\n",
              "      border-left-color: var(--fill-color);\n",
              "    }\n",
              "    20% {\n",
              "      border-color: transparent;\n",
              "      border-left-color: var(--fill-color);\n",
              "      border-top-color: var(--fill-color);\n",
              "    }\n",
              "    30% {\n",
              "      border-color: transparent;\n",
              "      border-left-color: var(--fill-color);\n",
              "      border-top-color: var(--fill-color);\n",
              "      border-right-color: var(--fill-color);\n",
              "    }\n",
              "    40% {\n",
              "      border-color: transparent;\n",
              "      border-right-color: var(--fill-color);\n",
              "      border-top-color: var(--fill-color);\n",
              "    }\n",
              "    60% {\n",
              "      border-color: transparent;\n",
              "      border-right-color: var(--fill-color);\n",
              "    }\n",
              "    80% {\n",
              "      border-color: transparent;\n",
              "      border-right-color: var(--fill-color);\n",
              "      border-bottom-color: var(--fill-color);\n",
              "    }\n",
              "    90% {\n",
              "      border-color: transparent;\n",
              "      border-bottom-color: var(--fill-color);\n",
              "    }\n",
              "  }\n",
              "</style>\n",
              "\n",
              "  <script>\n",
              "    async function quickchart(key) {\n",
              "      const quickchartButtonEl =\n",
              "        document.querySelector('#' + key + ' button');\n",
              "      quickchartButtonEl.disabled = true;  // To prevent multiple clicks.\n",
              "      quickchartButtonEl.classList.add('colab-df-spinner');\n",
              "      try {\n",
              "        const charts = await google.colab.kernel.invokeFunction(\n",
              "            'suggestCharts', [key], {});\n",
              "      } catch (error) {\n",
              "        console.error('Error during call to suggestCharts:', error);\n",
              "      }\n",
              "      quickchartButtonEl.classList.remove('colab-df-spinner');\n",
              "      quickchartButtonEl.classList.add('colab-df-quickchart-complete');\n",
              "    }\n",
              "    (() => {\n",
              "      let quickchartButtonEl =\n",
              "        document.querySelector('#df-2deb3b8f-4577-4e83-aa74-e182ddd33142 button');\n",
              "      quickchartButtonEl.style.display =\n",
              "        google.colab.kernel.accessAllowed ? 'block' : 'none';\n",
              "    })();\n",
              "  </script>\n",
              "</div>\n",
              "    </div>\n",
              "  </div>\n"
            ],
            "application/vnd.google.colaboratory.intrinsic+json": {
              "type": "dataframe",
              "summary": "{\n  \"name\": \"df\",\n  \"rows\": 8,\n  \"fields\": [\n    {\n      \"column\": \"par_id\",\n      \"properties\": {\n        \"dtype\": \"number\",\n        \"std\": 358651185597.13916,\n        \"min\": 9132.0,\n        \"max\": 1058779003275.0,\n        \"num_unique_values\": 8,\n        \"samples\": [\n          357111864523.27673,\n          268438008206.5,\n          9132.0\n        ],\n        \"semantic_type\": \"\",\n        \"description\": \"\"\n      }\n    },\n    {\n      \"column\": \"lexicon_count\",\n      \"properties\": {\n        \"dtype\": \"number\",\n        \"std\": 3184.4626225791744,\n        \"min\": 0.0,\n        \"max\": 9132.0,\n        \"num_unique_values\": 8,\n        \"samples\": [\n          82.03942181340342,\n          64.0,\n          9132.0\n        ],\n        \"semantic_type\": \"\",\n        \"description\": \"\"\n      }\n    },\n    {\n      \"column\": \"difficult_words\",\n      \"properties\": {\n        \"dtype\": \"number\",\n        \"std\": 3217.0081005498114,\n        \"min\": 0.0,\n        \"max\": 9132.0,\n        \"num_unique_values\": 8,\n        \"samples\": [\n          21.53774412991003,\n          17.0,\n          9132.0\n        ],\n        \"semantic_type\": \"\",\n        \"description\": \"\"\n      }\n    }\n  ]\n}"
            }
          },
          "metadata": {},
          "execution_count": 14
        }
      ],
      "source": [
        "df.describe()"
      ]
    },
    {
      "cell_type": "code",
      "execution_count": 15,
      "metadata": {
        "colab": {
          "base_uri": "https://localhost:8080/"
        },
        "id": "UqrIwTWQTHQt",
        "outputId": "700b47a1-4c29-4713-980c-b711ad2c5f03"
      },
      "outputs": [
        {
          "output_type": "stream",
          "name": "stdout",
          "text": [
            "Categories and number of occurrences for 'has_entity'\n",
            "ORG_YES_PRODUCT_NO_PERSON_YES_     2996\n",
            "ORG_NO_PRODUCT_NO_PERSON_NO_       2793\n",
            "ORG_YES_PRODUCT_NO_PERSON_NO_      1448\n",
            "ORG_NO_PRODUCT_NO_PERSON_YES_      1349\n",
            "ORG_YES_PRODUCT_YES_PERSON_YES_     292\n",
            "ORG_YES_PRODUCT_YES_PERSON_NO_      124\n",
            "ORG_NO_PRODUCT_YES_PERSON_YES_       64\n",
            "ORG_NO_PRODUCT_YES_PERSON_NO_        42\n",
            "data missing                         24\n",
            "Name: has_entity, dtype: int64\n",
            "\n",
            "Categories and number of occurrences for 'last_editor_gender'\n",
            "man                  6103\n",
            "woman                2412\n",
            "non-binary            352\n",
            "prefer_not_to_say     265\n",
            "Name: last_editor_gender, dtype: int64\n",
            "\n",
            "Categories and number of occurrences for 'category'\n",
            "biographies                             2886\n",
            "philosophy                              2511\n",
            "programming                             1938\n",
            "artificial intelligence                 1527\n",
            "movies about artificial intelligence     162\n",
            "Philosophy                                13\n",
            "Biographies                               13\n",
            "Programming                               10\n",
            "Artificial intelligence                   10\n",
            "Movies about artificial intelligence       1\n",
            "Name: category, dtype: int64\n",
            "\n",
            "Categories and number of occurrences for 'text_clarity'\n",
            "clear_enough        5\n",
            "not_clear_enough    4\n",
            "Name: text_clarity, dtype: int64\n",
            "\n"
          ]
        }
      ],
      "source": [
        "# let's list all categorical features\n",
        "categorical_columns= ['has_entity', 'last_editor_gender', 'category', 'text_clarity']\n",
        "\n",
        "\n",
        "# let's get the categories and their count for each feature\n",
        "for col in categorical_columns:\n",
        "  print(f\"Categories and number of occurrences for '{col}'\")\n",
        "  print(df[col].value_counts())\n",
        "  print()"
      ]
    },
    {
      "cell_type": "markdown",
      "metadata": {
        "id": "tzCcDW6cXEDu"
      },
      "source": [
        "cleaning missing data"
      ]
    },
    {
      "cell_type": "code",
      "execution_count": 16,
      "metadata": {
        "id": "2n0u0tEFXHP2"
      },
      "outputs": [],
      "source": [
        "df.loc[df.category=='Biographies','category'] = 'biographies'\n",
        "df.loc[df.category=='Philosophy','category'] = 'philosophy'\n",
        "df.loc[df.category=='Programming','category'] = 'programming'\n",
        "df.loc[df.category=='Artificial intelligence','category'] = 'artificial intelligence'\n",
        "df.loc[df.category=='Movies about artificial intelligence','category'] = 'movies about artificial intelligence'\n"
      ]
    },
    {
      "cell_type": "code",
      "execution_count": 17,
      "metadata": {
        "id": "H-L_3YKtXjMw"
      },
      "outputs": [],
      "source": [
        "accepted_has_entity = ['ORG_YES_PRODUCT_NO_PERSON_YES_','ORG_NO_PRODUCT_NO_PERSON_NO_','ORG_YES_PRODUCT_NO_PERSON_NO_','ORG_NO_PRODUCT_NO_PERSON_YES_ ','ORG_YES_PRODUCT_YES_PERSON_YES_', 'ORG_YES_PRODUCT_YES_PERSON_NO_','ORG_NO_PRODUCT_YES_PERSON_YES_', 'ORG_NO_PRODUCT_YES_PERSON_NO_']\n",
        "df.loc[df.has_entity.map(lambda x: x not in accepted_has_entity),'has_entity'] = np.nan"
      ]
    },
    {
      "cell_type": "code",
      "execution_count": 18,
      "metadata": {
        "colab": {
          "base_uri": "https://localhost:8080/"
        },
        "id": "1gs3dgZqX8lh",
        "outputId": "18e78fa2-bf38-49b5-e4a8-e81cd466892e"
      },
      "outputs": [
        {
          "output_type": "stream",
          "name": "stdout",
          "text": [
            "Categories and number of occurrences for 'has_entity'\n",
            "ORG_YES_PRODUCT_NO_PERSON_YES_     2996\n",
            "ORG_NO_PRODUCT_NO_PERSON_NO_       2793\n",
            "ORG_YES_PRODUCT_NO_PERSON_NO_      1448\n",
            "ORG_YES_PRODUCT_YES_PERSON_YES_     292\n",
            "ORG_YES_PRODUCT_YES_PERSON_NO_      124\n",
            "ORG_NO_PRODUCT_YES_PERSON_YES_       64\n",
            "ORG_NO_PRODUCT_YES_PERSON_NO_        42\n",
            "Name: has_entity, dtype: int64\n",
            "\n",
            "Categories and number of occurrences for 'last_editor_gender'\n",
            "man                  6103\n",
            "woman                2412\n",
            "non-binary            352\n",
            "prefer_not_to_say     265\n",
            "Name: last_editor_gender, dtype: int64\n",
            "\n",
            "Categories and number of occurrences for 'category'\n",
            "biographies                             2899\n",
            "philosophy                              2524\n",
            "programming                             1948\n",
            "artificial intelligence                 1537\n",
            "movies about artificial intelligence     163\n",
            "Name: category, dtype: int64\n",
            "\n",
            "Categories and number of occurrences for 'text_clarity'\n",
            "clear_enough        5\n",
            "not_clear_enough    4\n",
            "Name: text_clarity, dtype: int64\n",
            "\n"
          ]
        }
      ],
      "source": [
        "# let's get the categories and their count for each feature\n",
        "for col in categorical_columns:\n",
        "  print(f\"Categories and number of occurrences for '{col}'\")\n",
        "  print(df[col].value_counts())\n",
        "  print()"
      ]
    },
    {
      "cell_type": "markdown",
      "metadata": {
        "id": "5D8ElEbNDng4"
      },
      "source": [
        "Data Exploration"
      ]
    },
    {
      "cell_type": "code",
      "execution_count": 19,
      "metadata": {
        "colab": {
          "base_uri": "https://localhost:8080/",
          "height": 815
        },
        "id": "nU5jN4rDDron",
        "outputId": "78ca3d5a-16fc-4faa-a71c-35341c3bf000"
      },
      "outputs": [
        {
          "output_type": "execute_result",
          "data": {
            "text/plain": [
              "([0, 1, 2, 3, 4],\n",
              " [Text(0, 0, 'biographies'),\n",
              "  Text(1, 0, 'artificial intelligence'),\n",
              "  Text(2, 0, 'programming'),\n",
              "  Text(3, 0, 'philosophy'),\n",
              "  Text(4, 0, 'movies about artificial intelligence')])"
            ]
          },
          "metadata": {},
          "execution_count": 19
        },
        {
          "output_type": "display_data",
          "data": {
            "text/plain": [
              "<Figure size 1000x500 with 1 Axes>"
            ],
            "image/png": "[encoded data removed]"
          },
          "metadata": {}
        }
      ],
      "source": [
        "\n",
        "_ = plt.figure(figsize=(10, 5))\n",
        "sns.countplot(x='category', data=df)\n",
        "plt.title('Distribution of category')\n",
        "plt.xticks(rotation=90)\n"
      ]
    },
    {
      "cell_type": "code",
      "execution_count": 20,
      "metadata": {
        "colab": {
          "base_uri": "https://localhost:8080/",
          "height": 504
        },
        "id": "tqUQhGDXNWdb",
        "outputId": "44a463b2-e32c-4819-d197-cc4ac3ab4ea7"
      },
      "outputs": [
        {
          "output_type": "execute_result",
          "data": {
            "text/plain": [
              "Text(0.5, 1.0, 'Distribution of last_editor_gender')"
            ]
          },
          "metadata": {},
          "execution_count": 20
        },
        {
          "output_type": "display_data",
          "data": {
            "text/plain": [
              "<Figure size 1000x500 with 1 Axes>"
            ],
            "image/png": "[encoded data removed]"
          },
          "metadata": {}
        }
      ],
      "source": [
        "_ = plt.figure(figsize=(10, 5))\n",
        "sns.countplot(x='last_editor_gender', data=df)\n",
        "plt.title('Distribution of last_editor_gender')\n"
      ]
    },
    {
      "cell_type": "markdown",
      "metadata": {
        "id": "MXimHnpweXhn"
      },
      "source": [
        "filling mising values"
      ]
    },
    {
      "cell_type": "code",
      "execution_count": 21,
      "metadata": {
        "colab": {
          "base_uri": "https://localhost:8080/"
        },
        "id": "oukUNBrKedQ3",
        "outputId": "2f765856-6cca-4a66-c640-77518e8e9dd8"
      },
      "outputs": [
        {
          "output_type": "stream",
          "name": "stdout",
          "text": [
            "0\n"
          ]
        }
      ],
      "source": [
        "# 1. Imputer\n",
        "from sklearn.impute import SimpleImputer\n",
        "imptr_example = SimpleImputer(missing_values = np.nan, strategy = 'most_frequent')\n",
        "\n",
        "# 2. Fit the imputer object to the feature matrix\n",
        "imptr_example = imptr_example.fit(df[['category']])\n",
        "\n",
        "\n",
        "# 3. Call Transform to replace missing data in train_dataset (on specific columns) by the mean of the column to which that missing data belongs to\n",
        "df[['category']] = imptr_example.transform(\n",
        "    df[['category']])\n",
        "\n",
        "\n",
        "# check the column has no more missing values:\n",
        "print(df['category'].isna().sum())"
      ]
    },
    {
      "cell_type": "markdown",
      "metadata": {
        "id": "Ycvp_zkUYKp_"
      },
      "source": [
        "Data Spliting"
      ]
    },
    {
      "cell_type": "code",
      "execution_count": 22,
      "metadata": {
        "id": "VpMJ4qAHYPCK"
      },
      "outputs": [],
      "source": [
        "# split the dataset\n",
        "df_train, df_test = train_test_split(df, test_size = 0.2,\n",
        "                                     shuffle=True, random_state=0)\n",
        "train_category_label = df_train['category'].copy()\n",
        "test_category_label = df_test['category'].copy()\n",
        "\n",
        "# Droping the labels from the training and testing data\n",
        "df_train = df_train.drop(['category', 'text_clarity'], axis=1)\n",
        "df_test = df_test.drop(['category', 'text_clarity'], axis=1)\n",
        "\n"
      ]
    },
    {
      "cell_type": "code",
      "execution_count": 23,
      "metadata": {
        "id": "jXEiO2yVa10I"
      },
      "outputs": [],
      "source": [
        "train_category_label = pd.DataFrame(train_category_label, columns=['category'])\n",
        "test_category_label = pd.DataFrame(test_category_label, columns=['category'])\n"
      ]
    },
    {
      "cell_type": "code",
      "execution_count": 23,
      "metadata": {
        "id": "imjLVxTFEPa6"
      },
      "outputs": [],
      "source": []
    },
    {
      "cell_type": "code",
      "execution_count": 24,
      "metadata": {
        "id": "qhBWFgAqdX5J"
      },
      "outputs": [],
      "source": [
        "train_categorical_columns = ['has_entity', 'last_editor_gender']"
      ]
    },
    {
      "cell_type": "markdown",
      "metadata": {
        "id": "xcheP7bQbfdi"
      },
      "source": [
        "Encoding the categorical features"
      ]
    },
    {
      "cell_type": "code",
      "execution_count": 25,
      "metadata": {
        "colab": {
          "base_uri": "https://localhost:8080/"
        },
        "id": "tlqSfUw6bttw",
        "outputId": "fa1573ff-7661-46fe-9787-05d693c62d02"
      },
      "outputs": [
        {
          "output_type": "stream",
          "name": "stdout",
          "text": [
            "['has_entity_ORG_NO_PRODUCT_NO_PERSON_NO_'\n",
            " 'has_entity_ORG_NO_PRODUCT_YES_PERSON_NO_'\n",
            " 'has_entity_ORG_NO_PRODUCT_YES_PERSON_YES_'\n",
            " 'has_entity_ORG_YES_PRODUCT_NO_PERSON_NO_'\n",
            " 'has_entity_ORG_YES_PRODUCT_NO_PERSON_YES_'\n",
            " 'has_entity_ORG_YES_PRODUCT_YES_PERSON_NO_'\n",
            " 'has_entity_ORG_YES_PRODUCT_YES_PERSON_YES_' 'has_entity_nan'\n",
            " 'last_editor_gender_man' 'last_editor_gender_non-binary'\n",
            " 'last_editor_gender_prefer_not_to_say' 'last_editor_gender_woman'\n",
            " 'par_id' 'paragraph' 'lexicon_count' 'difficult_words']\n",
            "\n",
            "  has_entity_ORG_NO_PRODUCT_NO_PERSON_NO_  \\\n",
            "0                                     0.0   \n",
            "1                                     0.0   \n",
            "2                                     1.0   \n",
            "3                                     0.0   \n",
            "4                                     1.0   \n",
            "\n",
            "  has_entity_ORG_NO_PRODUCT_YES_PERSON_NO_  \\\n",
            "0                                      0.0   \n",
            "1                                      0.0   \n",
            "2                                      0.0   \n",
            "3                                      0.0   \n",
            "4                                      0.0   \n",
            "\n",
            "  has_entity_ORG_NO_PRODUCT_YES_PERSON_YES_  \\\n",
            "0                                       0.0   \n",
            "1                                       0.0   \n",
            "2                                       0.0   \n",
            "3                                       0.0   \n",
            "4                                       0.0   \n",
            "\n",
            "  has_entity_ORG_YES_PRODUCT_NO_PERSON_NO_  \\\n",
            "0                                      0.0   \n",
            "1                                      0.0   \n",
            "2                                      0.0   \n",
            "3                                      0.0   \n",
            "4                                      0.0   \n",
            "\n",
            "  has_entity_ORG_YES_PRODUCT_NO_PERSON_YES_  \\\n",
            "0                                       1.0   \n",
            "1                                       0.0   \n",
            "2                                       0.0   \n",
            "3                                       0.0   \n",
            "4                                       0.0   \n",
            "\n",
            "  has_entity_ORG_YES_PRODUCT_YES_PERSON_NO_  \\\n",
            "0                                       0.0   \n",
            "1                                       0.0   \n",
            "2                                       0.0   \n",
            "3                                       0.0   \n",
            "4                                       0.0   \n",
            "\n",
            "  has_entity_ORG_YES_PRODUCT_YES_PERSON_YES_ has_entity_nan  \\\n",
            "0                                        0.0            0.0   \n",
            "1                                        0.0            1.0   \n",
            "2                                        0.0            0.0   \n",
            "3                                        0.0            1.0   \n",
            "4                                        0.0            0.0   \n",
            "\n",
            "  last_editor_gender_man last_editor_gender_non-binary  \\\n",
            "0                    1.0                           0.0   \n",
            "1                    1.0                           0.0   \n",
            "2                    1.0                           0.0   \n",
            "3                    1.0                           0.0   \n",
            "4                    1.0                           0.0   \n",
            "\n",
            "  last_editor_gender_prefer_not_to_say last_editor_gender_woman        par_id  \\\n",
            "0                                  0.0                      0.0   83427006011   \n",
            "1                                  0.0                      0.0  307919001820   \n",
            "2                                  0.0                      0.0  141864007020   \n",
            "3                                  0.0                      0.0   66883005709   \n",
            "4                                  0.0                      0.0  417462009479   \n",
            "\n",
            "                                           paragraph lexicon_count  \\\n",
            "0  The first Fortran compiler set a high standard...            68   \n",
            "1  There are different generalisations of this th...            50   \n",
            "2  Object – The Object data type is defined by th...            51   \n",
            "3   According to the Duke of Windsor, the experie...           100   \n",
            "4  It will coin much faster, with greater ease, w...           141   \n",
            "\n",
            "  difficult_words  \n",
            "0            21.0  \n",
            "1            16.0  \n",
            "2            11.0  \n",
            "3            24.0  \n",
            "4            15.0  \n"
          ]
        }
      ],
      "source": [
        "from sklearn.compose import ColumnTransformer\n",
        "from sklearn.preprocessing import OneHotEncoder\n",
        "# define the transformation\n",
        "ct_cat = ColumnTransformer(\n",
        "    [\n",
        "        (\n",
        "            \"onehot_categorical\", # --> name of the transformation\n",
        "            OneHotEncoder(), # --> main function to apply\n",
        "            train_categorical_columns, #-->columns to apply it to\n",
        "        ),\n",
        "    ],\n",
        "    remainder=\"passthrough\", #--> what to do with the non-transformed columns. passthrough=keep them\n",
        "    verbose_feature_names_out=False\n",
        ")\n",
        "\n",
        "# the output is an ARRAY with the encoded columns.\n",
        "encoded_array= ct_cat.fit_transform(df_train)\n",
        "\n",
        "# What if we want a dataframe back? We can combine the array with the info about\n",
        "# the column names stored in ct.get_feature_names_out()\n",
        "encoded_col_names= ct_cat.get_feature_names_out()\n",
        "print(encoded_col_names)\n",
        "\n",
        "df_train= pd.DataFrame(encoded_array, columns=encoded_col_names)\n",
        "\n",
        "print()\n",
        "print(df_train.head(5))\n"
      ]
    },
    {
      "cell_type": "markdown",
      "metadata": {
        "id": "w_JtRY2Ne3ON"
      },
      "source": [
        "Encoding the test data categoritical features"
      ]
    },
    {
      "cell_type": "code",
      "execution_count": 26,
      "metadata": {
        "colab": {
          "base_uri": "https://localhost:8080/"
        },
        "id": "8QwlMcqZfCvc",
        "outputId": "90674c74-036a-47c2-c082-ddf8239b3bcd"
      },
      "outputs": [
        {
          "output_type": "stream",
          "name": "stdout",
          "text": [
            "['has_entity_ORG_NO_PRODUCT_NO_PERSON_NO_'\n",
            " 'has_entity_ORG_NO_PRODUCT_YES_PERSON_NO_'\n",
            " 'has_entity_ORG_NO_PRODUCT_YES_PERSON_YES_'\n",
            " 'has_entity_ORG_YES_PRODUCT_NO_PERSON_NO_'\n",
            " 'has_entity_ORG_YES_PRODUCT_NO_PERSON_YES_'\n",
            " 'has_entity_ORG_YES_PRODUCT_YES_PERSON_NO_'\n",
            " 'has_entity_ORG_YES_PRODUCT_YES_PERSON_YES_' 'has_entity_nan'\n",
            " 'last_editor_gender_man' 'last_editor_gender_non-binary'\n",
            " 'last_editor_gender_prefer_not_to_say' 'last_editor_gender_woman'\n",
            " 'par_id' 'paragraph' 'lexicon_count' 'difficult_words']\n",
            "\n",
            "  has_entity_ORG_NO_PRODUCT_NO_PERSON_NO_  \\\n",
            "0                                     1.0   \n",
            "1                                     0.0   \n",
            "2                                     0.0   \n",
            "3                                     0.0   \n",
            "4                                     0.0   \n",
            "\n",
            "  has_entity_ORG_NO_PRODUCT_YES_PERSON_NO_  \\\n",
            "0                                      0.0   \n",
            "1                                      0.0   \n",
            "2                                      0.0   \n",
            "3                                      0.0   \n",
            "4                                      0.0   \n",
            "\n",
            "  has_entity_ORG_NO_PRODUCT_YES_PERSON_YES_  \\\n",
            "0                                       0.0   \n",
            "1                                       0.0   \n",
            "2                                       0.0   \n",
            "3                                       0.0   \n",
            "4                                       0.0   \n",
            "\n",
            "  has_entity_ORG_YES_PRODUCT_NO_PERSON_NO_  \\\n",
            "0                                      0.0   \n",
            "1                                      0.0   \n",
            "2                                      0.0   \n",
            "3                                      0.0   \n",
            "4                                      0.0   \n",
            "\n",
            "  has_entity_ORG_YES_PRODUCT_NO_PERSON_YES_  \\\n",
            "0                                       0.0   \n",
            "1                                       1.0   \n",
            "2                                       1.0   \n",
            "3                                       1.0   \n",
            "4                                       1.0   \n",
            "\n",
            "  has_entity_ORG_YES_PRODUCT_YES_PERSON_NO_  \\\n",
            "0                                       0.0   \n",
            "1                                       0.0   \n",
            "2                                       0.0   \n",
            "3                                       0.0   \n",
            "4                                       0.0   \n",
            "\n",
            "  has_entity_ORG_YES_PRODUCT_YES_PERSON_YES_ has_entity_nan  \\\n",
            "0                                        0.0            0.0   \n",
            "1                                        0.0            0.0   \n",
            "2                                        0.0            0.0   \n",
            "3                                        0.0            0.0   \n",
            "4                                        0.0            0.0   \n",
            "\n",
            "  last_editor_gender_man last_editor_gender_non-binary  \\\n",
            "0                    0.0                           0.0   \n",
            "1                    0.0                           0.0   \n",
            "2                    1.0                           0.0   \n",
            "3                    0.0                           0.0   \n",
            "4                    1.0                           0.0   \n",
            "\n",
            "  last_editor_gender_prefer_not_to_say last_editor_gender_woman        par_id  \\\n",
            "0                                  0.0                      1.0  113793006533   \n",
            "1                                  0.0                      1.0  109709006321   \n",
            "2                                  0.0                      0.0   52793005367   \n",
            "3                                  0.0                      1.0  436161002255   \n",
            "4                                  0.0                      0.0  933533012252   \n",
            "\n",
            "                                           paragraph lexicon_count  \\\n",
            "0  Meta-reasoning is reasoning about reasoning. I...            39   \n",
            "1  Wren was laid to rest on 5 March 1723. His bod...            89   \n",
            "2   He was, however, renowned for the quality of ...           117   \n",
            "3  Thomas Young  was an English polymath. Young m...            61   \n",
            "4  Recursion, neural nets and genetic algorithms ...            57   \n",
            "\n",
            "  difficult_words  \n",
            "0            15.0  \n",
            "1             8.0  \n",
            "2            25.0  \n",
            "3            19.0  \n",
            "4            24.0  \n"
          ]
        }
      ],
      "source": [
        "# the output is an ARRAY with the encoded columns.\n",
        "encoded_test_array= ct_cat.fit_transform(df_test)\n",
        "\n",
        "# What if we want a dataframe back? We can combine the array with the info about\n",
        "# the column names stored in ct.get_feature_names_out()\n",
        "encoded_test_col_names= ct_cat.get_feature_names_out()\n",
        "print(encoded_test_col_names)\n",
        "\n",
        "df_test= pd.DataFrame(encoded_test_array, columns=encoded_test_col_names)\n",
        "\n",
        "print()\n",
        "print(df_test.head(5))\n"
      ]
    },
    {
      "cell_type": "markdown",
      "metadata": {
        "id": "9rnRXRFbf61V"
      },
      "source": [
        "Lebel encoding"
      ]
    },
    {
      "cell_type": "code",
      "execution_count": 27,
      "metadata": {
        "colab": {
          "base_uri": "https://localhost:8080/"
        },
        "id": "yybxZH3Bf-GY",
        "outputId": "345e1f3a-2c66-48a3-f3d2-b1c24a09175e"
      },
      "outputs": [
        {
          "output_type": "stream",
          "name": "stdout",
          "text": [
            "biographies                             2368\n",
            "philosophy                              1976\n",
            "programming                             1563\n",
            "artificial intelligence                 1263\n",
            "movies about artificial intelligence     135\n",
            "Name: category, dtype: int64\n",
            "\n",
            "0\n"
          ]
        }
      ],
      "source": [
        "# First check: what are the target categories?\n",
        "print(train_category_label['category'].value_counts())\n",
        "print()\n",
        "print(train_category_label['category'].isna().sum())\n"
      ]
    },
    {
      "cell_type": "code",
      "execution_count": 27,
      "metadata": {
        "id": "oA1DkEWD3U1D"
      },
      "outputs": [],
      "source": []
    },
    {
      "cell_type": "code",
      "execution_count": 27,
      "metadata": {
        "id": "Gf-Q-uIk-SoE"
      },
      "outputs": [],
      "source": []
    },
    {
      "cell_type": "code",
      "execution_count": 28,
      "metadata": {
        "id": "HB0W3TysgjSX",
        "colab": {
          "base_uri": "https://localhost:8080/"
        },
        "outputId": "e23f1911-61c4-414f-e1fa-ce8893350544"
      },
      "outputs": [
        {
          "output_type": "stream",
          "name": "stderr",
          "text": [
            "/usr/local/lib/python3.10/dist-packages/sklearn/preprocessing/_label.py:99: DataConversionWarning: A column-vector y was passed when a 1d array was expected. Please change the shape of y to (n_samples, ), for example using ravel().\n",
            "  y = column_or_1d(y, warn=True)\n",
            "/usr/local/lib/python3.10/dist-packages/sklearn/preprocessing/_label.py:134: DataConversionWarning: A column-vector y was passed when a 1d array was expected. Please change the shape of y to (n_samples, ), for example using ravel().\n",
            "  y = column_or_1d(y, dtype=self.classes_.dtype, warn=True)\n"
          ]
        }
      ],
      "source": [
        "from sklearn.preprocessing import LabelEncoder\n",
        "# create an object of the LabelEncoder class\n",
        "lblEncoder_X = LabelEncoder()\n",
        "# apply LblEncoder object to our training variables\n",
        "lblEncoder_X = lblEncoder_X.fit(train_category_label)\n",
        "train_category_label = lblEncoder_X.transform(train_category_label)\n"
      ]
    },
    {
      "cell_type": "code",
      "execution_count": 29,
      "metadata": {
        "colab": {
          "base_uri": "https://localhost:8080/"
        },
        "id": "Yp2U4kdzzCnO",
        "outputId": "43cc9030-e697-456f-a50d-4ed4ea9890a8"
      },
      "outputs": [
        {
          "output_type": "stream",
          "name": "stdout",
          "text": [
            "biographies                             592\n",
            "philosophy                              548\n",
            "programming                             385\n",
            "artificial intelligence                 274\n",
            "movies about artificial intelligence     28\n",
            "Name: category, dtype: int64\n"
          ]
        }
      ],
      "source": [
        "\n",
        "print(test_category_label['category'].value_counts())"
      ]
    },
    {
      "cell_type": "code",
      "execution_count": 30,
      "metadata": {
        "id": "p8UPIPlgiDFM",
        "colab": {
          "base_uri": "https://localhost:8080/"
        },
        "outputId": "bc9b8126-6c58-4958-acd3-d632f35bddee"
      },
      "outputs": [
        {
          "output_type": "stream",
          "name": "stderr",
          "text": [
            "/usr/local/lib/python3.10/dist-packages/sklearn/preprocessing/_label.py:116: DataConversionWarning: A column-vector y was passed when a 1d array was expected. Please change the shape of y to (n_samples, ), for example using ravel().\n",
            "  y = column_or_1d(y, warn=True)\n"
          ]
        }
      ],
      "source": [
        "from sklearn.preprocessing import LabelEncoder\n",
        "# create an object of the LabelEncoder class\n",
        "lblEncoder_T = LabelEncoder()\n",
        "# apply LblEncoder object to our target variables\n",
        "test_category_label = lblEncoder_T.fit_transform(test_category_label)\n"
      ]
    },
    {
      "cell_type": "code",
      "execution_count": 31,
      "metadata": {
        "colab": {
          "base_uri": "https://localhost:8080/",
          "height": 513
        },
        "id": "nZat3M7ZnGdf",
        "outputId": "dae480c4-a203-402f-f766-39258a359416"
      },
      "outputs": [
        {
          "output_type": "execute_result",
          "data": {
            "text/plain": [
              "  has_entity_ORG_NO_PRODUCT_NO_PERSON_NO_  \\\n",
              "0                                     0.0   \n",
              "1                                     0.0   \n",
              "2                                     1.0   \n",
              "3                                     0.0   \n",
              "4                                     1.0   \n",
              "\n",
              "  has_entity_ORG_NO_PRODUCT_YES_PERSON_NO_  \\\n",
              "0                                      0.0   \n",
              "1                                      0.0   \n",
              "2                                      0.0   \n",
              "3                                      0.0   \n",
              "4                                      0.0   \n",
              "\n",
              "  has_entity_ORG_NO_PRODUCT_YES_PERSON_YES_  \\\n",
              "0                                       0.0   \n",
              "1                                       0.0   \n",
              "2                                       0.0   \n",
              "3                                       0.0   \n",
              "4                                       0.0   \n",
              "\n",
              "  has_entity_ORG_YES_PRODUCT_NO_PERSON_NO_  \\\n",
              "0                                      0.0   \n",
              "1                                      0.0   \n",
              "2                                      0.0   \n",
              "3                                      0.0   \n",
              "4                                      0.0   \n",
              "\n",
              "  has_entity_ORG_YES_PRODUCT_NO_PERSON_YES_  \\\n",
              "0                                       1.0   \n",
              "1                                       0.0   \n",
              "2                                       0.0   \n",
              "3                                       0.0   \n",
              "4                                       0.0   \n",
              "\n",
              "  has_entity_ORG_YES_PRODUCT_YES_PERSON_NO_  \\\n",
              "0                                       0.0   \n",
              "1                                       0.0   \n",
              "2                                       0.0   \n",
              "3                                       0.0   \n",
              "4                                       0.0   \n",
              "\n",
              "  has_entity_ORG_YES_PRODUCT_YES_PERSON_YES_ has_entity_nan  \\\n",
              "0                                        0.0            0.0   \n",
              "1                                        0.0            1.0   \n",
              "2                                        0.0            0.0   \n",
              "3                                        0.0            1.0   \n",
              "4                                        0.0            0.0   \n",
              "\n",
              "  last_editor_gender_man last_editor_gender_non-binary  \\\n",
              "0                    1.0                           0.0   \n",
              "1                    1.0                           0.0   \n",
              "2                    1.0                           0.0   \n",
              "3                    1.0                           0.0   \n",
              "4                    1.0                           0.0   \n",
              "\n",
              "  last_editor_gender_prefer_not_to_say last_editor_gender_woman        par_id  \\\n",
              "0                                  0.0                      0.0   83427006011   \n",
              "1                                  0.0                      0.0  307919001820   \n",
              "2                                  0.0                      0.0  141864007020   \n",
              "3                                  0.0                      0.0   66883005709   \n",
              "4                                  0.0                      0.0  417462009479   \n",
              "\n",
              "                                           paragraph lexicon_count  \\\n",
              "0  The first Fortran compiler set a high standard...            68   \n",
              "1  There are different generalisations of this th...            50   \n",
              "2  Object – The Object data type is defined by th...            51   \n",
              "3   According to the Duke of Windsor, the experie...           100   \n",
              "4  It will coin much faster, with greater ease, w...           141   \n",
              "\n",
              "  difficult_words  \n",
              "0            21.0  \n",
              "1            16.0  \n",
              "2            11.0  \n",
              "3            24.0  \n",
              "4            15.0  "
            ],
            "text/html": [
              "\n",
              "  <div id=\"df-82e7857d-c1c0-4abd-87d5-4f724c4e1e5f\" class=\"colab-df-container\">\n",
              "    <div>\n",
              "<style scoped>\n",
              "    .dataframe tbody tr th:only-of-type {\n",
              "        vertical-align: middle;\n",
              "    }\n",
              "\n",
              "    .dataframe tbody tr th {\n",
              "        vertical-align: top;\n",
              "    }\n",
              "\n",
              "    .dataframe thead th {\n",
              "        text-align: right;\n",
              "    }\n",
              "</style>\n",
              "<table border=\"1\" class=\"dataframe\">\n",
              "  <thead>\n",
              "    <tr style=\"text-align: right;\">\n",
              "      <th></th>\n",
              "      <th>has_entity_ORG_NO_PRODUCT_NO_PERSON_NO_</th>\n",
              "      <th>has_entity_ORG_NO_PRODUCT_YES_PERSON_NO_</th>\n",
              "      <th>has_entity_ORG_NO_PRODUCT_YES_PERSON_YES_</th>\n",
              "      <th>has_entity_ORG_YES_PRODUCT_NO_PERSON_NO_</th>\n",
              "      <th>has_entity_ORG_YES_PRODUCT_NO_PERSON_YES_</th>\n",
              "      <th>has_entity_ORG_YES_PRODUCT_YES_PERSON_NO_</th>\n",
              "      <th>has_entity_ORG_YES_PRODUCT_YES_PERSON_YES_</th>\n",
              "      <th>has_entity_nan</th>\n",
              "      <th>last_editor_gender_man</th>\n",
              "      <th>last_editor_gender_non-binary</th>\n",
              "      <th>last_editor_gender_prefer_not_to_say</th>\n",
              "      <th>last_editor_gender_woman</th>\n",
              "      <th>par_id</th>\n",
              "      <th>paragraph</th>\n",
              "      <th>lexicon_count</th>\n",
              "      <th>difficult_words</th>\n",
              "    </tr>\n",
              "  </thead>\n",
              "  <tbody>\n",
              "    <tr>\n",
              "      <th>0</th>\n",
              "      <td>0.0</td>\n",
              "      <td>0.0</td>\n",
              "      <td>0.0</td>\n",
              "      <td>0.0</td>\n",
              "      <td>1.0</td>\n",
              "      <td>0.0</td>\n",
              "      <td>0.0</td>\n",
              "      <td>0.0</td>\n",
              "      <td>1.0</td>\n",
              "      <td>0.0</td>\n",
              "      <td>0.0</td>\n",
              "      <td>0.0</td>\n",
              "      <td>83427006011</td>\n",
              "      <td>The first Fortran compiler set a high standard...</td>\n",
              "      <td>68</td>\n",
              "      <td>21.0</td>\n",
              "    </tr>\n",
              "    <tr>\n",
              "      <th>1</th>\n",
              "      <td>0.0</td>\n",
              "      <td>0.0</td>\n",
              "      <td>0.0</td>\n",
              "      <td>0.0</td>\n",
              "      <td>0.0</td>\n",
              "      <td>0.0</td>\n",
              "      <td>0.0</td>\n",
              "      <td>1.0</td>\n",
              "      <td>1.0</td>\n",
              "      <td>0.0</td>\n",
              "      <td>0.0</td>\n",
              "      <td>0.0</td>\n",
              "      <td>307919001820</td>\n",
              "      <td>There are different generalisations of this th...</td>\n",
              "      <td>50</td>\n",
              "      <td>16.0</td>\n",
              "    </tr>\n",
              "    <tr>\n",
              "      <th>2</th>\n",
              "      <td>1.0</td>\n",
              "      <td>0.0</td>\n",
              "      <td>0.0</td>\n",
              "      <td>0.0</td>\n",
              "      <td>0.0</td>\n",
              "      <td>0.0</td>\n",
              "      <td>0.0</td>\n",
              "      <td>0.0</td>\n",
              "      <td>1.0</td>\n",
              "      <td>0.0</td>\n",
              "      <td>0.0</td>\n",
              "      <td>0.0</td>\n",
              "      <td>141864007020</td>\n",
              "      <td>Object – The Object data type is defined by th...</td>\n",
              "      <td>51</td>\n",
              "      <td>11.0</td>\n",
              "    </tr>\n",
              "    <tr>\n",
              "      <th>3</th>\n",
              "      <td>0.0</td>\n",
              "      <td>0.0</td>\n",
              "      <td>0.0</td>\n",
              "      <td>0.0</td>\n",
              "      <td>0.0</td>\n",
              "      <td>0.0</td>\n",
              "      <td>0.0</td>\n",
              "      <td>1.0</td>\n",
              "      <td>1.0</td>\n",
              "      <td>0.0</td>\n",
              "      <td>0.0</td>\n",
              "      <td>0.0</td>\n",
              "      <td>66883005709</td>\n",
              "      <td>According to the Duke of Windsor, the experie...</td>\n",
              "      <td>100</td>\n",
              "      <td>24.0</td>\n",
              "    </tr>\n",
              "    <tr>\n",
              "      <th>4</th>\n",
              "      <td>1.0</td>\n",
              "      <td>0.0</td>\n",
              "      <td>0.0</td>\n",
              "      <td>0.0</td>\n",
              "      <td>0.0</td>\n",
              "      <td>0.0</td>\n",
              "      <td>0.0</td>\n",
              "      <td>0.0</td>\n",
              "      <td>1.0</td>\n",
              "      <td>0.0</td>\n",
              "      <td>0.0</td>\n",
              "      <td>0.0</td>\n",
              "      <td>417462009479</td>\n",
              "      <td>It will coin much faster, with greater ease, w...</td>\n",
              "      <td>141</td>\n",
              "      <td>15.0</td>\n",
              "    </tr>\n",
              "  </tbody>\n",
              "</table>\n",
              "</div>\n",
              "    <div class=\"colab-df-buttons\">\n",
              "\n",
              "  <div class=\"colab-df-container\">\n",
              "    <button class=\"colab-df-convert\" onclick=\"convertToInteractive('df-82e7857d-c1c0-4abd-87d5-4f724c4e1e5f')\"\n",
              "            title=\"Convert this dataframe to an interactive table.\"\n",
              "            style=\"display:none;\">\n",
              "\n",
              "  <svg xmlns=\"http://www.w3.org/2000/svg\" height=\"24px\" viewBox=\"0 -960 960 960\">\n",
              "    <path d=\"M120-120v-720h720v720H120Zm60-500h600v-160H180v160Zm220 220h160v-160H400v160Zm0 220h160v-160H400v160ZM180-400h160v-160H180v160Zm440 0h160v-160H620v160ZM180-180h160v-160H180v160Zm440 0h160v-160H620v160Z\"/>\n",
              "  </svg>\n",
              "    </button>\n",
              "\n",
              "  <style>\n",
              "    .colab-df-container {\n",
              "      display:flex;\n",
              "      gap: 12px;\n",
              "    }\n",
              "\n",
              "    .colab-df-convert {\n",
              "      background-color: #E8F0FE;\n",
              "      border: none;\n",
              "      border-radius: 50%;\n",
              "      cursor: pointer;\n",
              "      display: none;\n",
              "      fill: #1967D2;\n",
              "      height: 32px;\n",
              "      padding: 0 0 0 0;\n",
              "      width: 32px;\n",
              "    }\n",
              "\n",
              "    .colab-df-convert:hover {\n",
              "      background-color: #E2EBFA;\n",
              "      box-shadow: 0px 1px 2px rgba(60, 64, 67, 0.3), 0px 1px 3px 1px rgba(60, 64, 67, 0.15);\n",
              "      fill: #174EA6;\n",
              "    }\n",
              "\n",
              "    .colab-df-buttons div {\n",
              "      margin-bottom: 4px;\n",
              "    }\n",
              "\n",
              "    [theme=dark] .colab-df-convert {\n",
              "      background-color: #3B4455;\n",
              "      fill: #D2E3FC;\n",
              "    }\n",
              "\n",
              "    [theme=dark] .colab-df-convert:hover {\n",
              "      background-color: #434B5C;\n",
              "      box-shadow: 0px 1px 3px 1px rgba(0, 0, 0, 0.15);\n",
              "      filter: drop-shadow(0px 1px 2px rgba(0, 0, 0, 0.3));\n",
              "      fill: #FFFFFF;\n",
              "    }\n",
              "  </style>\n",
              "\n",
              "    <script>\n",
              "      const buttonEl =\n",
              "        document.querySelector('#df-82e7857d-c1c0-4abd-87d5-4f724c4e1e5f button.colab-df-convert');\n",
              "      buttonEl.style.display =\n",
              "        google.colab.kernel.accessAllowed ? 'block' : 'none';\n",
              "\n",
              "      async function convertToInteractive(key) {\n",
              "        const element = document.querySelector('#df-82e7857d-c1c0-4abd-87d5-4f724c4e1e5f');\n",
              "        const dataTable =\n",
              "          await google.colab.kernel.invokeFunction('convertToInteractive',\n",
              "                                                    [key], {});\n",
              "        if (!dataTable) return;\n",
              "\n",
              "        const docLinkHtml = 'Like what you see? Visit the ' +\n",
              "          '<a target=\"_blank\" href=https://colab.research.google.com/notebooks/data_table.ipynb>data table notebook</a>'\n",
              "          + ' to learn more about interactive tables.';\n",
              "        element.innerHTML = '';\n",
              "        dataTable['output_type'] = 'display_data';\n",
              "        await google.colab.output.renderOutput(dataTable, element);\n",
              "        const docLink = document.createElement('div');\n",
              "        docLink.innerHTML = docLinkHtml;\n",
              "        element.appendChild(docLink);\n",
              "      }\n",
              "    </script>\n",
              "  </div>\n",
              "\n",
              "\n",
              "<div id=\"df-3f6b3a2f-c7cf-485d-8a09-544cbc8410f7\">\n",
              "  <button class=\"colab-df-quickchart\" onclick=\"quickchart('df-3f6b3a2f-c7cf-485d-8a09-544cbc8410f7')\"\n",
              "            title=\"Suggest charts\"\n",
              "            style=\"display:none;\">\n",
              "\n",
              "<svg xmlns=\"http://www.w3.org/2000/svg\" height=\"24px\"viewBox=\"0 0 24 24\"\n",
              "     width=\"24px\">\n",
              "    <g>\n",
              "        <path d=\"M19 3H5c-1.1 0-2 .9-2 2v14c0 1.1.9 2 2 2h14c1.1 0 2-.9 2-2V5c0-1.1-.9-2-2-2zM9 17H7v-7h2v7zm4 0h-2V7h2v10zm4 0h-2v-4h2v4z\"/>\n",
              "    </g>\n",
              "</svg>\n",
              "  </button>\n",
              "\n",
              "<style>\n",
              "  .colab-df-quickchart {\n",
              "      --bg-color: #E8F0FE;\n",
              "      --fill-color: #1967D2;\n",
              "      --hover-bg-color: #E2EBFA;\n",
              "      --hover-fill-color: #174EA6;\n",
              "      --disabled-fill-color: #AAA;\n",
              "      --disabled-bg-color: #DDD;\n",
              "  }\n",
              "\n",
              "  [theme=dark] .colab-df-quickchart {\n",
              "      --bg-color: #3B4455;\n",
              "      --fill-color: #D2E3FC;\n",
              "      --hover-bg-color: #434B5C;\n",
              "      --hover-fill-color: #FFFFFF;\n",
              "      --disabled-bg-color: #3B4455;\n",
              "      --disabled-fill-color: #666;\n",
              "  }\n",
              "\n",
              "  .colab-df-quickchart {\n",
              "    background-color: var(--bg-color);\n",
              "    border: none;\n",
              "    border-radius: 50%;\n",
              "    cursor: pointer;\n",
              "    display: none;\n",
              "    fill: var(--fill-color);\n",
              "    height: 32px;\n",
              "    padding: 0;\n",
              "    width: 32px;\n",
              "  }\n",
              "\n",
              "  .colab-df-quickchart:hover {\n",
              "    background-color: var(--hover-bg-color);\n",
              "    box-shadow: 0 1px 2px rgba(60, 64, 67, 0.3), 0 1px 3px 1px rgba(60, 64, 67, 0.15);\n",
              "    fill: var(--button-hover-fill-color);\n",
              "  }\n",
              "\n",
              "  .colab-df-quickchart-complete:disabled,\n",
              "  .colab-df-quickchart-complete:disabled:hover {\n",
              "    background-color: var(--disabled-bg-color);\n",
              "    fill: var(--disabled-fill-color);\n",
              "    box-shadow: none;\n",
              "  }\n",
              "\n",
              "  .colab-df-spinner {\n",
              "    border: 2px solid var(--fill-color);\n",
              "    border-color: transparent;\n",
              "    border-bottom-color: var(--fill-color);\n",
              "    animation:\n",
              "      spin 1s steps(1) infinite;\n",
              "  }\n",
              "\n",
              "  @keyframes spin {\n",
              "    0% {\n",
              "      border-color: transparent;\n",
              "      border-bottom-color: var(--fill-color);\n",
              "      border-left-color: var(--fill-color);\n",
              "    }\n",
              "    20% {\n",
              "      border-color: transparent;\n",
              "      border-left-color: var(--fill-color);\n",
              "      border-top-color: var(--fill-color);\n",
              "    }\n",
              "    30% {\n",
              "      border-color: transparent;\n",
              "      border-left-color: var(--fill-color);\n",
              "      border-top-color: var(--fill-color);\n",
              "      border-right-color: var(--fill-color);\n",
              "    }\n",
              "    40% {\n",
              "      border-color: transparent;\n",
              "      border-right-color: var(--fill-color);\n",
              "      border-top-color: var(--fill-color);\n",
              "    }\n",
              "    60% {\n",
              "      border-color: transparent;\n",
              "      border-right-color: var(--fill-color);\n",
              "    }\n",
              "    80% {\n",
              "      border-color: transparent;\n",
              "      border-right-color: var(--fill-color);\n",
              "      border-bottom-color: var(--fill-color);\n",
              "    }\n",
              "    90% {\n",
              "      border-color: transparent;\n",
              "      border-bottom-color: var(--fill-color);\n",
              "    }\n",
              "  }\n",
              "</style>\n",
              "\n",
              "  <script>\n",
              "    async function quickchart(key) {\n",
              "      const quickchartButtonEl =\n",
              "        document.querySelector('#' + key + ' button');\n",
              "      quickchartButtonEl.disabled = true;  // To prevent multiple clicks.\n",
              "      quickchartButtonEl.classList.add('colab-df-spinner');\n",
              "      try {\n",
              "        const charts = await google.colab.kernel.invokeFunction(\n",
              "            'suggestCharts', [key], {});\n",
              "      } catch (error) {\n",
              "        console.error('Error during call to suggestCharts:', error);\n",
              "      }\n",
              "      quickchartButtonEl.classList.remove('colab-df-spinner');\n",
              "      quickchartButtonEl.classList.add('colab-df-quickchart-complete');\n",
              "    }\n",
              "    (() => {\n",
              "      let quickchartButtonEl =\n",
              "        document.querySelector('#df-3f6b3a2f-c7cf-485d-8a09-544cbc8410f7 button');\n",
              "      quickchartButtonEl.style.display =\n",
              "        google.colab.kernel.accessAllowed ? 'block' : 'none';\n",
              "    })();\n",
              "  </script>\n",
              "</div>\n",
              "    </div>\n",
              "  </div>\n"
            ],
            "application/vnd.google.colaboratory.intrinsic+json": {
              "type": "dataframe",
              "variable_name": "df_train",
              "summary": "{\n  \"name\": \"df_train\",\n  \"rows\": 7305,\n  \"fields\": [\n    {\n      \"column\": \"has_entity_ORG_NO_PRODUCT_NO_PERSON_NO_\",\n      \"properties\": {\n        \"dtype\": \"date\",\n        \"min\": 0.0,\n        \"max\": 1.0,\n        \"num_unique_values\": 2,\n        \"samples\": [\n          1.0,\n          0.0\n        ],\n        \"semantic_type\": \"\",\n        \"description\": \"\"\n      }\n    },\n    {\n      \"column\": \"has_entity_ORG_NO_PRODUCT_YES_PERSON_NO_\",\n      \"properties\": {\n        \"dtype\": \"date\",\n        \"min\": 0.0,\n        \"max\": 1.0,\n        \"num_unique_values\": 2,\n        \"samples\": [\n          1.0,\n          0.0\n        ],\n        \"semantic_type\": \"\",\n        \"description\": \"\"\n      }\n    },\n    {\n      \"column\": \"has_entity_ORG_NO_PRODUCT_YES_PERSON_YES_\",\n      \"properties\": {\n        \"dtype\": \"date\",\n        \"min\": 0.0,\n        \"max\": 1.0,\n        \"num_unique_values\": 2,\n        \"samples\": [\n          1.0,\n          0.0\n        ],\n        \"semantic_type\": \"\",\n        \"description\": \"\"\n      }\n    },\n    {\n      \"column\": \"has_entity_ORG_YES_PRODUCT_NO_PERSON_NO_\",\n      \"properties\": {\n        \"dtype\": \"date\",\n        \"min\": 0.0,\n        \"max\": 1.0,\n        \"num_unique_values\": 2,\n        \"samples\": [\n          1.0,\n          0.0\n        ],\n        \"semantic_type\": \"\",\n        \"description\": \"\"\n      }\n    },\n    {\n      \"column\": \"has_entity_ORG_YES_PRODUCT_NO_PERSON_YES_\",\n      \"properties\": {\n        \"dtype\": \"date\",\n        \"min\": 0.0,\n        \"max\": 1.0,\n        \"num_unique_values\": 2,\n        \"samples\": [\n          0.0,\n          1.0\n        ],\n        \"semantic_type\": \"\",\n        \"description\": \"\"\n      }\n    },\n    {\n      \"column\": \"has_entity_ORG_YES_PRODUCT_YES_PERSON_NO_\",\n      \"properties\": {\n        \"dtype\": \"date\",\n        \"min\": 0.0,\n        \"max\": 1.0,\n        \"num_unique_values\": 2,\n        \"samples\": [\n          1.0,\n          0.0\n        ],\n        \"semantic_type\": \"\",\n        \"description\": \"\"\n      }\n    },\n    {\n      \"column\": \"has_entity_ORG_YES_PRODUCT_YES_PERSON_YES_\",\n      \"properties\": {\n        \"dtype\": \"date\",\n        \"min\": 0.0,\n        \"max\": 1.0,\n        \"num_unique_values\": 2,\n        \"samples\": [\n          1.0,\n          0.0\n        ],\n        \"semantic_type\": \"\",\n        \"description\": \"\"\n      }\n    },\n    {\n      \"column\": \"has_entity_nan\",\n      \"properties\": {\n        \"dtype\": \"date\",\n        \"min\": 0.0,\n        \"max\": 1.0,\n        \"num_unique_values\": 2,\n        \"samples\": [\n          1.0,\n          0.0\n        ],\n        \"semantic_type\": \"\",\n        \"description\": \"\"\n      }\n    },\n    {\n      \"column\": \"last_editor_gender_man\",\n      \"properties\": {\n        \"dtype\": \"date\",\n        \"min\": 0.0,\n        \"max\": 1.0,\n        \"num_unique_values\": 2,\n        \"samples\": [\n          0.0,\n          1.0\n        ],\n        \"semantic_type\": \"\",\n        \"description\": \"\"\n      }\n    },\n    {\n      \"column\": \"last_editor_gender_non-binary\",\n      \"properties\": {\n        \"dtype\": \"date\",\n        \"min\": 0.0,\n        \"max\": 1.0,\n        \"num_unique_values\": 2,\n        \"samples\": [\n          1.0,\n          0.0\n        ],\n        \"semantic_type\": \"\",\n        \"description\": \"\"\n      }\n    },\n    {\n      \"column\": \"last_editor_gender_prefer_not_to_say\",\n      \"properties\": {\n        \"dtype\": \"date\",\n        \"min\": 0.0,\n        \"max\": 1.0,\n        \"num_unique_values\": 2,\n        \"samples\": [\n          1.0,\n          0.0\n        ],\n        \"semantic_type\": \"\",\n        \"description\": \"\"\n      }\n    },\n    {\n      \"column\": \"last_editor_gender_woman\",\n      \"properties\": {\n        \"dtype\": \"date\",\n        \"min\": 0.0,\n        \"max\": 1.0,\n        \"num_unique_values\": 2,\n        \"samples\": [\n          1.0,\n          0.0\n        ],\n        \"semantic_type\": \"\",\n        \"description\": \"\"\n      }\n    },\n    {\n      \"column\": \"par_id\",\n      \"properties\": {\n        \"dtype\": \"date\",\n        \"min\": 85003276,\n        \"max\": 1058779003275,\n        \"num_unique_values\": 7305,\n        \"samples\": [\n          330064008817,\n          455652002317\n        ],\n        \"semantic_type\": \"\",\n        \"description\": \"\"\n      }\n    },\n    {\n      \"column\": \"paragraph\",\n      \"properties\": {\n        \"dtype\": \"string\",\n        \"num_unique_values\": 7200,\n        \"samples\": [\n          \"The first sentence of the Three Character Classic, a popular enlightenment book in Zhong Yuan, is \\\"At the beginning of man, nature is good\\\"; this seems to be the view of the common literati and Baixing. The scholar Luo Si-guang believes that the traditional Chinese literati were overly optimistic about human nature and failed to set up various checking power measures as the West did, thus failing to eradicate corrupt officials for thousands of years.\\u3002\",\n          \"Given Gladstone's majority in the Commons, Disraeli could do little but protest as the government advanced legislation; he chose to await Liberal mistakes. He used this leisure time to write a new novel, Lothair . A work of fiction by a former prime minister was a novelty for Britain, and the book became a bestseller.By 1872 there was dissent in the Conservative ranks over the failure to challenge Gladstone. This was quieted as Disraeli took steps to assert his leadership, and as divisions among the Liberals became clear. Public support for Disraeli was shown by cheering at a thanksgiving service in 1872 on the recovery of the Prince of Wales from illness, while Gladstone was met with silence. Disraeli had supported the efforts of party manager John Eldon Gorst to put the administration of the Conservative Party on a modern basis. On Gorst's advice, Disraeli gave a speech to a mass meeting in Manchester that year. To roaring approval, he compared the Liberal front bench to \\\"a range of exhausted volcanoes. But the situation is still dangerous. There are occasional earthquakes and ever and again the dark rumbling of the sea.\\\" Gladstone, Disraeli stated, dominated the scene and \\\"alternated between a menace and a sigh\\\".At his first departure from 10 Downing Street in 1868, Disraeli had had Victoria create Mary Anne Viscountess of Beaconsfield in her own right in lieu of a peerage for himself. Through 1872 the eighty-year-old peeress had stomach cancer.\"\n        ],\n        \"semantic_type\": \"\",\n        \"description\": \"\"\n      }\n    },\n    {\n      \"column\": \"lexicon_count\",\n      \"properties\": {\n        \"dtype\": \"date\",\n        \"min\": 0,\n        \"max\": 653,\n        \"num_unique_values\": 339,\n        \"samples\": [\n          220,\n          137\n        ],\n        \"semantic_type\": \"\",\n        \"description\": \"\"\n      }\n    },\n    {\n      \"column\": \"difficult_words\",\n      \"properties\": {\n        \"dtype\": \"date\",\n        \"min\": 0.0,\n        \"max\": 143.0,\n        \"num_unique_values\": 112,\n        \"samples\": [\n          31.0,\n          50.0\n        ],\n        \"semantic_type\": \"\",\n        \"description\": \"\"\n      }\n    }\n  ]\n}"
            }
          },
          "metadata": {},
          "execution_count": 31
        }
      ],
      "source": [
        "df_train.head(5)"
      ]
    },
    {
      "cell_type": "code",
      "execution_count": 32,
      "metadata": {
        "colab": {
          "base_uri": "https://localhost:8080/"
        },
        "id": "nXBxbXiPM_-1",
        "outputId": "08042701-6b90-457a-dcb8-ea3e0ae15c3a"
      },
      "outputs": [
        {
          "output_type": "execute_result",
          "data": {
            "text/plain": [
              "(7305, 16)"
            ]
          },
          "metadata": {},
          "execution_count": 32
        }
      ],
      "source": [
        "df_train.shape"
      ]
    },
    {
      "cell_type": "markdown",
      "metadata": {
        "id": "wIvXhCn6mnS9"
      },
      "source": [
        "Appling Normalization Feature scaling on our numerical dataset"
      ]
    },
    {
      "cell_type": "code",
      "execution_count": 33,
      "metadata": {
        "colab": {
          "base_uri": "https://localhost:8080/"
        },
        "id": "VkG4IqGtm1Tn",
        "outputId": "0d8d6fd0-9937-48e7-e0cb-d04bcf144fb8"
      },
      "outputs": [
        {
          "output_type": "stream",
          "name": "stdout",
          "text": [
            "   difficult_words\n",
            "0         0.146853\n",
            "1         0.111888\n",
            "2         0.076923\n",
            "3         0.167832\n",
            "4         0.104895\n",
            "\n",
            "   lexicon_count\n",
            "0       0.104135\n",
            "1       0.076570\n",
            "2       0.078101\n",
            "3       0.153139\n",
            "4       0.215926\n"
          ]
        }
      ],
      "source": [
        "# Importing MinMaxScaler and initializing it\n",
        "from sklearn.preprocessing import MinMaxScaler\n",
        "min_max_num=MinMaxScaler()\n",
        "\n",
        "df_train['difficult_words']=min_max_num.fit_transform(df_train[['difficult_words']])\n",
        "df_train['lexicon_count']=min_max_num.fit_transform(df_train[['lexicon_count']])\n",
        "\n",
        "print(df_train[['difficult_words']].head(5))\n",
        "print()\n",
        "print(df_train[['lexicon_count']].head(5))\n"
      ]
    },
    {
      "cell_type": "code",
      "execution_count": 34,
      "metadata": {
        "colab": {
          "base_uri": "https://localhost:8080/"
        },
        "id": "GxPEdBvmmmgb",
        "outputId": "91298f25-26ec-47b0-ac79-5335eaef018b"
      },
      "outputs": [
        {
          "output_type": "stream",
          "name": "stdout",
          "text": [
            "   difficult_words\n",
            "0         0.133929\n",
            "1         0.071429\n",
            "2         0.223214\n",
            "3         0.169643\n",
            "4         0.214286\n",
            "\n",
            "   lexicon_count\n",
            "0         0.0975\n",
            "1         0.2225\n",
            "2         0.2925\n",
            "3         0.1525\n",
            "4         0.1425\n"
          ]
        }
      ],
      "source": [
        "df_test['difficult_words']=min_max_num.fit_transform(df_test[['difficult_words']])\n",
        "df_test['lexicon_count']=min_max_num.fit_transform(df_test[['lexicon_count']])\n",
        "\n",
        "print(df_test[['difficult_words']].head(5))\n",
        "print()\n",
        "print(df_test[['lexicon_count']].head(5))\n"
      ]
    },
    {
      "cell_type": "code",
      "execution_count": 35,
      "metadata": {
        "colab": {
          "base_uri": "https://localhost:8080/"
        },
        "id": "pxwdnjfBpEmL",
        "outputId": "b9ef8d03-9c88-4476-9195-a4a3226a813a"
      },
      "outputs": [
        {
          "output_type": "stream",
          "name": "stdout",
          "text": [
            "16\n"
          ]
        }
      ],
      "source": [
        "# a) How many columns do we have now in the dataset? How many were there originally?\n",
        "# your code here\n",
        "print( len(df_train.columns))\n"
      ]
    },
    {
      "cell_type": "markdown",
      "metadata": {
        "id": "rTB_WwZ1v2e5"
      },
      "source": [
        "lets tokonize our training dataset"
      ]
    },
    {
      "cell_type": "code",
      "execution_count": 36,
      "metadata": {
        "id": "CVEU7RoJ0B8B"
      },
      "outputs": [],
      "source": [
        "%%capture\n",
        "# we use %%capture to suppress the output. Comment the line above if you're working on local machine\n",
        "# install spacy\n",
        "!pip install --upgrade spacy\n",
        "!python -m spacy download en_core_web_sm\n",
        "!pip install clean-text\n"
      ]
    },
    {
      "cell_type": "code",
      "execution_count": 37,
      "metadata": {
        "id": "ZrPPDBmJ0Qry",
        "colab": {
          "base_uri": "https://localhost:8080/"
        },
        "outputId": "aa5e11ad-4ae3-4a3c-c65c-f1202090a387"
      },
      "outputs": [
        {
          "output_type": "stream",
          "name": "stderr",
          "text": [
            "WARNING:root:Since the GPL-licensed package `unidecode` is not installed, using Python's `unicodedata` package which yields worse results.\n"
          ]
        }
      ],
      "source": [
        "import spacy\n",
        "from cleantext import clean"
      ]
    },
    {
      "cell_type": "code",
      "execution_count": 38,
      "metadata": {
        "id": "SQfCJ4JnwFUk"
      },
      "outputs": [],
      "source": [
        "from cleantext import clean\n",
        "\n",
        "def clean_text(x):\n",
        "  \"\"\" Define standard cleaning procedure \"\"\"\n",
        "  return clean(x,\n",
        "    fix_unicode=True,               # fix various unicode errors\n",
        "    lower=True,                     # change all text to lowercase\n",
        "    no_line_breaks=True,           # this removes occurrences of the newline character \"\\n\"\n",
        "    no_punct=False,                 # let's NOT remove punctuations for the time being\n",
        "    no_urls=True,                  # replace all URLs with a special token (below)\n",
        "    replace_with_url=\"\",          # we decide to replace urls with nothing\n",
        "    no_emails=True,                # replace all email addresses with a special token\n",
        "    replace_with_email=\"\",        # we decide to replace emails with nothing\n",
        "    no_phone_numbers=True,         # replace all phone numbers with a special token\n",
        "    replace_with_phone_number=\"\",   # we decide to replace phone numbers with nothing\n",
        "    lang=\"en\"                       # set to 'de' for German special handling\n",
        "    )\n",
        "\n",
        "\n"
      ]
    },
    {
      "cell_type": "code",
      "execution_count": 39,
      "metadata": {
        "colab": {
          "base_uri": "https://localhost:8080/",
          "height": 957
        },
        "id": "CSsIvEOJp7_p",
        "outputId": "799bf331-622c-4097-f253-f43c60ef4565"
      },
      "outputs": [
        {
          "output_type": "execute_result",
          "data": {
            "text/plain": [
              "  has_entity_ORG_NO_PRODUCT_NO_PERSON_NO_  \\\n",
              "0                                     0.0   \n",
              "1                                     0.0   \n",
              "2                                     1.0   \n",
              "3                                     0.0   \n",
              "4                                     1.0   \n",
              "5                                     0.0   \n",
              "6                                     1.0   \n",
              "7                                     0.0   \n",
              "8                                     0.0   \n",
              "9                                     0.0   \n",
              "\n",
              "  has_entity_ORG_NO_PRODUCT_YES_PERSON_NO_  \\\n",
              "0                                      0.0   \n",
              "1                                      0.0   \n",
              "2                                      0.0   \n",
              "3                                      0.0   \n",
              "4                                      0.0   \n",
              "5                                      0.0   \n",
              "6                                      0.0   \n",
              "7                                      0.0   \n",
              "8                                      0.0   \n",
              "9                                      0.0   \n",
              "\n",
              "  has_entity_ORG_NO_PRODUCT_YES_PERSON_YES_  \\\n",
              "0                                       0.0   \n",
              "1                                       0.0   \n",
              "2                                       0.0   \n",
              "3                                       0.0   \n",
              "4                                       0.0   \n",
              "5                                       0.0   \n",
              "6                                       0.0   \n",
              "7                                       0.0   \n",
              "8                                       0.0   \n",
              "9                                       0.0   \n",
              "\n",
              "  has_entity_ORG_YES_PRODUCT_NO_PERSON_NO_  \\\n",
              "0                                      0.0   \n",
              "1                                      0.0   \n",
              "2                                      0.0   \n",
              "3                                      0.0   \n",
              "4                                      0.0   \n",
              "5                                      1.0   \n",
              "6                                      0.0   \n",
              "7                                      0.0   \n",
              "8                                      1.0   \n",
              "9                                      0.0   \n",
              "\n",
              "  has_entity_ORG_YES_PRODUCT_NO_PERSON_YES_  \\\n",
              "0                                       1.0   \n",
              "1                                       0.0   \n",
              "2                                       0.0   \n",
              "3                                       0.0   \n",
              "4                                       0.0   \n",
              "5                                       0.0   \n",
              "6                                       0.0   \n",
              "7                                       0.0   \n",
              "8                                       0.0   \n",
              "9                                       0.0   \n",
              "\n",
              "  has_entity_ORG_YES_PRODUCT_YES_PERSON_NO_  \\\n",
              "0                                       0.0   \n",
              "1                                       0.0   \n",
              "2                                       0.0   \n",
              "3                                       0.0   \n",
              "4                                       0.0   \n",
              "5                                       0.0   \n",
              "6                                       0.0   \n",
              "7                                       0.0   \n",
              "8                                       0.0   \n",
              "9                                       0.0   \n",
              "\n",
              "  has_entity_ORG_YES_PRODUCT_YES_PERSON_YES_ has_entity_nan  \\\n",
              "0                                        0.0            0.0   \n",
              "1                                        0.0            1.0   \n",
              "2                                        0.0            0.0   \n",
              "3                                        0.0            1.0   \n",
              "4                                        0.0            0.0   \n",
              "5                                        0.0            0.0   \n",
              "6                                        0.0            0.0   \n",
              "7                                        0.0            1.0   \n",
              "8                                        0.0            0.0   \n",
              "9                                        0.0            1.0   \n",
              "\n",
              "  last_editor_gender_man last_editor_gender_non-binary  \\\n",
              "0                    1.0                           0.0   \n",
              "1                    1.0                           0.0   \n",
              "2                    1.0                           0.0   \n",
              "3                    1.0                           0.0   \n",
              "4                    1.0                           0.0   \n",
              "5                    0.0                           1.0   \n",
              "6                    0.0                           0.0   \n",
              "7                    1.0                           0.0   \n",
              "8                    1.0                           0.0   \n",
              "9                    1.0                           0.0   \n",
              "\n",
              "  last_editor_gender_prefer_not_to_say last_editor_gender_woman        par_id  \\\n",
              "0                                  0.0                      0.0   83427006011   \n",
              "1                                  0.0                      0.0  307919001820   \n",
              "2                                  0.0                      0.0  141864007020   \n",
              "3                                  0.0                      0.0   66883005709   \n",
              "4                                  0.0                      0.0  417462009479   \n",
              "5                                  0.0                      0.0  531004002482   \n",
              "6                                  1.0                      0.0   30012000517   \n",
              "7                                  0.0                      0.0  196502007383   \n",
              "8                                  0.0                      0.0  725259011229   \n",
              "9                                  0.0                      0.0  291687008538   \n",
              "\n",
              "                                           paragraph  lexicon_count  \\\n",
              "0  The first Fortran compiler set a high standard...       0.104135   \n",
              "1  There are different generalisations of this th...       0.076570   \n",
              "2  Object – The Object data type is defined by th...       0.078101   \n",
              "3   According to the Duke of Windsor, the experie...       0.153139   \n",
              "4  It will coin much faster, with greater ease, w...       0.215926   \n",
              "5   User Research: Conduct research to understand...       0.045942   \n",
              "6  A argument is a way to persuade someone of som...       0.053599   \n",
              "7  Criticism of Pascal's wager began soon after i...       0.094946   \n",
              "8  AutoHotkey is a free and open-source custom sc...       0.104135   \n",
              "9  It took 35 years after taking her first photog...       0.257274   \n",
              "\n",
              "   difficult_words                                         clean_text  \n",
              "0         0.146853  the first fortran compiler set a high standard...  \n",
              "1         0.111888  there are different generalisations of this th...  \n",
              "2         0.076923  object the object data type is defined by the ...  \n",
              "3         0.167832  according to the duke of windsor, the experien...  \n",
              "4         0.104895  it will coin much faster, with greater ease, w...  \n",
              "5         0.083916  user research: conduct research to understand ...  \n",
              "6         0.055944  a argument is a way to persuade someone of som...  \n",
              "7         0.167832  criticism of pascal's wager began soon after i...  \n",
              "8         0.195804  autohotkey is a free and open-source custom sc...  \n",
              "9         0.244755  it took 35 years after taking her first photog...  "
            ],
            "text/html": [
              "\n",
              "  <div id=\"df-dedd79ff-d315-4f9d-bc14-3a8769b97a3e\" class=\"colab-df-container\">\n",
              "    <div>\n",
              "<style scoped>\n",
              "    .dataframe tbody tr th:only-of-type {\n",
              "        vertical-align: middle;\n",
              "    }\n",
              "\n",
              "    .dataframe tbody tr th {\n",
              "        vertical-align: top;\n",
              "    }\n",
              "\n",
              "    .dataframe thead th {\n",
              "        text-align: right;\n",
              "    }\n",
              "</style>\n",
              "<table border=\"1\" class=\"dataframe\">\n",
              "  <thead>\n",
              "    <tr style=\"text-align: right;\">\n",
              "      <th></th>\n",
              "      <th>has_entity_ORG_NO_PRODUCT_NO_PERSON_NO_</th>\n",
              "      <th>has_entity_ORG_NO_PRODUCT_YES_PERSON_NO_</th>\n",
              "      <th>has_entity_ORG_NO_PRODUCT_YES_PERSON_YES_</th>\n",
              "      <th>has_entity_ORG_YES_PRODUCT_NO_PERSON_NO_</th>\n",
              "      <th>has_entity_ORG_YES_PRODUCT_NO_PERSON_YES_</th>\n",
              "      <th>has_entity_ORG_YES_PRODUCT_YES_PERSON_NO_</th>\n",
              "      <th>has_entity_ORG_YES_PRODUCT_YES_PERSON_YES_</th>\n",
              "      <th>has_entity_nan</th>\n",
              "      <th>last_editor_gender_man</th>\n",
              "      <th>last_editor_gender_non-binary</th>\n",
              "      <th>last_editor_gender_prefer_not_to_say</th>\n",
              "      <th>last_editor_gender_woman</th>\n",
              "      <th>par_id</th>\n",
              "      <th>paragraph</th>\n",
              "      <th>lexicon_count</th>\n",
              "      <th>difficult_words</th>\n",
              "      <th>clean_text</th>\n",
              "    </tr>\n",
              "  </thead>\n",
              "  <tbody>\n",
              "    <tr>\n",
              "      <th>0</th>\n",
              "      <td>0.0</td>\n",
              "      <td>0.0</td>\n",
              "      <td>0.0</td>\n",
              "      <td>0.0</td>\n",
              "      <td>1.0</td>\n",
              "      <td>0.0</td>\n",
              "      <td>0.0</td>\n",
              "      <td>0.0</td>\n",
              "      <td>1.0</td>\n",
              "      <td>0.0</td>\n",
              "      <td>0.0</td>\n",
              "      <td>0.0</td>\n",
              "      <td>83427006011</td>\n",
              "      <td>The first Fortran compiler set a high standard...</td>\n",
              "      <td>0.104135</td>\n",
              "      <td>0.146853</td>\n",
              "      <td>the first fortran compiler set a high standard...</td>\n",
              "    </tr>\n",
              "    <tr>\n",
              "      <th>1</th>\n",
              "      <td>0.0</td>\n",
              "      <td>0.0</td>\n",
              "      <td>0.0</td>\n",
              "      <td>0.0</td>\n",
              "      <td>0.0</td>\n",
              "      <td>0.0</td>\n",
              "      <td>0.0</td>\n",
              "      <td>1.0</td>\n",
              "      <td>1.0</td>\n",
              "      <td>0.0</td>\n",
              "      <td>0.0</td>\n",
              "      <td>0.0</td>\n",
              "      <td>307919001820</td>\n",
              "      <td>There are different generalisations of this th...</td>\n",
              "      <td>0.076570</td>\n",
              "      <td>0.111888</td>\n",
              "      <td>there are different generalisations of this th...</td>\n",
              "    </tr>\n",
              "    <tr>\n",
              "      <th>2</th>\n",
              "      <td>1.0</td>\n",
              "      <td>0.0</td>\n",
              "      <td>0.0</td>\n",
              "      <td>0.0</td>\n",
              "      <td>0.0</td>\n",
              "      <td>0.0</td>\n",
              "      <td>0.0</td>\n",
              "      <td>0.0</td>\n",
              "      <td>1.0</td>\n",
              "      <td>0.0</td>\n",
              "      <td>0.0</td>\n",
              "      <td>0.0</td>\n",
              "      <td>141864007020</td>\n",
              "      <td>Object – The Object data type is defined by th...</td>\n",
              "      <td>0.078101</td>\n",
              "      <td>0.076923</td>\n",
              "      <td>object the object data type is defined by the ...</td>\n",
              "    </tr>\n",
              "    <tr>\n",
              "      <th>3</th>\n",
              "      <td>0.0</td>\n",
              "      <td>0.0</td>\n",
              "      <td>0.0</td>\n",
              "      <td>0.0</td>\n",
              "      <td>0.0</td>\n",
              "      <td>0.0</td>\n",
              "      <td>0.0</td>\n",
              "      <td>1.0</td>\n",
              "      <td>1.0</td>\n",
              "      <td>0.0</td>\n",
              "      <td>0.0</td>\n",
              "      <td>0.0</td>\n",
              "      <td>66883005709</td>\n",
              "      <td>According to the Duke of Windsor, the experie...</td>\n",
              "      <td>0.153139</td>\n",
              "      <td>0.167832</td>\n",
              "      <td>according to the duke of windsor, the experien...</td>\n",
              "    </tr>\n",
              "    <tr>\n",
              "      <th>4</th>\n",
              "      <td>1.0</td>\n",
              "      <td>0.0</td>\n",
              "      <td>0.0</td>\n",
              "      <td>0.0</td>\n",
              "      <td>0.0</td>\n",
              "      <td>0.0</td>\n",
              "      <td>0.0</td>\n",
              "      <td>0.0</td>\n",
              "      <td>1.0</td>\n",
              "      <td>0.0</td>\n",
              "      <td>0.0</td>\n",
              "      <td>0.0</td>\n",
              "      <td>417462009479</td>\n",
              "      <td>It will coin much faster, with greater ease, w...</td>\n",
              "      <td>0.215926</td>\n",
              "      <td>0.104895</td>\n",
              "      <td>it will coin much faster, with greater ease, w...</td>\n",
              "    </tr>\n",
              "    <tr>\n",
              "      <th>5</th>\n",
              "      <td>0.0</td>\n",
              "      <td>0.0</td>\n",
              "      <td>0.0</td>\n",
              "      <td>1.0</td>\n",
              "      <td>0.0</td>\n",
              "      <td>0.0</td>\n",
              "      <td>0.0</td>\n",
              "      <td>0.0</td>\n",
              "      <td>0.0</td>\n",
              "      <td>1.0</td>\n",
              "      <td>0.0</td>\n",
              "      <td>0.0</td>\n",
              "      <td>531004002482</td>\n",
              "      <td>User Research: Conduct research to understand...</td>\n",
              "      <td>0.045942</td>\n",
              "      <td>0.083916</td>\n",
              "      <td>user research: conduct research to understand ...</td>\n",
              "    </tr>\n",
              "    <tr>\n",
              "      <th>6</th>\n",
              "      <td>1.0</td>\n",
              "      <td>0.0</td>\n",
              "      <td>0.0</td>\n",
              "      <td>0.0</td>\n",
              "      <td>0.0</td>\n",
              "      <td>0.0</td>\n",
              "      <td>0.0</td>\n",
              "      <td>0.0</td>\n",
              "      <td>0.0</td>\n",
              "      <td>0.0</td>\n",
              "      <td>1.0</td>\n",
              "      <td>0.0</td>\n",
              "      <td>30012000517</td>\n",
              "      <td>A argument is a way to persuade someone of som...</td>\n",
              "      <td>0.053599</td>\n",
              "      <td>0.055944</td>\n",
              "      <td>a argument is a way to persuade someone of som...</td>\n",
              "    </tr>\n",
              "    <tr>\n",
              "      <th>7</th>\n",
              "      <td>0.0</td>\n",
              "      <td>0.0</td>\n",
              "      <td>0.0</td>\n",
              "      <td>0.0</td>\n",
              "      <td>0.0</td>\n",
              "      <td>0.0</td>\n",
              "      <td>0.0</td>\n",
              "      <td>1.0</td>\n",
              "      <td>1.0</td>\n",
              "      <td>0.0</td>\n",
              "      <td>0.0</td>\n",
              "      <td>0.0</td>\n",
              "      <td>196502007383</td>\n",
              "      <td>Criticism of Pascal's wager began soon after i...</td>\n",
              "      <td>0.094946</td>\n",
              "      <td>0.167832</td>\n",
              "      <td>criticism of pascal's wager began soon after i...</td>\n",
              "    </tr>\n",
              "    <tr>\n",
              "      <th>8</th>\n",
              "      <td>0.0</td>\n",
              "      <td>0.0</td>\n",
              "      <td>0.0</td>\n",
              "      <td>1.0</td>\n",
              "      <td>0.0</td>\n",
              "      <td>0.0</td>\n",
              "      <td>0.0</td>\n",
              "      <td>0.0</td>\n",
              "      <td>1.0</td>\n",
              "      <td>0.0</td>\n",
              "      <td>0.0</td>\n",
              "      <td>0.0</td>\n",
              "      <td>725259011229</td>\n",
              "      <td>AutoHotkey is a free and open-source custom sc...</td>\n",
              "      <td>0.104135</td>\n",
              "      <td>0.195804</td>\n",
              "      <td>autohotkey is a free and open-source custom sc...</td>\n",
              "    </tr>\n",
              "    <tr>\n",
              "      <th>9</th>\n",
              "      <td>0.0</td>\n",
              "      <td>0.0</td>\n",
              "      <td>0.0</td>\n",
              "      <td>0.0</td>\n",
              "      <td>0.0</td>\n",
              "      <td>0.0</td>\n",
              "      <td>0.0</td>\n",
              "      <td>1.0</td>\n",
              "      <td>1.0</td>\n",
              "      <td>0.0</td>\n",
              "      <td>0.0</td>\n",
              "      <td>0.0</td>\n",
              "      <td>291687008538</td>\n",
              "      <td>It took 35 years after taking her first photog...</td>\n",
              "      <td>0.257274</td>\n",
              "      <td>0.244755</td>\n",
              "      <td>it took 35 years after taking her first photog...</td>\n",
              "    </tr>\n",
              "  </tbody>\n",
              "</table>\n",
              "</div>\n",
              "    <div class=\"colab-df-buttons\">\n",
              "\n",
              "  <div class=\"colab-df-container\">\n",
              "    <button class=\"colab-df-convert\" onclick=\"convertToInteractive('df-dedd79ff-d315-4f9d-bc14-3a8769b97a3e')\"\n",
              "            title=\"Convert this dataframe to an interactive table.\"\n",
              "            style=\"display:none;\">\n",
              "\n",
              "  <svg xmlns=\"http://www.w3.org/2000/svg\" height=\"24px\" viewBox=\"0 -960 960 960\">\n",
              "    <path d=\"M120-120v-720h720v720H120Zm60-500h600v-160H180v160Zm220 220h160v-160H400v160Zm0 220h160v-160H400v160ZM180-400h160v-160H180v160Zm440 0h160v-160H620v160ZM180-180h160v-160H180v160Zm440 0h160v-160H620v160Z\"/>\n",
              "  </svg>\n",
              "    </button>\n",
              "\n",
              "  <style>\n",
              "    .colab-df-container {\n",
              "      display:flex;\n",
              "      gap: 12px;\n",
              "    }\n",
              "\n",
              "    .colab-df-convert {\n",
              "      background-color: #E8F0FE;\n",
              "      border: none;\n",
              "      border-radius: 50%;\n",
              "      cursor: pointer;\n",
              "      display: none;\n",
              "      fill: #1967D2;\n",
              "      height: 32px;\n",
              "      padding: 0 0 0 0;\n",
              "      width: 32px;\n",
              "    }\n",
              "\n",
              "    .colab-df-convert:hover {\n",
              "      background-color: #E2EBFA;\n",
              "      box-shadow: 0px 1px 2px rgba(60, 64, 67, 0.3), 0px 1px 3px 1px rgba(60, 64, 67, 0.15);\n",
              "      fill: #174EA6;\n",
              "    }\n",
              "\n",
              "    .colab-df-buttons div {\n",
              "      margin-bottom: 4px;\n",
              "    }\n",
              "\n",
              "    [theme=dark] .colab-df-convert {\n",
              "      background-color: #3B4455;\n",
              "      fill: #D2E3FC;\n",
              "    }\n",
              "\n",
              "    [theme=dark] .colab-df-convert:hover {\n",
              "      background-color: #434B5C;\n",
              "      box-shadow: 0px 1px 3px 1px rgba(0, 0, 0, 0.15);\n",
              "      filter: drop-shadow(0px 1px 2px rgba(0, 0, 0, 0.3));\n",
              "      fill: #FFFFFF;\n",
              "    }\n",
              "  </style>\n",
              "\n",
              "    <script>\n",
              "      const buttonEl =\n",
              "        document.querySelector('#df-dedd79ff-d315-4f9d-bc14-3a8769b97a3e button.colab-df-convert');\n",
              "      buttonEl.style.display =\n",
              "        google.colab.kernel.accessAllowed ? 'block' : 'none';\n",
              "\n",
              "      async function convertToInteractive(key) {\n",
              "        const element = document.querySelector('#df-dedd79ff-d315-4f9d-bc14-3a8769b97a3e');\n",
              "        const dataTable =\n",
              "          await google.colab.kernel.invokeFunction('convertToInteractive',\n",
              "                                                    [key], {});\n",
              "        if (!dataTable) return;\n",
              "\n",
              "        const docLinkHtml = 'Like what you see? Visit the ' +\n",
              "          '<a target=\"_blank\" href=https://colab.research.google.com/notebooks/data_table.ipynb>data table notebook</a>'\n",
              "          + ' to learn more about interactive tables.';\n",
              "        element.innerHTML = '';\n",
              "        dataTable['output_type'] = 'display_data';\n",
              "        await google.colab.output.renderOutput(dataTable, element);\n",
              "        const docLink = document.createElement('div');\n",
              "        docLink.innerHTML = docLinkHtml;\n",
              "        element.appendChild(docLink);\n",
              "      }\n",
              "    </script>\n",
              "  </div>\n",
              "\n",
              "\n",
              "<div id=\"df-31053849-b6c7-4f2a-b926-1bf7a54f5ebf\">\n",
              "  <button class=\"colab-df-quickchart\" onclick=\"quickchart('df-31053849-b6c7-4f2a-b926-1bf7a54f5ebf')\"\n",
              "            title=\"Suggest charts\"\n",
              "            style=\"display:none;\">\n",
              "\n",
              "<svg xmlns=\"http://www.w3.org/2000/svg\" height=\"24px\"viewBox=\"0 0 24 24\"\n",
              "     width=\"24px\">\n",
              "    <g>\n",
              "        <path d=\"M19 3H5c-1.1 0-2 .9-2 2v14c0 1.1.9 2 2 2h14c1.1 0 2-.9 2-2V5c0-1.1-.9-2-2-2zM9 17H7v-7h2v7zm4 0h-2V7h2v10zm4 0h-2v-4h2v4z\"/>\n",
              "    </g>\n",
              "</svg>\n",
              "  </button>\n",
              "\n",
              "<style>\n",
              "  .colab-df-quickchart {\n",
              "      --bg-color: #E8F0FE;\n",
              "      --fill-color: #1967D2;\n",
              "      --hover-bg-color: #E2EBFA;\n",
              "      --hover-fill-color: #174EA6;\n",
              "      --disabled-fill-color: #AAA;\n",
              "      --disabled-bg-color: #DDD;\n",
              "  }\n",
              "\n",
              "  [theme=dark] .colab-df-quickchart {\n",
              "      --bg-color: #3B4455;\n",
              "      --fill-color: #D2E3FC;\n",
              "      --hover-bg-color: #434B5C;\n",
              "      --hover-fill-color: #FFFFFF;\n",
              "      --disabled-bg-color: #3B4455;\n",
              "      --disabled-fill-color: #666;\n",
              "  }\n",
              "\n",
              "  .colab-df-quickchart {\n",
              "    background-color: var(--bg-color);\n",
              "    border: none;\n",
              "    border-radius: 50%;\n",
              "    cursor: pointer;\n",
              "    display: none;\n",
              "    fill: var(--fill-color);\n",
              "    height: 32px;\n",
              "    padding: 0;\n",
              "    width: 32px;\n",
              "  }\n",
              "\n",
              "  .colab-df-quickchart:hover {\n",
              "    background-color: var(--hover-bg-color);\n",
              "    box-shadow: 0 1px 2px rgba(60, 64, 67, 0.3), 0 1px 3px 1px rgba(60, 64, 67, 0.15);\n",
              "    fill: var(--button-hover-fill-color);\n",
              "  }\n",
              "\n",
              "  .colab-df-quickchart-complete:disabled,\n",
              "  .colab-df-quickchart-complete:disabled:hover {\n",
              "    background-color: var(--disabled-bg-color);\n",
              "    fill: var(--disabled-fill-color);\n",
              "    box-shadow: none;\n",
              "  }\n",
              "\n",
              "  .colab-df-spinner {\n",
              "    border: 2px solid var(--fill-color);\n",
              "    border-color: transparent;\n",
              "    border-bottom-color: var(--fill-color);\n",
              "    animation:\n",
              "      spin 1s steps(1) infinite;\n",
              "  }\n",
              "\n",
              "  @keyframes spin {\n",
              "    0% {\n",
              "      border-color: transparent;\n",
              "      border-bottom-color: var(--fill-color);\n",
              "      border-left-color: var(--fill-color);\n",
              "    }\n",
              "    20% {\n",
              "      border-color: transparent;\n",
              "      border-left-color: var(--fill-color);\n",
              "      border-top-color: var(--fill-color);\n",
              "    }\n",
              "    30% {\n",
              "      border-color: transparent;\n",
              "      border-left-color: var(--fill-color);\n",
              "      border-top-color: var(--fill-color);\n",
              "      border-right-color: var(--fill-color);\n",
              "    }\n",
              "    40% {\n",
              "      border-color: transparent;\n",
              "      border-right-color: var(--fill-color);\n",
              "      border-top-color: var(--fill-color);\n",
              "    }\n",
              "    60% {\n",
              "      border-color: transparent;\n",
              "      border-right-color: var(--fill-color);\n",
              "    }\n",
              "    80% {\n",
              "      border-color: transparent;\n",
              "      border-right-color: var(--fill-color);\n",
              "      border-bottom-color: var(--fill-color);\n",
              "    }\n",
              "    90% {\n",
              "      border-color: transparent;\n",
              "      border-bottom-color: var(--fill-color);\n",
              "    }\n",
              "  }\n",
              "</style>\n",
              "\n",
              "  <script>\n",
              "    async function quickchart(key) {\n",
              "      const quickchartButtonEl =\n",
              "        document.querySelector('#' + key + ' button');\n",
              "      quickchartButtonEl.disabled = true;  // To prevent multiple clicks.\n",
              "      quickchartButtonEl.classList.add('colab-df-spinner');\n",
              "      try {\n",
              "        const charts = await google.colab.kernel.invokeFunction(\n",
              "            'suggestCharts', [key], {});\n",
              "      } catch (error) {\n",
              "        console.error('Error during call to suggestCharts:', error);\n",
              "      }\n",
              "      quickchartButtonEl.classList.remove('colab-df-spinner');\n",
              "      quickchartButtonEl.classList.add('colab-df-quickchart-complete');\n",
              "    }\n",
              "    (() => {\n",
              "      let quickchartButtonEl =\n",
              "        document.querySelector('#df-31053849-b6c7-4f2a-b926-1bf7a54f5ebf button');\n",
              "      quickchartButtonEl.style.display =\n",
              "        google.colab.kernel.accessAllowed ? 'block' : 'none';\n",
              "    })();\n",
              "  </script>\n",
              "</div>\n",
              "    </div>\n",
              "  </div>\n"
            ],
            "application/vnd.google.colaboratory.intrinsic+json": {
              "type": "dataframe",
              "variable_name": "df_train",
              "summary": "{\n  \"name\": \"df_train\",\n  \"rows\": 7305,\n  \"fields\": [\n    {\n      \"column\": \"has_entity_ORG_NO_PRODUCT_NO_PERSON_NO_\",\n      \"properties\": {\n        \"dtype\": \"date\",\n        \"min\": 0.0,\n        \"max\": 1.0,\n        \"num_unique_values\": 2,\n        \"samples\": [\n          1.0,\n          0.0\n        ],\n        \"semantic_type\": \"\",\n        \"description\": \"\"\n      }\n    },\n    {\n      \"column\": \"has_entity_ORG_NO_PRODUCT_YES_PERSON_NO_\",\n      \"properties\": {\n        \"dtype\": \"date\",\n        \"min\": 0.0,\n        \"max\": 1.0,\n        \"num_unique_values\": 2,\n        \"samples\": [\n          1.0,\n          0.0\n        ],\n        \"semantic_type\": \"\",\n        \"description\": \"\"\n      }\n    },\n    {\n      \"column\": \"has_entity_ORG_NO_PRODUCT_YES_PERSON_YES_\",\n      \"properties\": {\n        \"dtype\": \"date\",\n        \"min\": 0.0,\n        \"max\": 1.0,\n        \"num_unique_values\": 2,\n        \"samples\": [\n          1.0,\n          0.0\n        ],\n        \"semantic_type\": \"\",\n        \"description\": \"\"\n      }\n    },\n    {\n      \"column\": \"has_entity_ORG_YES_PRODUCT_NO_PERSON_NO_\",\n      \"properties\": {\n        \"dtype\": \"date\",\n        \"min\": 0.0,\n        \"max\": 1.0,\n        \"num_unique_values\": 2,\n        \"samples\": [\n          1.0,\n          0.0\n        ],\n        \"semantic_type\": \"\",\n        \"description\": \"\"\n      }\n    },\n    {\n      \"column\": \"has_entity_ORG_YES_PRODUCT_NO_PERSON_YES_\",\n      \"properties\": {\n        \"dtype\": \"date\",\n        \"min\": 0.0,\n        \"max\": 1.0,\n        \"num_unique_values\": 2,\n        \"samples\": [\n          0.0,\n          1.0\n        ],\n        \"semantic_type\": \"\",\n        \"description\": \"\"\n      }\n    },\n    {\n      \"column\": \"has_entity_ORG_YES_PRODUCT_YES_PERSON_NO_\",\n      \"properties\": {\n        \"dtype\": \"date\",\n        \"min\": 0.0,\n        \"max\": 1.0,\n        \"num_unique_values\": 2,\n        \"samples\": [\n          1.0,\n          0.0\n        ],\n        \"semantic_type\": \"\",\n        \"description\": \"\"\n      }\n    },\n    {\n      \"column\": \"has_entity_ORG_YES_PRODUCT_YES_PERSON_YES_\",\n      \"properties\": {\n        \"dtype\": \"date\",\n        \"min\": 0.0,\n        \"max\": 1.0,\n        \"num_unique_values\": 2,\n        \"samples\": [\n          1.0,\n          0.0\n        ],\n        \"semantic_type\": \"\",\n        \"description\": \"\"\n      }\n    },\n    {\n      \"column\": \"has_entity_nan\",\n      \"properties\": {\n        \"dtype\": \"date\",\n        \"min\": 0.0,\n        \"max\": 1.0,\n        \"num_unique_values\": 2,\n        \"samples\": [\n          1.0,\n          0.0\n        ],\n        \"semantic_type\": \"\",\n        \"description\": \"\"\n      }\n    },\n    {\n      \"column\": \"last_editor_gender_man\",\n      \"properties\": {\n        \"dtype\": \"date\",\n        \"min\": 0.0,\n        \"max\": 1.0,\n        \"num_unique_values\": 2,\n        \"samples\": [\n          0.0,\n          1.0\n        ],\n        \"semantic_type\": \"\",\n        \"description\": \"\"\n      }\n    },\n    {\n      \"column\": \"last_editor_gender_non-binary\",\n      \"properties\": {\n        \"dtype\": \"date\",\n        \"min\": 0.0,\n        \"max\": 1.0,\n        \"num_unique_values\": 2,\n        \"samples\": [\n          1.0,\n          0.0\n        ],\n        \"semantic_type\": \"\",\n        \"description\": \"\"\n      }\n    },\n    {\n      \"column\": \"last_editor_gender_prefer_not_to_say\",\n      \"properties\": {\n        \"dtype\": \"date\",\n        \"min\": 0.0,\n        \"max\": 1.0,\n        \"num_unique_values\": 2,\n        \"samples\": [\n          1.0,\n          0.0\n        ],\n        \"semantic_type\": \"\",\n        \"description\": \"\"\n      }\n    },\n    {\n      \"column\": \"last_editor_gender_woman\",\n      \"properties\": {\n        \"dtype\": \"date\",\n        \"min\": 0.0,\n        \"max\": 1.0,\n        \"num_unique_values\": 2,\n        \"samples\": [\n          1.0,\n          0.0\n        ],\n        \"semantic_type\": \"\",\n        \"description\": \"\"\n      }\n    },\n    {\n      \"column\": \"par_id\",\n      \"properties\": {\n        \"dtype\": \"date\",\n        \"min\": 85003276,\n        \"max\": 1058779003275,\n        \"num_unique_values\": 7305,\n        \"samples\": [\n          330064008817,\n          455652002317\n        ],\n        \"semantic_type\": \"\",\n        \"description\": \"\"\n      }\n    },\n    {\n      \"column\": \"paragraph\",\n      \"properties\": {\n        \"dtype\": \"string\",\n        \"num_unique_values\": 7200,\n        \"samples\": [\n          \"The first sentence of the Three Character Classic, a popular enlightenment book in Zhong Yuan, is \\\"At the beginning of man, nature is good\\\"; this seems to be the view of the common literati and Baixing. The scholar Luo Si-guang believes that the traditional Chinese literati were overly optimistic about human nature and failed to set up various checking power measures as the West did, thus failing to eradicate corrupt officials for thousands of years.\\u3002\",\n          \"Given Gladstone's majority in the Commons, Disraeli could do little but protest as the government advanced legislation; he chose to await Liberal mistakes. He used this leisure time to write a new novel, Lothair . A work of fiction by a former prime minister was a novelty for Britain, and the book became a bestseller.By 1872 there was dissent in the Conservative ranks over the failure to challenge Gladstone. This was quieted as Disraeli took steps to assert his leadership, and as divisions among the Liberals became clear. Public support for Disraeli was shown by cheering at a thanksgiving service in 1872 on the recovery of the Prince of Wales from illness, while Gladstone was met with silence. Disraeli had supported the efforts of party manager John Eldon Gorst to put the administration of the Conservative Party on a modern basis. On Gorst's advice, Disraeli gave a speech to a mass meeting in Manchester that year. To roaring approval, he compared the Liberal front bench to \\\"a range of exhausted volcanoes. But the situation is still dangerous. There are occasional earthquakes and ever and again the dark rumbling of the sea.\\\" Gladstone, Disraeli stated, dominated the scene and \\\"alternated between a menace and a sigh\\\".At his first departure from 10 Downing Street in 1868, Disraeli had had Victoria create Mary Anne Viscountess of Beaconsfield in her own right in lieu of a peerage for himself. Through 1872 the eighty-year-old peeress had stomach cancer.\"\n        ],\n        \"semantic_type\": \"\",\n        \"description\": \"\"\n      }\n    },\n    {\n      \"column\": \"lexicon_count\",\n      \"properties\": {\n        \"dtype\": \"number\",\n        \"std\": 0.09831908915537581,\n        \"min\": 0.0,\n        \"max\": 1.0,\n        \"num_unique_values\": 339,\n        \"samples\": [\n          0.33690658499234305,\n          0.2098009188361409\n        ],\n        \"semantic_type\": \"\",\n        \"description\": \"\"\n      }\n    },\n    {\n      \"column\": \"difficult_words\",\n      \"properties\": {\n        \"dtype\": \"number\",\n        \"std\": 0.11484638154414772,\n        \"min\": 0.0,\n        \"max\": 1.0,\n        \"num_unique_values\": 112,\n        \"samples\": [\n          0.21678321678321677,\n          0.34965034965034963\n        ],\n        \"semantic_type\": \"\",\n        \"description\": \"\"\n      }\n    },\n    {\n      \"column\": \"clean_text\",\n      \"properties\": {\n        \"dtype\": \"string\",\n        \"num_unique_values\": 7200,\n        \"samples\": [\n          \"the first sentence of the three character classic, a popular enlightenment book in zhong yuan, is \\\"at the beginning of man, nature is good\\\"; this seems to be the view of the common literati and baixing. the scholar luo si-guang believes that the traditional chinese literati were overly optimistic about human nature and failed to set up various checking power measures as the west did, thus failing to eradicate corrupt officials for thousands of years.\",\n          \"given gladstone's majority in the commons, disraeli could do little but protest as the government advanced legislation; he chose to await liberal mistakes. he used this leisure time to write a new novel, lothair . a work of fiction by a former prime minister was a novelty for britain, and the book became a bestseller.by 1872 there was dissent in the conservative ranks over the failure to challenge gladstone. this was quieted as disraeli took steps to assert his leadership, and as divisions among the liberals became clear. public support for disraeli was shown by cheering at a thanksgiving service in 1872 on the recovery of the prince of wales from illness, while gladstone was met with silence. disraeli had supported the efforts of party manager john eldon gorst to put the administration of the conservative party on a modern basis. on gorst's advice, disraeli gave a speech to a mass meeting in manchester that year. to roaring approval, he compared the liberal front bench to \\\"a range of exhausted volcanoes. but the situation is still dangerous. there are occasional earthquakes and ever and again the dark rumbling of the sea.\\\" gladstone, disraeli stated, dominated the scene and \\\"alternated between a menace and a sigh\\\".at his first departure from 10 downing street in 1868, disraeli had had victoria create mary anne viscountess of beaconsfield in her own right in lieu of a peerage for himself. through 1872 the eighty-year-old peeress had stomach cancer.\"\n        ],\n        \"semantic_type\": \"\",\n        \"description\": \"\"\n      }\n    }\n  ]\n}"
            }
          },
          "metadata": {},
          "execution_count": 39
        }
      ],
      "source": [
        "df_train['clean_text']= df_train['paragraph'].apply(clean_text)\n",
        "df_test['clean_text']= df_test['paragraph'].apply(clean_text)\n",
        "df_train.head(10)"
      ]
    },
    {
      "cell_type": "markdown",
      "metadata": {
        "id": "l1weTIRZ3ADA"
      },
      "source": [
        "Lets tokenize the text"
      ]
    },
    {
      "cell_type": "code",
      "execution_count": 40,
      "metadata": {
        "id": "sZG04q0Y3OI9"
      },
      "outputs": [],
      "source": [
        "# let's create a nice function to tokenize a single text document\n",
        "import string\n",
        "EXTRA_PUNCT = string.punctuation\n",
        "\n",
        "# import Spacy\n",
        "import spacy\n",
        "# create the Spacy pipeline\n",
        "nlp = spacy.load('en_core_web_sm')\n",
        "\n",
        "def preprocess_text_with_spacy(text_):\n",
        "  \"\"\"\n",
        "  This function takes a Spacy doc and returns the list of its lemmas,\n",
        "  after removing stop words and punctuations\n",
        "  \"\"\"\n",
        "\n",
        "  doc_ = nlp(text_)\n",
        "  # here we take the lemmas, and now we also want to but only keep those that are NOT stop words, only digits, or punctuation.\n",
        "  lemmas_ = [token.lemma_ for token in doc_ if not (token.is_stop or token.is_punct or token.is_digit)]\n",
        "  # remember when I said punctuation is tricky?\n",
        "  # Spacy misses some characters that we want to remove that can also be considered punctuation (= and +)\n",
        "  # Here is where we remove them\n",
        "  return [lemma for lemma in lemmas_ if lemma not in EXTRA_PUNCT]\n"
      ]
    },
    {
      "cell_type": "code",
      "execution_count": 41,
      "metadata": {
        "colab": {
          "base_uri": "https://localhost:8080/"
        },
        "id": "iy4g0BXE37Na",
        "outputId": "fd0a0d4c-b579-467a-e74b-d379a3a2c812"
      },
      "outputs": [
        {
          "output_type": "stream",
          "name": "stdout",
          "text": [
            "Time elapsed is 200.29 seconds\n",
            "  has_entity_ORG_NO_PRODUCT_NO_PERSON_NO_  \\\n",
            "0                                     0.0   \n",
            "1                                     0.0   \n",
            "2                                     1.0   \n",
            "\n",
            "  has_entity_ORG_NO_PRODUCT_YES_PERSON_NO_  \\\n",
            "0                                      0.0   \n",
            "1                                      0.0   \n",
            "2                                      0.0   \n",
            "\n",
            "  has_entity_ORG_NO_PRODUCT_YES_PERSON_YES_  \\\n",
            "0                                       0.0   \n",
            "1                                       0.0   \n",
            "2                                       0.0   \n",
            "\n",
            "  has_entity_ORG_YES_PRODUCT_NO_PERSON_NO_  \\\n",
            "0                                      0.0   \n",
            "1                                      0.0   \n",
            "2                                      0.0   \n",
            "\n",
            "  has_entity_ORG_YES_PRODUCT_NO_PERSON_YES_  \\\n",
            "0                                       1.0   \n",
            "1                                       0.0   \n",
            "2                                       0.0   \n",
            "\n",
            "  has_entity_ORG_YES_PRODUCT_YES_PERSON_NO_  \\\n",
            "0                                       0.0   \n",
            "1                                       0.0   \n",
            "2                                       0.0   \n",
            "\n",
            "  has_entity_ORG_YES_PRODUCT_YES_PERSON_YES_ has_entity_nan  \\\n",
            "0                                        0.0            0.0   \n",
            "1                                        0.0            1.0   \n",
            "2                                        0.0            0.0   \n",
            "\n",
            "  last_editor_gender_man last_editor_gender_non-binary  \\\n",
            "0                    1.0                           0.0   \n",
            "1                    1.0                           0.0   \n",
            "2                    1.0                           0.0   \n",
            "\n",
            "  last_editor_gender_prefer_not_to_say last_editor_gender_woman        par_id  \\\n",
            "0                                  0.0                      0.0   83427006011   \n",
            "1                                  0.0                      0.0  307919001820   \n",
            "2                                  0.0                      0.0  141864007020   \n",
            "\n",
            "                                           paragraph  lexicon_count  \\\n",
            "0  The first Fortran compiler set a high standard...       0.104135   \n",
            "1  There are different generalisations of this th...       0.076570   \n",
            "2  Object – The Object data type is defined by th...       0.078101   \n",
            "\n",
            "   difficult_words                                         clean_text  \\\n",
            "0         0.146853  the first fortran compiler set a high standard...   \n",
            "1         0.111888  there are different generalisations of this th...   \n",
            "2         0.076923  object the object data type is defined by the ...   \n",
            "\n",
            "                                      tokenized_text  \n",
            "0  [fortran, compiler, set, high, standard, effic...  \n",
            "1  [different, generalisation, theorem, generalis...  \n",
            "2  [object, object, datum, type, define, object, ...  \n"
          ]
        }
      ],
      "source": [
        "# tokenize training data\n",
        "# (use the cleaned text!)\n",
        "from time import time as tt\n",
        "t0 = tt()\n",
        "df_train['tokenized_text'] = df_train['clean_text'].apply(preprocess_text_with_spacy)\n",
        "print(f'Time elapsed is {(tt()-t0):.2f} seconds')\n",
        "print(df_train.head(3))"
      ]
    },
    {
      "cell_type": "code",
      "execution_count": 42,
      "metadata": {
        "colab": {
          "base_uri": "https://localhost:8080/"
        },
        "id": "x4lZeaIS5O9v",
        "outputId": "6f88bf51-e37f-4c4e-9611-8fb4bdcee5e4"
      },
      "outputs": [
        {
          "output_type": "stream",
          "name": "stdout",
          "text": [
            "Time elapsed is 42.94 seconds\n"
          ]
        }
      ],
      "source": [
        "# tokenize test data (start from the cleaned text!)\n",
        "t0 = tt()\n",
        "df_test['tokenized_text'] = df_test['clean_text'].apply(preprocess_text_with_spacy)\n",
        "print(f'Time elapsed is {(tt()-t0):.2f} seconds')\n"
      ]
    },
    {
      "cell_type": "markdown",
      "metadata": {
        "id": "cU0oqCazpcvC"
      },
      "source": [
        "Machine Learning Model"
      ]
    },
    {
      "cell_type": "code",
      "execution_count": 43,
      "metadata": {
        "id": "0t4DVJ4zpksH"
      },
      "outputs": [],
      "source": [
        "# Preparation\n",
        "import warnings\n",
        "warnings.simplefilter(\"ignore\") # for GridSearchCV: some of its combination throws warning which is fine (they are not appropriate combination)\n",
        "from sklearn.feature_extraction.text import CountVectorizer, TfidfVectorizer\n",
        "np.random.seed(0)\n",
        "\n",
        "from imblearn.over_sampling import RandomOverSampler, SMOTE\n",
        "from sklearn.linear_model import LogisticRegression, SGDClassifier\n",
        "from sklearn.pipeline import Pipeline\n",
        "from imblearn.pipeline import Pipeline as ImbPipeline\n",
        "from sklearn.metrics import classification_report\n",
        "from sklearn.metrics import ConfusionMatrixDisplay\n",
        "from sklearn.metrics import accuracy_score\n",
        "from sklearn.model_selection import GridSearchCV, RandomizedSearchCV, train_test_split\n",
        "from sklearn.svm import LinearSVC\n",
        "from sklearn.neighbors import KNeighborsClassifier\n",
        "from scipy import stats\n",
        "from sklearn.metrics import balanced_accuracy_score\n",
        "from time import time as tt"
      ]
    },
    {
      "cell_type": "code",
      "execution_count": 44,
      "metadata": {
        "id": "0RDHFo9G6--U"
      },
      "outputs": [],
      "source": [
        "# create custom class to add to the pipeline\n",
        "from sklearn.base import TransformerMixin\n",
        "class DenseTransformer(TransformerMixin):\n",
        "    ''' Pipeline step to transform a sparse matrix into a dense one '''\n",
        "    def fit(self, X, y=None, **fit_params):\n",
        "        return self\n",
        "\n",
        "    def transform(self, X, y=None, **fit_params):\n",
        "        return X.toarray()\n"
      ]
    },
    {
      "cell_type": "markdown",
      "metadata": {
        "id": "Ctdkcqx1r1Js"
      },
      "source": [
        "Creating a machine learning pipeline with balance data"
      ]
    },
    {
      "cell_type": "code",
      "execution_count": 45,
      "metadata": {
        "id": "FCcFpjKvsAPF"
      },
      "outputs": [],
      "source": [
        "# Create the pipeline\n",
        "clf_ = Pipeline(\n",
        "        steps =[\n",
        "\n",
        "                 ('vectorizer', TfidfVectorizer(lowercase=False,\n",
        "                                          tokenizer=lambda x: x)),\n",
        "\n",
        "                ('to_dense', DenseTransformer()),\n",
        "              ('classifier', SGDClassifier(random_state=0)),\n",
        "      ]\n",
        "    )\n"
      ]
    },
    {
      "cell_type": "markdown",
      "metadata": {
        "id": "tLCjVM9vsqeK"
      },
      "source": [
        "hyper parameters"
      ]
    },
    {
      "cell_type": "code",
      "execution_count": 46,
      "metadata": {
        "id": "LXMtsP_Isuyy"
      },
      "outputs": [],
      "source": [
        "# Set up the hyper-parameters to test\n",
        "parameters = {'vectorizer__max_features': (2000,5000,25000),\n",
        "              'vectorizer__ngram_range': [(1,1), (1,2)],\n",
        "              'classifier__penalty': ['l1', 'l2'],\n",
        "             }\n",
        "\n"
      ]
    },
    {
      "cell_type": "code",
      "execution_count": 47,
      "metadata": {
        "colab": {
          "base_uri": "https://localhost:8080/"
        },
        "id": "BJxs7eK4ZeHe",
        "outputId": "aba3fd7d-61a8-4fb6-cb6b-a61dbe640da7"
      },
      "outputs": [
        {
          "output_type": "stream",
          "name": "stdout",
          "text": [
            "With ngram range (1, 1) we get a vocabulary of size: 28004\n",
            "With ngram range (1, 2) we get a vocabulary of size: 271648\n",
            "With ngram range (1, 3) we get a vocabulary of size: 557051\n"
          ]
        }
      ],
      "source": [
        "# let's compare how many features we get in total when using only unigrams, or also bigrams and then also trigrams\n",
        "for ngram_range in [(1,1), (1,2), (1,3)]:\n",
        "  vec= TfidfVectorizer(ngram_range=ngram_range, lowercase=False, tokenizer=lambda x: x).fit(df_train['tokenized_text'])\n",
        "  print(f'With ngram range {ngram_range} we get a vocabulary of size: {len(vec.vocabulary_)}')\n"
      ]
    },
    {
      "cell_type": "markdown",
      "metadata": {
        "id": "6CrlHcwZ8lkF"
      },
      "source": [
        "Perform a CV search to get the best hyper parameter"
      ]
    },
    {
      "cell_type": "code",
      "execution_count": 48,
      "metadata": {
        "colab": {
          "base_uri": "https://localhost:8080/"
        },
        "id": "np9JJ4Jo8xOe",
        "outputId": "bc32371b-42b4-47c1-e345-73b6d39b7d35"
      },
      "outputs": [
        {
          "output_type": "stream",
          "name": "stdout",
          "text": [
            "Time taken to train gridsearch: 1221.89 seconds.\n"
          ]
        }
      ],
      "source": [
        "# create the GridSearch function\n",
        "# original data\n",
        "clf_search = GridSearchCV(clf_, parameters, scoring= \"accuracy\", cv= 5) #we can use accuracy here since the dataset is balanced\n",
        "\n",
        "# Fit all the possible hyper-parameters combinations using cross-validation.\n",
        "# It may take some time: be patient\n",
        "# original data\n",
        "# let's also time it (it's goint to take time, nothing's wrong!)\n",
        "t0 = tt()\n",
        "_ =clf_search.fit(df_train['tokenized_text'], train_category_label)\n",
        "print(f'Time taken to train gridsearch: {tt()-t0:.2f} seconds.')\n",
        "\n"
      ]
    },
    {
      "cell_type": "code",
      "execution_count": 49,
      "metadata": {
        "id": "HKScsgGpCa_2",
        "colab": {
          "base_uri": "https://localhost:8080/"
        },
        "outputId": "cad46982-8f51-42df-83c9-5201b920d294"
      },
      "outputs": [
        {
          "output_type": "stream",
          "name": "stdout",
          "text": [
            "0.9286789869952088 {'classifier__penalty': 'l2', 'vectorizer__max_features': 25000, 'vectorizer__ngram_range': (1, 2)}\n",
            "\n"
          ]
        }
      ],
      "source": [
        "#original data\n",
        "print(clf_search.best_score_, clf_search.best_params_)\n",
        "\n",
        "print()\n"
      ]
    },
    {
      "cell_type": "code",
      "execution_count": 50,
      "metadata": {
        "id": "znkyZxOXCpXo"
      },
      "outputs": [],
      "source": [
        "# original data\n",
        "clf_cv_results = pd.DataFrame(clf_search.cv_results_)\n"
      ]
    },
    {
      "cell_type": "code",
      "execution_count": 51,
      "metadata": {
        "id": "RzVHVjhOC8zW",
        "colab": {
          "base_uri": "https://localhost:8080/"
        },
        "outputId": "88eb528f-b987-459a-8e32-796aee644d32"
      },
      "outputs": [
        {
          "output_type": "stream",
          "name": "stdout",
          "text": [
            "    mean_test_score param_classifier__penalty param_vectorizer__max_features  \\\n",
            "0          0.900342                        l1                           2000   \n",
            "1          0.898836                        l1                           2000   \n",
            "2          0.911020                        l1                           5000   \n",
            "3          0.908830                        l1                           5000   \n",
            "4          0.909651                        l1                          25000   \n",
            "5          0.909788                        l1                          25000   \n",
            "6          0.905818                        l2                           2000   \n",
            "7          0.903765                        l2                           2000   \n",
            "8          0.920192                        l2                           5000   \n",
            "9          0.918412                        l2                           5000   \n",
            "10         0.927036                        l2                          25000   \n",
            "11         0.928679                        l2                          25000   \n",
            "\n",
            "   param_vectorizer__ngram_range  \\\n",
            "0                         (1, 1)   \n",
            "1                         (1, 2)   \n",
            "2                         (1, 1)   \n",
            "3                         (1, 2)   \n",
            "4                         (1, 1)   \n",
            "5                         (1, 2)   \n",
            "6                         (1, 1)   \n",
            "7                         (1, 2)   \n",
            "8                         (1, 1)   \n",
            "9                         (1, 2)   \n",
            "10                        (1, 1)   \n",
            "11                        (1, 2)   \n",
            "\n",
            "                                               params  \n",
            "0   {'classifier__penalty': 'l1', 'vectorizer__max...  \n",
            "1   {'classifier__penalty': 'l1', 'vectorizer__max...  \n",
            "2   {'classifier__penalty': 'l1', 'vectorizer__max...  \n",
            "3   {'classifier__penalty': 'l1', 'vectorizer__max...  \n",
            "4   {'classifier__penalty': 'l1', 'vectorizer__max...  \n",
            "5   {'classifier__penalty': 'l1', 'vectorizer__max...  \n",
            "6   {'classifier__penalty': 'l2', 'vectorizer__max...  \n",
            "7   {'classifier__penalty': 'l2', 'vectorizer__max...  \n",
            "8   {'classifier__penalty': 'l2', 'vectorizer__max...  \n",
            "9   {'classifier__penalty': 'l2', 'vectorizer__max...  \n",
            "10  {'classifier__penalty': 'l2', 'vectorizer__max...  \n",
            "11  {'classifier__penalty': 'l2', 'vectorizer__max...  \n"
          ]
        }
      ],
      "source": [
        "# let's show the dataframe\n",
        "print(clf_cv_results[['mean_test_score'] + [t for t in clf_cv_results.columns if 'param' in t]])"
      ]
    },
    {
      "cell_type": "code",
      "execution_count": 52,
      "metadata": {
        "id": "NU-4kJUhDLGE",
        "colab": {
          "base_uri": "https://localhost:8080/",
          "height": 479
        },
        "outputId": "effe7b29-f256-401a-ece8-d4bedeaed311"
      },
      "outputs": [
        {
          "output_type": "display_data",
          "data": {
            "text/plain": [
              "<Figure size 640x480 with 1 Axes>"
            ],
            "image/png": "[encoded data removed]"
          },
          "metadata": {}
        }
      ],
      "source": [
        "# we can plot the average crossed validated score for one individual hyper-parameter\n",
        "# groupby groups together all the rows with the same value of the hyper-parameter of interest\n",
        "df_group= clf_cv_results.groupby('param_vectorizer__max_features')\n",
        "# we average the cross validated score for each different value of the hyper-parameter\n",
        "avg_score = df_group.mean_test_score.agg('mean')\n",
        "# we plot the results\n",
        "ax =avg_score.plot(kind='bar')\n",
        "_ =plt.ylabel('Balanced accuracy')\n"
      ]
    },
    {
      "cell_type": "code",
      "execution_count": 53,
      "metadata": {
        "id": "hbO0dk1WDto1"
      },
      "outputs": [],
      "source": [
        "# Get the best estimator for further analysis of the results using the test set\n",
        "# Does it still perform well?\n",
        "best_clf = clf_search.best_estimator_\n"
      ]
    },
    {
      "cell_type": "markdown",
      "metadata": {
        "id": "lfmwf7PFD68r"
      },
      "source": [
        "Evaluation"
      ]
    },
    {
      "cell_type": "code",
      "execution_count": 54,
      "metadata": {
        "id": "opseqH5uD_BE",
        "colab": {
          "base_uri": "https://localhost:8080/",
          "height": 653
        },
        "outputId": "183fc0e5-da01-4c89-efc4-c08ea2696455"
      },
      "outputs": [
        {
          "output_type": "stream",
          "name": "stdout",
          "text": [
            "              precision    recall  f1-score   support\n",
            "\n",
            "           0       0.95      0.90      0.93       274\n",
            "           1       0.94      0.92      0.93       592\n",
            "           2       0.93      1.00      0.97        28\n",
            "           3       0.92      0.92      0.92       548\n",
            "           4       0.94      0.99      0.96       385\n",
            "\n",
            "    accuracy                           0.94      1827\n",
            "   macro avg       0.94      0.95      0.94      1827\n",
            "weighted avg       0.94      0.94      0.94      1827\n",
            "\n"
          ]
        },
        {
          "output_type": "display_data",
          "data": {
            "text/plain": [
              "<Figure size 640x480 with 2 Axes>"
            ],
            "image/png": "[encoded data removed]"
          },
          "metadata": {}
        }
      ],
      "source": [
        "# Compute predictions and evaluation metrics using the best estimator\n",
        "# original data\n",
        "y_pred = best_clf.predict(df_test['tokenized_text'])\n",
        "print(classification_report(test_category_label, y_pred))\n",
        "\n",
        "cm= ConfusionMatrixDisplay.from_estimator(best_clf, df_test['tokenized_text'], test_category_label)\n"
      ]
    },
    {
      "cell_type": "markdown",
      "metadata": {
        "id": "16sClnctUQBr"
      },
      "source": [
        "compared with a trivial baseline"
      ]
    },
    {
      "cell_type": "code",
      "execution_count": 55,
      "metadata": {
        "id": "NOatogbTUVsZ",
        "colab": {
          "base_uri": "https://localhost:8080/",
          "height": 653
        },
        "outputId": "42aec3ba-96b8-4e59-a8ef-1b577ab2c1e9"
      },
      "outputs": [
        {
          "output_type": "stream",
          "name": "stdout",
          "text": [
            "              precision    recall  f1-score   support\n",
            "\n",
            "           0       0.16      0.21      0.18       274\n",
            "           1       0.32      0.20      0.25       592\n",
            "           2       0.01      0.14      0.02        28\n",
            "           3       0.28      0.20      0.23       548\n",
            "           4       0.19      0.17      0.18       385\n",
            "\n",
            "    accuracy                           0.19      1827\n",
            "   macro avg       0.19      0.18      0.17      1827\n",
            "weighted avg       0.25      0.19      0.21      1827\n",
            "\n"
          ]
        },
        {
          "output_type": "display_data",
          "data": {
            "text/plain": [
              "<Figure size 640x480 with 2 Axes>"
            ],
            "image/png": "[encoded data removed]"
          },
          "metadata": {}
        }
      ],
      "source": [
        "from sklearn.dummy import DummyClassifier\n",
        "trivial_clf = DummyClassifier(strategy=\"uniform\")\n",
        "trivial_clf.fit(df_train['tokenized_text'], train_category_label)\n",
        "\n",
        "y_trivial = trivial_clf.predict(df_test['tokenized_text'])\n",
        "print(classification_report(test_category_label, y_trivial))\n",
        "\n",
        "cm= ConfusionMatrixDisplay.from_estimator(trivial_clf, df_test['tokenized_text'], test_category_label)\n"
      ]
    },
    {
      "cell_type": "markdown",
      "metadata": {
        "id": "FldLhJNbwlAr"
      },
      "source": [
        "Comparism with a different Hyper Parameter"
      ]
    },
    {
      "cell_type": "code",
      "execution_count": 56,
      "metadata": {
        "id": "ucHkxMolwwPH",
        "colab": {
          "base_uri": "https://localhost:8080/",
          "height": 1000
        },
        "outputId": "0be3bc20-fe02-4c74-c89d-57398ec18e1a"
      },
      "outputs": [
        {
          "output_type": "stream",
          "name": "stdout",
          "text": [
            "Time taken to train gridsearch: 498.26 seconds.\n",
            "    mean_test_score param_classifier__alpha param_vectorizer__max_features  \\\n",
            "0          0.882820                       0                           2000   \n",
            "1          0.885558                       0                           2000   \n",
            "2          0.883094                       0                           5000   \n",
            "3          0.890623                       0                           5000   \n",
            "4          0.883915                       0                          25000   \n",
            "5          0.899384                       0                          25000   \n",
            "6          0.897604                       1                           2000   \n",
            "7          0.898563                       1                           2000   \n",
            "8          0.909925                       1                           5000   \n",
            "9          0.909514                       1                           5000   \n",
            "10         0.914853                       1                          25000   \n",
            "11         0.918275                       1                          25000   \n",
            "\n",
            "   param_vectorizer__ngram_range  \\\n",
            "0                         (1, 1)   \n",
            "1                         (1, 2)   \n",
            "2                         (1, 1)   \n",
            "3                         (1, 2)   \n",
            "4                         (1, 1)   \n",
            "5                         (1, 2)   \n",
            "6                         (1, 1)   \n",
            "7                         (1, 2)   \n",
            "8                         (1, 1)   \n",
            "9                         (1, 2)   \n",
            "10                        (1, 1)   \n",
            "11                        (1, 2)   \n",
            "\n",
            "                                               params  \n",
            "0   {'classifier__alpha': 0, 'vectorizer__max_feat...  \n",
            "1   {'classifier__alpha': 0, 'vectorizer__max_feat...  \n",
            "2   {'classifier__alpha': 0, 'vectorizer__max_feat...  \n",
            "3   {'classifier__alpha': 0, 'vectorizer__max_feat...  \n",
            "4   {'classifier__alpha': 0, 'vectorizer__max_feat...  \n",
            "5   {'classifier__alpha': 0, 'vectorizer__max_feat...  \n",
            "6   {'classifier__alpha': 1, 'vectorizer__max_feat...  \n",
            "7   {'classifier__alpha': 1, 'vectorizer__max_feat...  \n",
            "8   {'classifier__alpha': 1, 'vectorizer__max_feat...  \n",
            "9   {'classifier__alpha': 1, 'vectorizer__max_feat...  \n",
            "10  {'classifier__alpha': 1, 'vectorizer__max_feat...  \n",
            "11  {'classifier__alpha': 1, 'vectorizer__max_feat...  \n",
            "              precision    recall  f1-score   support\n",
            "\n",
            "           0       0.88      0.91      0.89       274\n",
            "           1       0.92      0.89      0.91       592\n",
            "           2       0.96      0.96      0.96        28\n",
            "           3       0.90      0.90      0.90       548\n",
            "           4       0.95      0.97      0.96       385\n",
            "\n",
            "    accuracy                           0.91      1827\n",
            "   macro avg       0.92      0.93      0.92      1827\n",
            "weighted avg       0.91      0.91      0.91      1827\n",
            "\n"
          ]
        },
        {
          "output_type": "display_data",
          "data": {
            "text/plain": [
              "<Figure size 640x480 with 2 Axes>"
            ],
            "image/png": "[encoded data removed]"
          },
          "metadata": {}
        }
      ],
      "source": [
        "from sklearn.naive_bayes import MultinomialNB\n",
        "clf_ = Pipeline(\n",
        "        steps =[('vectorizer', CountVectorizer(lowercase= False, tokenizer =lambda x: x)),\n",
        "                ('to_dense', DenseTransformer()),\n",
        "              ('classifier', MultinomialNB()),\n",
        "      ]\n",
        "    )\n",
        "\n",
        "# let's define the parameters to try\n",
        "parameters = {'vectorizer__ngram_range': ((1,1),(1,2)),\n",
        "              'vectorizer__max_features': (2000,5000,25000),\n",
        "              'classifier__alpha': [0, 1],\n",
        "             }\n",
        "\n",
        "# create the GridSearch function\n",
        "# original data\n",
        "clf_search = GridSearchCV(clf_, parameters, scoring= \"accuracy\", cv= 5)\n",
        "\n",
        "# Fit all the possible hyper-parameters combinations using cross-validation: it may take some time\n",
        "# original data\n",
        "# let's also time it\n",
        "t0 = tt()\n",
        "_ =clf_search.fit(df_train['tokenized_text'], train_category_label)\n",
        "print(f'Time taken to train gridsearch: {tt()-t0:.2f} seconds.')\n",
        "\n",
        "clf_cv_results = pd.DataFrame(clf_search.cv_results_)\n",
        "#let's show the dataframe\n",
        "print(clf_cv_results[['mean_test_score'] + [t for t in clf_cv_results.columns if 'param' in t]])\n",
        "\n",
        "# Get the best estimator for further analysis of the results using the test set\n",
        "best_clf = clf_search.best_estimator_\n",
        "\n",
        "# Compute predictions and evaluation metrics using the best estimator\n",
        "# original data\n",
        "y_pred = best_clf.predict(df_test['tokenized_text'])\n",
        "print(classification_report(test_category_label, y_pred))\n",
        "\n",
        "cm= ConfusionMatrixDisplay.from_estimator(best_clf, df_test['tokenized_text'], test_category_label)\n",
        "\n"
      ]
    },
    {
      "cell_type": "markdown",
      "metadata": {
        "id": "KdGdlHMTIUmp"
      },
      "source": [
        "machine learning for the text clarity label"
      ]
    },
    {
      "cell_type": "code",
      "execution_count": 56,
      "metadata": {
        "id": "iEKS58i5Lz_o"
      },
      "outputs": [],
      "source": []
    },
    {
      "cell_type": "code",
      "execution_count": 72,
      "metadata": {
        "id": "W4-fS1yVZQwp"
      },
      "outputs": [],
      "source": [
        "# Define a function to determine text clarity based on specific criteria\n",
        "def determine_text_clarity(paragraph, has_entity, lexicon_count, difficult_words, last_editor_gender):\n",
        "\n",
        "\n",
        "    if  difficult_words <= 30:\n",
        "            return \"clear_enough\"\n",
        "\n",
        "    else:\n",
        "        return \"not_clear_enough\"\n",
        "\n",
        "\n",
        "# Create a new column for labels ('text_clarity') and fill it with randomly generated labels\n",
        "subset_data = df.head(n=100)\n",
        "\n",
        "# Apply the function to create a new column for labels ('text_clarity') based on the determined clarity\n",
        "subset_data['text_clarity'] = subset_data.apply(lambda row: determine_text_clarity(\n",
        "                                  row['paragraph'], row['has_entity'], row['lexicon_count'],\n",
        "                                      row['difficult_words'], row['last_editor_gender']), axis=1)\n",
        "\n",
        "# Update the 'text_clarity' column in your original DataFrame with the labels from the subset\n",
        "df.update(subset_data['text_clarity'])\n",
        "df.to_csv('labeled_data.csv', index=False)\n",
        "subset_data.to_csv('subset_data.csv', index=False)\n",
        "\n"
      ]
    },
    {
      "cell_type": "code",
      "execution_count": 58,
      "metadata": {
        "id": "12vO-YE2ZcZ_",
        "colab": {
          "base_uri": "https://localhost:8080/"
        },
        "outputId": "5db9344f-6d35-4f33-cdae-ff9da85b97b7"
      },
      "outputs": [
        {
          "output_type": "execute_result",
          "data": {
            "text/plain": [
              "clear_enough        76\n",
              "not_clear_enough    24\n",
              "Name: text_clarity, dtype: int64"
            ]
          },
          "metadata": {},
          "execution_count": 58
        }
      ],
      "source": [
        "subset_data['text_clarity'].value_counts()"
      ]
    },
    {
      "cell_type": "code",
      "execution_count": 59,
      "metadata": {
        "id": "aqZgUBbHU3pQ",
        "colab": {
          "base_uri": "https://localhost:8080/",
          "height": 598
        },
        "outputId": "c6dfd9b6-31c6-4111-d86a-7ad646ee6ddc"
      },
      "outputs": [
        {
          "output_type": "execute_result",
          "data": {
            "text/plain": [
              "         par_id                                          paragraph  \\\n",
              "0  428209002237  Ramsay was born in Glasgow on 2 October 1852. ...   \n",
              "1  564218010072  It has been widely estimated for at least the ...   \n",
              "2  291401001672  He went on to win the Royal Medal of the Royal...   \n",
              "3   31548004883  The changes have altered many underlying assum...   \n",
              "4   50634005146  After these novels were published, Disraeli de...   \n",
              "\n",
              "                        has_entity  lexicon_count  difficult_words  \\\n",
              "0   ORG_YES_PRODUCT_NO_PERSON_YES_             49             12.0   \n",
              "1    ORG_YES_PRODUCT_NO_PERSON_NO_            166             47.0   \n",
              "2    ORG_YES_PRODUCT_NO_PERSON_NO_             69             18.0   \n",
              "3    ORG_NO_PRODUCT_YES_PERSON_NO_             76             27.0   \n",
              "4  ORG_YES_PRODUCT_YES_PERSON_YES_            200             47.0   \n",
              "\n",
              "  last_editor_gender                 category      text_clarity  \n",
              "0                man              biographies      clear_enough  \n",
              "1                man  artificial intelligence  not_clear_enough  \n",
              "2         non-binary              biographies      clear_enough  \n",
              "3         non-binary              programming      clear_enough  \n",
              "4                man              biographies  not_clear_enough  "
            ],
            "text/html": [
              "\n",
              "  <div id=\"df-dd2f1a8b-72ea-4e10-bab3-1e7a7cfb037d\" class=\"colab-df-container\">\n",
              "    <div>\n",
              "<style scoped>\n",
              "    .dataframe tbody tr th:only-of-type {\n",
              "        vertical-align: middle;\n",
              "    }\n",
              "\n",
              "    .dataframe tbody tr th {\n",
              "        vertical-align: top;\n",
              "    }\n",
              "\n",
              "    .dataframe thead th {\n",
              "        text-align: right;\n",
              "    }\n",
              "</style>\n",
              "<table border=\"1\" class=\"dataframe\">\n",
              "  <thead>\n",
              "    <tr style=\"text-align: right;\">\n",
              "      <th></th>\n",
              "      <th>par_id</th>\n",
              "      <th>paragraph</th>\n",
              "      <th>has_entity</th>\n",
              "      <th>lexicon_count</th>\n",
              "      <th>difficult_words</th>\n",
              "      <th>last_editor_gender</th>\n",
              "      <th>category</th>\n",
              "      <th>text_clarity</th>\n",
              "    </tr>\n",
              "  </thead>\n",
              "  <tbody>\n",
              "    <tr>\n",
              "      <th>0</th>\n",
              "      <td>428209002237</td>\n",
              "      <td>Ramsay was born in Glasgow on 2 October 1852. ...</td>\n",
              "      <td>ORG_YES_PRODUCT_NO_PERSON_YES_</td>\n",
              "      <td>49</td>\n",
              "      <td>12.0</td>\n",
              "      <td>man</td>\n",
              "      <td>biographies</td>\n",
              "      <td>clear_enough</td>\n",
              "    </tr>\n",
              "    <tr>\n",
              "      <th>1</th>\n",
              "      <td>564218010072</td>\n",
              "      <td>It has been widely estimated for at least the ...</td>\n",
              "      <td>ORG_YES_PRODUCT_NO_PERSON_NO_</td>\n",
              "      <td>166</td>\n",
              "      <td>47.0</td>\n",
              "      <td>man</td>\n",
              "      <td>artificial intelligence</td>\n",
              "      <td>not_clear_enough</td>\n",
              "    </tr>\n",
              "    <tr>\n",
              "      <th>2</th>\n",
              "      <td>291401001672</td>\n",
              "      <td>He went on to win the Royal Medal of the Royal...</td>\n",
              "      <td>ORG_YES_PRODUCT_NO_PERSON_NO_</td>\n",
              "      <td>69</td>\n",
              "      <td>18.0</td>\n",
              "      <td>non-binary</td>\n",
              "      <td>biographies</td>\n",
              "      <td>clear_enough</td>\n",
              "    </tr>\n",
              "    <tr>\n",
              "      <th>3</th>\n",
              "      <td>31548004883</td>\n",
              "      <td>The changes have altered many underlying assum...</td>\n",
              "      <td>ORG_NO_PRODUCT_YES_PERSON_NO_</td>\n",
              "      <td>76</td>\n",
              "      <td>27.0</td>\n",
              "      <td>non-binary</td>\n",
              "      <td>programming</td>\n",
              "      <td>clear_enough</td>\n",
              "    </tr>\n",
              "    <tr>\n",
              "      <th>4</th>\n",
              "      <td>50634005146</td>\n",
              "      <td>After these novels were published, Disraeli de...</td>\n",
              "      <td>ORG_YES_PRODUCT_YES_PERSON_YES_</td>\n",
              "      <td>200</td>\n",
              "      <td>47.0</td>\n",
              "      <td>man</td>\n",
              "      <td>biographies</td>\n",
              "      <td>not_clear_enough</td>\n",
              "    </tr>\n",
              "  </tbody>\n",
              "</table>\n",
              "</div>\n",
              "    <div class=\"colab-df-buttons\">\n",
              "\n",
              "  <div class=\"colab-df-container\">\n",
              "    <button class=\"colab-df-convert\" onclick=\"convertToInteractive('df-dd2f1a8b-72ea-4e10-bab3-1e7a7cfb037d')\"\n",
              "            title=\"Convert this dataframe to an interactive table.\"\n",
              "            style=\"display:none;\">\n",
              "\n",
              "  <svg xmlns=\"http://www.w3.org/2000/svg\" height=\"24px\" viewBox=\"0 -960 960 960\">\n",
              "    <path d=\"M120-120v-720h720v720H120Zm60-500h600v-160H180v160Zm220 220h160v-160H400v160Zm0 220h160v-160H400v160ZM180-400h160v-160H180v160Zm440 0h160v-160H620v160ZM180-180h160v-160H180v160Zm440 0h160v-160H620v160Z\"/>\n",
              "  </svg>\n",
              "    </button>\n",
              "\n",
              "  <style>\n",
              "    .colab-df-container {\n",
              "      display:flex;\n",
              "      gap: 12px;\n",
              "    }\n",
              "\n",
              "    .colab-df-convert {\n",
              "      background-color: #E8F0FE;\n",
              "      border: none;\n",
              "      border-radius: 50%;\n",
              "      cursor: pointer;\n",
              "      display: none;\n",
              "      fill: #1967D2;\n",
              "      height: 32px;\n",
              "      padding: 0 0 0 0;\n",
              "      width: 32px;\n",
              "    }\n",
              "\n",
              "    .colab-df-convert:hover {\n",
              "      background-color: #E2EBFA;\n",
              "      box-shadow: 0px 1px 2px rgba(60, 64, 67, 0.3), 0px 1px 3px 1px rgba(60, 64, 67, 0.15);\n",
              "      fill: #174EA6;\n",
              "    }\n",
              "\n",
              "    .colab-df-buttons div {\n",
              "      margin-bottom: 4px;\n",
              "    }\n",
              "\n",
              "    [theme=dark] .colab-df-convert {\n",
              "      background-color: #3B4455;\n",
              "      fill: #D2E3FC;\n",
              "    }\n",
              "\n",
              "    [theme=dark] .colab-df-convert:hover {\n",
              "      background-color: #434B5C;\n",
              "      box-shadow: 0px 1px 3px 1px rgba(0, 0, 0, 0.15);\n",
              "      filter: drop-shadow(0px 1px 2px rgba(0, 0, 0, 0.3));\n",
              "      fill: #FFFFFF;\n",
              "    }\n",
              "  </style>\n",
              "\n",
              "    <script>\n",
              "      const buttonEl =\n",
              "        document.querySelector('#df-dd2f1a8b-72ea-4e10-bab3-1e7a7cfb037d button.colab-df-convert');\n",
              "      buttonEl.style.display =\n",
              "        google.colab.kernel.accessAllowed ? 'block' : 'none';\n",
              "\n",
              "      async function convertToInteractive(key) {\n",
              "        const element = document.querySelector('#df-dd2f1a8b-72ea-4e10-bab3-1e7a7cfb037d');\n",
              "        const dataTable =\n",
              "          await google.colab.kernel.invokeFunction('convertToInteractive',\n",
              "                                                    [key], {});\n",
              "        if (!dataTable) return;\n",
              "\n",
              "        const docLinkHtml = 'Like what you see? Visit the ' +\n",
              "          '<a target=\"_blank\" href=https://colab.research.google.com/notebooks/data_table.ipynb>data table notebook</a>'\n",
              "          + ' to learn more about interactive tables.';\n",
              "        element.innerHTML = '';\n",
              "        dataTable['output_type'] = 'display_data';\n",
              "        await google.colab.output.renderOutput(dataTable, element);\n",
              "        const docLink = document.createElement('div');\n",
              "        docLink.innerHTML = docLinkHtml;\n",
              "        element.appendChild(docLink);\n",
              "      }\n",
              "    </script>\n",
              "  </div>\n",
              "\n",
              "\n",
              "<div id=\"df-e79e0418-83bb-4e5d-abe4-79fbafd6e18b\">\n",
              "  <button class=\"colab-df-quickchart\" onclick=\"quickchart('df-e79e0418-83bb-4e5d-abe4-79fbafd6e18b')\"\n",
              "            title=\"Suggest charts\"\n",
              "            style=\"display:none;\">\n",
              "\n",
              "<svg xmlns=\"http://www.w3.org/2000/svg\" height=\"24px\"viewBox=\"0 0 24 24\"\n",
              "     width=\"24px\">\n",
              "    <g>\n",
              "        <path d=\"M19 3H5c-1.1 0-2 .9-2 2v14c0 1.1.9 2 2 2h14c1.1 0 2-.9 2-2V5c0-1.1-.9-2-2-2zM9 17H7v-7h2v7zm4 0h-2V7h2v10zm4 0h-2v-4h2v4z\"/>\n",
              "    </g>\n",
              "</svg>\n",
              "  </button>\n",
              "\n",
              "<style>\n",
              "  .colab-df-quickchart {\n",
              "      --bg-color: #E8F0FE;\n",
              "      --fill-color: #1967D2;\n",
              "      --hover-bg-color: #E2EBFA;\n",
              "      --hover-fill-color: #174EA6;\n",
              "      --disabled-fill-color: #AAA;\n",
              "      --disabled-bg-color: #DDD;\n",
              "  }\n",
              "\n",
              "  [theme=dark] .colab-df-quickchart {\n",
              "      --bg-color: #3B4455;\n",
              "      --fill-color: #D2E3FC;\n",
              "      --hover-bg-color: #434B5C;\n",
              "      --hover-fill-color: #FFFFFF;\n",
              "      --disabled-bg-color: #3B4455;\n",
              "      --disabled-fill-color: #666;\n",
              "  }\n",
              "\n",
              "  .colab-df-quickchart {\n",
              "    background-color: var(--bg-color);\n",
              "    border: none;\n",
              "    border-radius: 50%;\n",
              "    cursor: pointer;\n",
              "    display: none;\n",
              "    fill: var(--fill-color);\n",
              "    height: 32px;\n",
              "    padding: 0;\n",
              "    width: 32px;\n",
              "  }\n",
              "\n",
              "  .colab-df-quickchart:hover {\n",
              "    background-color: var(--hover-bg-color);\n",
              "    box-shadow: 0 1px 2px rgba(60, 64, 67, 0.3), 0 1px 3px 1px rgba(60, 64, 67, 0.15);\n",
              "    fill: var(--button-hover-fill-color);\n",
              "  }\n",
              "\n",
              "  .colab-df-quickchart-complete:disabled,\n",
              "  .colab-df-quickchart-complete:disabled:hover {\n",
              "    background-color: var(--disabled-bg-color);\n",
              "    fill: var(--disabled-fill-color);\n",
              "    box-shadow: none;\n",
              "  }\n",
              "\n",
              "  .colab-df-spinner {\n",
              "    border: 2px solid var(--fill-color);\n",
              "    border-color: transparent;\n",
              "    border-bottom-color: var(--fill-color);\n",
              "    animation:\n",
              "      spin 1s steps(1) infinite;\n",
              "  }\n",
              "\n",
              "  @keyframes spin {\n",
              "    0% {\n",
              "      border-color: transparent;\n",
              "      border-bottom-color: var(--fill-color);\n",
              "      border-left-color: var(--fill-color);\n",
              "    }\n",
              "    20% {\n",
              "      border-color: transparent;\n",
              "      border-left-color: var(--fill-color);\n",
              "      border-top-color: var(--fill-color);\n",
              "    }\n",
              "    30% {\n",
              "      border-color: transparent;\n",
              "      border-left-color: var(--fill-color);\n",
              "      border-top-color: var(--fill-color);\n",
              "      border-right-color: var(--fill-color);\n",
              "    }\n",
              "    40% {\n",
              "      border-color: transparent;\n",
              "      border-right-color: var(--fill-color);\n",
              "      border-top-color: var(--fill-color);\n",
              "    }\n",
              "    60% {\n",
              "      border-color: transparent;\n",
              "      border-right-color: var(--fill-color);\n",
              "    }\n",
              "    80% {\n",
              "      border-color: transparent;\n",
              "      border-right-color: var(--fill-color);\n",
              "      border-bottom-color: var(--fill-color);\n",
              "    }\n",
              "    90% {\n",
              "      border-color: transparent;\n",
              "      border-bottom-color: var(--fill-color);\n",
              "    }\n",
              "  }\n",
              "</style>\n",
              "\n",
              "  <script>\n",
              "    async function quickchart(key) {\n",
              "      const quickchartButtonEl =\n",
              "        document.querySelector('#' + key + ' button');\n",
              "      quickchartButtonEl.disabled = true;  // To prevent multiple clicks.\n",
              "      quickchartButtonEl.classList.add('colab-df-spinner');\n",
              "      try {\n",
              "        const charts = await google.colab.kernel.invokeFunction(\n",
              "            'suggestCharts', [key], {});\n",
              "      } catch (error) {\n",
              "        console.error('Error during call to suggestCharts:', error);\n",
              "      }\n",
              "      quickchartButtonEl.classList.remove('colab-df-spinner');\n",
              "      quickchartButtonEl.classList.add('colab-df-quickchart-complete');\n",
              "    }\n",
              "    (() => {\n",
              "      let quickchartButtonEl =\n",
              "        document.querySelector('#df-e79e0418-83bb-4e5d-abe4-79fbafd6e18b button');\n",
              "      quickchartButtonEl.style.display =\n",
              "        google.colab.kernel.accessAllowed ? 'block' : 'none';\n",
              "    })();\n",
              "  </script>\n",
              "</div>\n",
              "    </div>\n",
              "  </div>\n"
            ],
            "application/vnd.google.colaboratory.intrinsic+json": {
              "type": "dataframe",
              "variable_name": "subset_data",
              "summary": "{\n  \"name\": \"subset_data\",\n  \"rows\": 100,\n  \"fields\": [\n    {\n      \"column\": \"par_id\",\n      \"properties\": {\n        \"dtype\": \"number\",\n        \"std\": 290133916881,\n        \"min\": 522003324,\n        \"max\": 1041042013010,\n        \"num_unique_values\": 100,\n        \"samples\": [\n          6360003776,\n          399203009399,\n          835066011824\n        ],\n        \"semantic_type\": \"\",\n        \"description\": \"\"\n      }\n    },\n    {\n      \"column\": \"paragraph\",\n      \"properties\": {\n        \"dtype\": \"string\",\n        \"num_unique_values\": 100,\n        \"samples\": [\n          \"Many problems in AI  require the agent to operate with incomplete or uncertain information. AI researchers have devised a number of tools to solve these problems using methods from probability theory and economics.Bayesian networks\",\n          \"Second, continental philosophy usually considers experience as determined at least partly by factors such as context, space and time, language, culture, or history. Thus continental philosophy tends toward historicism, where analytic philosophy tends to treat philosophy in terms of discrete problems, capable of being analyzed apart from their historical origins.\",\n          \"Kotlin provides the following keywords to restrict visibility for top-level declaration, such as classes, and for class members: public, internal, protected, and private.\"\n        ],\n        \"semantic_type\": \"\",\n        \"description\": \"\"\n      }\n    },\n    {\n      \"column\": \"has_entity\",\n      \"properties\": {\n        \"dtype\": \"category\",\n        \"num_unique_values\": 6,\n        \"samples\": [\n          \"ORG_YES_PRODUCT_NO_PERSON_YES_\",\n          \"ORG_YES_PRODUCT_NO_PERSON_NO_\",\n          \"ORG_NO_PRODUCT_YES_PERSON_YES_\"\n        ],\n        \"semantic_type\": \"\",\n        \"description\": \"\"\n      }\n    },\n    {\n      \"column\": \"lexicon_count\",\n      \"properties\": {\n        \"dtype\": \"number\",\n        \"std\": 54,\n        \"min\": 15,\n        \"max\": 267,\n        \"num_unique_values\": 75,\n        \"samples\": [\n          200,\n          92,\n          70\n        ],\n        \"semantic_type\": \"\",\n        \"description\": \"\"\n      }\n    },\n    {\n      \"column\": \"difficult_words\",\n      \"properties\": {\n        \"dtype\": \"number\",\n        \"std\": 13.647734819268134,\n        \"min\": 2.0,\n        \"max\": 60.0,\n        \"num_unique_values\": 42,\n        \"samples\": [\n          25.0,\n          26.0,\n          22.0\n        ],\n        \"semantic_type\": \"\",\n        \"description\": \"\"\n      }\n    },\n    {\n      \"column\": \"last_editor_gender\",\n      \"properties\": {\n        \"dtype\": \"category\",\n        \"num_unique_values\": 4,\n        \"samples\": [\n          \"non-binary\",\n          \"prefer_not_to_say\",\n          \"man\"\n        ],\n        \"semantic_type\": \"\",\n        \"description\": \"\"\n      }\n    },\n    {\n      \"column\": \"category\",\n      \"properties\": {\n        \"dtype\": \"category\",\n        \"num_unique_values\": 5,\n        \"samples\": [\n          \"artificial intelligence\",\n          \"movies about artificial intelligence\",\n          \"programming\"\n        ],\n        \"semantic_type\": \"\",\n        \"description\": \"\"\n      }\n    },\n    {\n      \"column\": \"text_clarity\",\n      \"properties\": {\n        \"dtype\": \"category\",\n        \"num_unique_values\": 2,\n        \"samples\": [\n          \"not_clear_enough\",\n          \"clear_enough\"\n        ],\n        \"semantic_type\": \"\",\n        \"description\": \"\"\n      }\n    }\n  ]\n}"
            }
          },
          "metadata": {},
          "execution_count": 59
        }
      ],
      "source": [
        "subset_data.head(5)"
      ]
    },
    {
      "cell_type": "code",
      "execution_count": 60,
      "metadata": {
        "id": "i7zks0TiVcz_"
      },
      "outputs": [],
      "source": [
        "subset_data=subset_data.drop(columns= 'lexicon_count')\n",
        "subset_data=subset_data.drop(columns= 'difficult_words')\n",
        "subset_data=subset_data.drop(columns= 'last_editor_gender')\n",
        "subset_data=subset_data.drop(columns= 'category')\n",
        "subset_data=subset_data.drop(columns= 'par_id')\n"
      ]
    },
    {
      "cell_type": "markdown",
      "metadata": {
        "id": "52fXmiBKYjlG"
      },
      "source": [
        "encoding"
      ]
    },
    {
      "cell_type": "code",
      "execution_count": 61,
      "metadata": {
        "id": "J8zvcrouYntZ"
      },
      "outputs": [],
      "source": [
        "ct_has = ColumnTransformer(\n",
        "    [\n",
        "        (\n",
        "            \"onehot_categorical\", # --> name of the transformation\n",
        "            OneHotEncoder(), # --> main function to apply\n",
        "            [\"has_entity\"], #-->columns to apply it to\n",
        "        ),\n",
        "    ],\n",
        "    remainder=\"passthrough\", #--> what to do with the non-transformed columns. passthrough=keep them\n",
        "    verbose_feature_names_out=False\n",
        ")\n",
        "\n",
        "# the output is an ARRAY with the encoded columns.\n",
        "encoded_array= ct_has.fit_transform(subset_data)\n",
        "\n",
        "# What if we want a dataframe back? We can combine the array with the info about\n",
        "# the column names stored in ct.get_feature_names_out()\n",
        "encoded_col_names= ct_has.get_feature_names_out()\n",
        "\n",
        "\n",
        "subset_data= pd.DataFrame(encoded_array, columns=encoded_col_names)\n",
        "\n",
        "\n"
      ]
    },
    {
      "cell_type": "code",
      "execution_count": 62,
      "metadata": {
        "id": "xbeXKd6cdK7s"
      },
      "outputs": [],
      "source": [
        "# create an object of the LabelEncoder class\n",
        "lblEncoder_Y = LabelEncoder()\n",
        "# apply LblEncoder object to our training variables\n",
        "lblEncoder_Y = lblEncoder_Y.fit(subset_data['text_clarity'])\n",
        "clarity_label = lblEncoder_Y.transform(subset_data['text_clarity'])\n"
      ]
    },
    {
      "cell_type": "code",
      "execution_count": 63,
      "metadata": {
        "id": "j8QW8f_3eeLA"
      },
      "outputs": [],
      "source": [
        "subset_data['clean_text']= subset_data['paragraph'].apply(clean_text)\n",
        "subset_data['tokenized_text'] = subset_data['clean_text'].apply(preprocess_text_with_spacy)"
      ]
    },
    {
      "cell_type": "code",
      "execution_count": 64,
      "metadata": {
        "id": "rH4xjN6SgIks"
      },
      "outputs": [],
      "source": [
        "subset_data=subset_data.drop(columns= 'paragraph')\n",
        "subset_data=subset_data.drop(columns= 'text_clarity')\n",
        "subset_data=subset_data.drop(columns= 'clean_text')"
      ]
    },
    {
      "cell_type": "markdown",
      "metadata": {
        "id": "7n6kKoMtfo5j"
      },
      "source": [
        "Machine Learining pipeline"
      ]
    },
    {
      "cell_type": "code",
      "execution_count": 65,
      "metadata": {
        "id": "j1o4tniBf50b"
      },
      "outputs": [],
      "source": [
        "# Step 2: Building a Prototype\n",
        "# Extract relevant features from the text data\n",
        "X = subset_data\n",
        "y = clarity_label\n",
        "\n",
        "# Split the dataset into training, validation, and testing sets\n",
        "X_train, X_test, y_train, y_test = train_test_split(X, y, test_size=0.2, random_state=42)\n"
      ]
    },
    {
      "cell_type": "code",
      "execution_count": 66,
      "metadata": {
        "id": "4Won_mS0fu4q",
        "colab": {
          "base_uri": "https://localhost:8080/"
        },
        "outputId": "2501f1fb-7668-4b53-cc58-6d92b2c0a7c3"
      },
      "outputs": [
        {
          "output_type": "stream",
          "name": "stdout",
          "text": [
            "Time taken to train gridsearch: 0.85 seconds.\n"
          ]
        }
      ],
      "source": [
        "clf_search = GridSearchCV(clf_, parameters, scoring= \"accuracy\", cv= 5) #we can use accuracy here since the dataset is balanced\n",
        "\n",
        "# Fit all the possible hyper-parameters combinations using cross-validation.\n",
        "# It may take some time: be patient\n",
        "# original data\n",
        "# let's also time it (it's goint to take time, nothing's wrong!)\n",
        "t0 = tt()\n",
        "_ =clf_search.fit(X_train['tokenized_text'], y_train)\n",
        "print(f'Time taken to train gridsearch: {tt()-t0:.2f} seconds.')\n"
      ]
    },
    {
      "cell_type": "code",
      "execution_count": 67,
      "metadata": {
        "id": "o65L28xLiqqx",
        "colab": {
          "base_uri": "https://localhost:8080/"
        },
        "outputId": "639bebff-344f-4a73-bc1e-24700e00b469"
      },
      "outputs": [
        {
          "output_type": "stream",
          "name": "stdout",
          "text": [
            "0.625 {'classifier__alpha': 1, 'vectorizer__max_features': 2000, 'vectorizer__ngram_range': (1, 2)}\n"
          ]
        }
      ],
      "source": [
        "print(clf_search.best_score_, clf_search.best_params_)\n"
      ]
    },
    {
      "cell_type": "code",
      "execution_count": 68,
      "metadata": {
        "id": "F5w4ZrC-i_V_"
      },
      "outputs": [],
      "source": [
        "clf_cv_results = pd.DataFrame(clf_search.cv_results_)\n"
      ]
    },
    {
      "cell_type": "code",
      "execution_count": 69,
      "metadata": {
        "id": "9t1a75x8jICv",
        "colab": {
          "base_uri": "https://localhost:8080/"
        },
        "outputId": "d2c53a66-8e8b-402c-bf85-ddefe86145c5"
      },
      "outputs": [
        {
          "output_type": "stream",
          "name": "stdout",
          "text": [
            "    mean_test_score param_classifier__alpha param_vectorizer__max_features  \\\n",
            "0            0.4875                       0                           2000   \n",
            "1            0.5250                       0                           2000   \n",
            "2            0.4875                       0                           5000   \n",
            "3            0.4750                       0                           5000   \n",
            "4            0.4875                       0                          25000   \n",
            "5            0.4750                       0                          25000   \n",
            "6            0.5625                       1                           2000   \n",
            "7            0.6250                       1                           2000   \n",
            "8            0.5625                       1                           5000   \n",
            "9            0.5500                       1                           5000   \n",
            "10           0.5625                       1                          25000   \n",
            "11           0.5500                       1                          25000   \n",
            "\n",
            "   param_vectorizer__ngram_range  \\\n",
            "0                         (1, 1)   \n",
            "1                         (1, 2)   \n",
            "2                         (1, 1)   \n",
            "3                         (1, 2)   \n",
            "4                         (1, 1)   \n",
            "5                         (1, 2)   \n",
            "6                         (1, 1)   \n",
            "7                         (1, 2)   \n",
            "8                         (1, 1)   \n",
            "9                         (1, 2)   \n",
            "10                        (1, 1)   \n",
            "11                        (1, 2)   \n",
            "\n",
            "                                               params  \n",
            "0   {'classifier__alpha': 0, 'vectorizer__max_feat...  \n",
            "1   {'classifier__alpha': 0, 'vectorizer__max_feat...  \n",
            "2   {'classifier__alpha': 0, 'vectorizer__max_feat...  \n",
            "3   {'classifier__alpha': 0, 'vectorizer__max_feat...  \n",
            "4   {'classifier__alpha': 0, 'vectorizer__max_feat...  \n",
            "5   {'classifier__alpha': 0, 'vectorizer__max_feat...  \n",
            "6   {'classifier__alpha': 1, 'vectorizer__max_feat...  \n",
            "7   {'classifier__alpha': 1, 'vectorizer__max_feat...  \n",
            "8   {'classifier__alpha': 1, 'vectorizer__max_feat...  \n",
            "9   {'classifier__alpha': 1, 'vectorizer__max_feat...  \n",
            "10  {'classifier__alpha': 1, 'vectorizer__max_feat...  \n",
            "11  {'classifier__alpha': 1, 'vectorizer__max_feat...  \n"
          ]
        }
      ],
      "source": [
        "#let's show the dataframe\n",
        "print(clf_cv_results[['mean_test_score'] + [t for t in clf_cv_results.columns if 'param' in t]])"
      ]
    },
    {
      "cell_type": "code",
      "execution_count": 70,
      "metadata": {
        "id": "-Qq2Cu9GjyAc"
      },
      "outputs": [],
      "source": [
        "# Get the best estimator for further analysis of the results using the test set\n",
        "# Does it still perform well?\n",
        "best_clf = clf_search.best_estimator_\n"
      ]
    },
    {
      "cell_type": "code",
      "execution_count": 71,
      "metadata": {
        "id": "GUUVolVpkpgC",
        "colab": {
          "base_uri": "https://localhost:8080/",
          "height": 602
        },
        "outputId": "ff0b104f-7216-45bc-f78e-507d0c4e735f"
      },
      "outputs": [
        {
          "output_type": "stream",
          "name": "stdout",
          "text": [
            "              precision    recall  f1-score   support\n",
            "\n",
            "           0       1.00      0.83      0.91        18\n",
            "           1       0.40      1.00      0.57         2\n",
            "\n",
            "    accuracy                           0.85        20\n",
            "   macro avg       0.70      0.92      0.74        20\n",
            "weighted avg       0.94      0.85      0.88        20\n",
            "\n"
          ]
        },
        {
          "output_type": "display_data",
          "data": {
            "text/plain": [
              "<Figure size 640x480 with 2 Axes>"
            ],
            "image/png": "[encoded data removed]"
          },
          "metadata": {}
        }
      ],
      "source": [
        "# Compute predictions and evaluation metrics using the best estimator\n",
        "# original data\n",
        "y_pred = best_clf.predict(X_test['tokenized_text'])\n",
        "print(classification_report(y_test, y_pred))\n",
        "\n",
        "cm= ConfusionMatrixDisplay.from_estimator(best_clf, X_test['tokenized_text'], y_test)"
      ]
    }
  ],
  "metadata": {
    "colab": {
      "provenance": []
    },
    "kernelspec": {
      "display_name": "Python 3",
      "name": "python3"
    },
    "language_info": {
      "name": "python"
    }
  },
  "nbformat": 4,
  "nbformat_minor": 0
}